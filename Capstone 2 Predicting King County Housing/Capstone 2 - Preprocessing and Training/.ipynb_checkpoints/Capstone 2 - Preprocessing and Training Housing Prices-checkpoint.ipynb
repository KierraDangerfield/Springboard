{
 "cells": [
  {
   "cell_type": "markdown",
   "id": "e79362fd",
   "metadata": {},
   "source": [
    "# Predict House Prices in King County, Washington  \n",
    "\n",
    "## Overview \n",
    "\n",
    "King County, Washington is the most populous county in Washington. It is also the 12th most populous in the United States. Washington's most populous city is Seattle.\n",
    "\n",
    "Our goal is to predict the price of a house based on houses sold between May 2014 to May 2015 in King County, Washington State, USA.  "
   ]
  },
  {
   "cell_type": "code",
   "execution_count": 1,
   "id": "fb4c6273",
   "metadata": {},
   "outputs": [],
   "source": [
    "import opendatasets as od\n",
    "from sklearn import linear_model\n",
    "\n",
    "import pandas as pd\n",
    "import numpy as np\n",
    "import os\n",
    "import pickle\n",
    "import matplotlib.pyplot as plt\n",
    "import seaborn as sns\n",
    "from sklearn import __version__ as sklearn_version\n",
    "from sklearn.decomposition import PCA\n",
    "from sklearn.preprocessing import scale\n",
    "from sklearn.model_selection import train_test_split, cross_validate, GridSearchCV, learning_curve\n",
    "from sklearn.preprocessing import StandardScaler, MinMaxScaler\n",
    "from sklearn.dummy import DummyRegressor\n",
    "from sklearn.linear_model import LinearRegression\n",
    "from sklearn.ensemble import RandomForestRegressor\n",
    "from sklearn.metrics import r2_score, mean_squared_error, mean_absolute_error\n",
    "from sklearn.pipeline import make_pipeline\n",
    "from sklearn.impute import SimpleImputer\n",
    "from sklearn.feature_selection import SelectKBest, f_regression\n",
    "import datetime"
   ]
  },
  {
   "cell_type": "markdown",
   "id": "6bacd658",
   "metadata": {},
   "source": [
    "# 1. Data Wrangling\n",
    "\n",
    "## 1.1 Collect"
   ]
  },
  {
   "cell_type": "code",
   "execution_count": 2,
   "id": "fd131274",
   "metadata": {},
   "outputs": [
    {
     "name": "stdout",
     "output_type": "stream",
     "text": [
      "Skipping, found downloaded files in \"./kc-house-data\" (use force=True to force download)\n"
     ]
    }
   ],
   "source": [
    "#get the data from API\n",
    "#https://www.kaggle.com/swathiachath/kc-housesales-data > data with explanations \n",
    "housingAPI = od.download(\"https://www.kaggle.com/shivachandel/kc-house-data\")"
   ]
  },
  {
   "cell_type": "code",
   "execution_count": 3,
   "id": "4313f870",
   "metadata": {},
   "outputs": [],
   "source": [
    "#get the data and read it \n",
    "housingData = pd.read_csv('./kc-house-data/kc_house_data.csv')"
   ]
  },
  {
   "cell_type": "markdown",
   "id": "cf07f7c5",
   "metadata": {},
   "source": [
    "## 1.2 Clean and Organize Data"
   ]
  },
  {
   "cell_type": "code",
   "execution_count": 4,
   "id": "a091f2b6",
   "metadata": {},
   "outputs": [
    {
     "name": "stdout",
     "output_type": "stream",
     "text": [
      "Empty DataFrame\n",
      "Columns: [id, date, price, bedrooms, bathrooms, sqft_living, sqft_lot, floors, waterfront, view, condition, grade, sqft_above, sqft_basement, yr_built, yr_renovated, zipcode, lat, long, sqft_living15, sqft_lot15]\n",
      "Index: []\n",
      "\n",
      "[0 rows x 21 columns]\n"
     ]
    }
   ],
   "source": [
    "#check for duplicates\n",
    "housingData.duplicated()\n",
    "\n",
    "duplicate = housingData[housingData.duplicated()]\n",
    "print(duplicate)"
   ]
  },
  {
   "cell_type": "code",
   "execution_count": 5,
   "id": "27ad2925",
   "metadata": {},
   "outputs": [
    {
     "data": {
      "text/html": [
       "<div>\n",
       "<style scoped>\n",
       "    .dataframe tbody tr th:only-of-type {\n",
       "        vertical-align: middle;\n",
       "    }\n",
       "\n",
       "    .dataframe tbody tr th {\n",
       "        vertical-align: top;\n",
       "    }\n",
       "\n",
       "    .dataframe thead th {\n",
       "        text-align: right;\n",
       "    }\n",
       "</style>\n",
       "<table border=\"1\" class=\"dataframe\">\n",
       "  <thead>\n",
       "    <tr style=\"text-align: right;\">\n",
       "      <th></th>\n",
       "      <th>id</th>\n",
       "      <th>date</th>\n",
       "      <th>price</th>\n",
       "      <th>bedrooms</th>\n",
       "      <th>bathrooms</th>\n",
       "      <th>sqft_living</th>\n",
       "      <th>sqft_lot</th>\n",
       "      <th>floors</th>\n",
       "      <th>waterfront</th>\n",
       "      <th>view</th>\n",
       "      <th>...</th>\n",
       "      <th>grade</th>\n",
       "      <th>sqft_above</th>\n",
       "      <th>sqft_basement</th>\n",
       "      <th>yr_built</th>\n",
       "      <th>yr_renovated</th>\n",
       "      <th>zipcode</th>\n",
       "      <th>lat</th>\n",
       "      <th>long</th>\n",
       "      <th>sqft_living15</th>\n",
       "      <th>sqft_lot15</th>\n",
       "    </tr>\n",
       "  </thead>\n",
       "  <tbody>\n",
       "    <tr>\n",
       "      <th>10</th>\n",
       "      <td>1736800520</td>\n",
       "      <td>20150403T000000</td>\n",
       "      <td>662500.0</td>\n",
       "      <td>3</td>\n",
       "      <td>2.5</td>\n",
       "      <td>3560</td>\n",
       "      <td>9796</td>\n",
       "      <td>1.0</td>\n",
       "      <td>0</td>\n",
       "      <td>0</td>\n",
       "      <td>...</td>\n",
       "      <td>8</td>\n",
       "      <td>NaN</td>\n",
       "      <td>1700</td>\n",
       "      <td>1965</td>\n",
       "      <td>0</td>\n",
       "      <td>98007</td>\n",
       "      <td>47.6007</td>\n",
       "      <td>-122.145</td>\n",
       "      <td>2210</td>\n",
       "      <td>8925</td>\n",
       "    </tr>\n",
       "    <tr>\n",
       "      <th>17</th>\n",
       "      <td>6865200140</td>\n",
       "      <td>20140529T000000</td>\n",
       "      <td>485000.0</td>\n",
       "      <td>4</td>\n",
       "      <td>1.0</td>\n",
       "      <td>1600</td>\n",
       "      <td>4300</td>\n",
       "      <td>1.5</td>\n",
       "      <td>0</td>\n",
       "      <td>0</td>\n",
       "      <td>...</td>\n",
       "      <td>7</td>\n",
       "      <td>NaN</td>\n",
       "      <td>0</td>\n",
       "      <td>1916</td>\n",
       "      <td>0</td>\n",
       "      <td>98103</td>\n",
       "      <td>47.6648</td>\n",
       "      <td>-122.343</td>\n",
       "      <td>1610</td>\n",
       "      <td>4300</td>\n",
       "    </tr>\n",
       "  </tbody>\n",
       "</table>\n",
       "<p>2 rows × 21 columns</p>\n",
       "</div>"
      ],
      "text/plain": [
       "            id             date     price  bedrooms  bathrooms  sqft_living  \\\n",
       "10  1736800520  20150403T000000  662500.0         3        2.5         3560   \n",
       "17  6865200140  20140529T000000  485000.0         4        1.0         1600   \n",
       "\n",
       "    sqft_lot  floors  waterfront  view  ...  grade  sqft_above  sqft_basement  \\\n",
       "10      9796     1.0           0     0  ...      8         NaN           1700   \n",
       "17      4300     1.5           0     0  ...      7         NaN              0   \n",
       "\n",
       "    yr_built  yr_renovated  zipcode      lat     long  sqft_living15  \\\n",
       "10      1965             0    98007  47.6007 -122.145           2210   \n",
       "17      1916             0    98103  47.6648 -122.343           1610   \n",
       "\n",
       "    sqft_lot15  \n",
       "10        8925  \n",
       "17        4300  \n",
       "\n",
       "[2 rows x 21 columns]"
      ]
     },
     "execution_count": 5,
     "metadata": {},
     "output_type": "execute_result"
    }
   ],
   "source": [
    "#check for any null values\n",
    "housingData.isnull().values.any()\n",
    "\n",
    "#check how many null values\n",
    "housingData.isnull().sum()\n",
    "\n",
    "# 2 null values are in the sqft_above column > index 10 & 17\n",
    "housingData[housingData['sqft_above'].isna()]"
   ]
  },
  {
   "cell_type": "code",
   "execution_count": 6,
   "id": "ae86b4c7",
   "metadata": {},
   "outputs": [
    {
     "data": {
      "text/plain": [
       "id               0\n",
       "date             0\n",
       "price            0\n",
       "bedrooms         0\n",
       "bathrooms        0\n",
       "sqft_living      0\n",
       "sqft_lot         0\n",
       "floors           0\n",
       "waterfront       0\n",
       "view             0\n",
       "condition        0\n",
       "grade            0\n",
       "sqft_above       0\n",
       "sqft_basement    0\n",
       "yr_built         0\n",
       "yr_renovated     0\n",
       "zipcode          0\n",
       "lat              0\n",
       "long             0\n",
       "sqft_living15    0\n",
       "sqft_lot15       0\n",
       "dtype: int64"
      ]
     },
     "execution_count": 6,
     "metadata": {},
     "output_type": "execute_result"
    }
   ],
   "source": [
    "#Remove the rows where sqft_above is not NA\n",
    "newHousingDF = housingData[housingData['sqft_above'].notna()]\n",
    "\n",
    "newHousingDF.isnull().sum()"
   ]
  },
  {
   "cell_type": "markdown",
   "id": "6832242a",
   "metadata": {},
   "source": [
    "# 2. Preprocessing and Training\n",
    "\n",
    "## 2.1 Train and Split\n",
    "\n",
    "I am going to use a 70/30 train/test split"
   ]
  },
  {
   "cell_type": "code",
   "execution_count": 7,
   "id": "058a9436",
   "metadata": {},
   "outputs": [
    {
     "data": {
      "text/plain": [
       "(15127.699999999999, 6483.3)"
      ]
     },
     "execution_count": 7,
     "metadata": {},
     "output_type": "execute_result"
    }
   ],
   "source": [
    "len(newHousingDF) * .7, len(newHousingDF) * .3"
   ]
  },
  {
   "cell_type": "code",
   "execution_count": 8,
   "id": "875e5c4c",
   "metadata": {},
   "outputs": [],
   "source": [
    "#drop price column\n",
    "X_train, X_test, y_train, y_test = train_test_split(newHousingDF.drop(columns='price'), \n",
    "                                                    newHousingDF.price, test_size=0.3, \n",
    "                                                    random_state=47)"
   ]
  },
  {
   "cell_type": "code",
   "execution_count": 9,
   "id": "c441fea5",
   "metadata": {},
   "outputs": [
    {
     "data": {
      "text/plain": [
       "((15127, 20), (6484, 20))"
      ]
     },
     "execution_count": 9,
     "metadata": {},
     "output_type": "execute_result"
    }
   ],
   "source": [
    "#view X train and test shape\n",
    "X_train.shape, X_test.shape"
   ]
  },
  {
   "cell_type": "code",
   "execution_count": 10,
   "id": "a76ba4cf",
   "metadata": {},
   "outputs": [
    {
     "data": {
      "text/plain": [
       "((15127,), (6484,))"
      ]
     },
     "execution_count": 10,
     "metadata": {},
     "output_type": "execute_result"
    }
   ],
   "source": [
    "#view y train and test shape\n",
    "y_train.shape, y_test.shape"
   ]
  },
  {
   "cell_type": "code",
   "execution_count": 11,
   "id": "d70a4d8e",
   "metadata": {},
   "outputs": [
    {
     "data": {
      "text/plain": [
       "((15127, 19), (6484, 19))"
      ]
     },
     "execution_count": 11,
     "metadata": {},
     "output_type": "execute_result"
    }
   ],
   "source": [
    "#remove columns that are objects data types\n",
    "object_list = ['date']\n",
    "\n",
    "object_train = X_train[object_list]\n",
    "object_test = X_test[object_list]\n",
    "\n",
    "X_train.drop(columns=object_list, inplace=True)\n",
    "X_test.drop(columns=object_list, inplace=True)\n",
    "\n",
    "X_train.shape, X_test.shape"
   ]
  },
  {
   "cell_type": "code",
   "execution_count": 12,
   "id": "28162a16",
   "metadata": {},
   "outputs": [
    {
     "data": {
      "text/plain": [
       "id                 int64\n",
       "bedrooms           int64\n",
       "bathrooms        float64\n",
       "sqft_living        int64\n",
       "sqft_lot           int64\n",
       "floors           float64\n",
       "waterfront         int64\n",
       "view               int64\n",
       "condition          int64\n",
       "grade              int64\n",
       "sqft_above       float64\n",
       "sqft_basement      int64\n",
       "yr_built           int64\n",
       "yr_renovated       int64\n",
       "zipcode            int64\n",
       "lat              float64\n",
       "long             float64\n",
       "sqft_living15      int64\n",
       "sqft_lot15         int64\n",
       "dtype: object"
      ]
     },
     "execution_count": 12,
     "metadata": {},
     "output_type": "execute_result"
    }
   ],
   "source": [
    "#Check the `dtypes` attribute of `X_train` to verify all features are numeric\n",
    "X_train.dtypes"
   ]
  },
  {
   "cell_type": "code",
   "execution_count": 13,
   "id": "075bdb28",
   "metadata": {},
   "outputs": [
    {
     "data": {
      "text/plain": [
       "id                 int64\n",
       "bedrooms           int64\n",
       "bathrooms        float64\n",
       "sqft_living        int64\n",
       "sqft_lot           int64\n",
       "floors           float64\n",
       "waterfront         int64\n",
       "view               int64\n",
       "condition          int64\n",
       "grade              int64\n",
       "sqft_above       float64\n",
       "sqft_basement      int64\n",
       "yr_built           int64\n",
       "yr_renovated       int64\n",
       "zipcode            int64\n",
       "lat              float64\n",
       "long             float64\n",
       "sqft_living15      int64\n",
       "sqft_lot15         int64\n",
       "dtype: object"
      ]
     },
     "execution_count": 13,
     "metadata": {},
     "output_type": "execute_result"
    }
   ],
   "source": [
    "#Repeat this check for the test split in `X_test`\n",
    "X_test.dtypes"
   ]
  },
  {
   "cell_type": "markdown",
   "id": "e47d4d4f",
   "metadata": {},
   "source": [
    "There's only numeric data types in our X now.\n",
    "\n",
    "## 2.2 Initial Not-Even-A-Model \n",
    "\n",
    "Let's start by determining if the mean is a good predictor. "
   ]
  },
  {
   "cell_type": "code",
   "execution_count": 14,
   "id": "75135444",
   "metadata": {},
   "outputs": [
    {
     "data": {
      "text/plain": [
       "541317.1673828254"
      ]
     },
     "execution_count": 14,
     "metadata": {},
     "output_type": "execute_result"
    }
   ],
   "source": [
    "#Calculate the mean of `y_train`\n",
    "train_mean = y_train.mean()\n",
    "train_mean"
   ]
  },
  {
   "cell_type": "code",
   "execution_count": 15,
   "id": "5fe696fe",
   "metadata": {},
   "outputs": [
    {
     "data": {
      "text/plain": [
       "array([[541317.16738283]])"
      ]
     },
     "execution_count": 15,
     "metadata": {},
     "output_type": "execute_result"
    }
   ],
   "source": [
    "#Fit the dummy regressor on the training data\n",
    "#call its `.fit()` method with `X_train` and `y_train` as arguments\n",
    "#Then print the object's `constant_` attribute and verify it's the same as the mean above\n",
    "dumb_reg = DummyRegressor(strategy='mean')\n",
    "dumb_reg.fit(X_train, y_train)\n",
    "dumb_reg.constant_"
   ]
  },
  {
   "cell_type": "markdown",
   "id": "6bbbef10",
   "metadata": {},
   "source": [
    "The dummy regressor and the train mean are very similar\n",
    "\n",
    "## 2.2.1 Metrics\n",
    "#### 2.2.1.1 R-squared, or coefficient of determination\n",
    "This is a measure of the proportion of variance in the dependent variable that is predicted by our \"model\"."
   ]
  },
  {
   "cell_type": "code",
   "execution_count": 16,
   "id": "2a82513b",
   "metadata": {},
   "outputs": [],
   "source": [
    "#Calculate the R^2 \n",
    "def r_sqrd(y, ypred):\n",
    "    \n",
    "    #Arguments:\n",
    "    #y -- the observed values\n",
    "    #ypred -- the predicted values\n",
    "    \n",
    "    ybar = np.mean(y)\n",
    "    total_sum_square = np.sum((y-ybar)**2) # total sum of squares error\n",
    "    res_sum_square = np.sum((y-ypred)**2) #residual sum of squares error\n",
    "    R2 = 1.0 - res_sum_square / total_sum_square\n",
    "    \n",
    "    return R2"
   ]
  },
  {
   "cell_type": "code",
   "execution_count": 17,
   "id": "3324e3cb",
   "metadata": {},
   "outputs": [
    {
     "data": {
      "text/plain": [
       "array([541317.16738283, 541317.16738283, 541317.16738283, 541317.16738283,\n",
       "       541317.16738283])"
      ]
     },
     "execution_count": 17,
     "metadata": {},
     "output_type": "execute_result"
    }
   ],
   "source": [
    "y_tr_pred_ = train_mean * np.ones(len(y_train))\n",
    "y_tr_pred_[:5]"
   ]
  },
  {
   "cell_type": "markdown",
   "id": "5c3ccc85",
   "metadata": {},
   "source": [
    "Use dummy regressor for y_tr_pred"
   ]
  },
  {
   "cell_type": "code",
   "execution_count": 18,
   "id": "2be487a6",
   "metadata": {},
   "outputs": [
    {
     "data": {
      "text/plain": [
       "array([541317.16738283, 541317.16738283, 541317.16738283, 541317.16738283,\n",
       "       541317.16738283])"
      ]
     },
     "execution_count": 18,
     "metadata": {},
     "output_type": "execute_result"
    }
   ],
   "source": [
    "y_tr_pred = dumb_reg.predict(X_train)\n",
    "y_tr_pred[:5]"
   ]
  },
  {
   "cell_type": "code",
   "execution_count": 19,
   "id": "23021253",
   "metadata": {},
   "outputs": [
    {
     "data": {
      "text/plain": [
       "0.0"
      ]
     },
     "execution_count": 19,
     "metadata": {},
     "output_type": "execute_result"
    }
   ],
   "source": [
    "#call the r squared function\n",
    "r_sqrd(y_train, y_tr_pred) "
   ]
  },
  {
   "cell_type": "markdown",
   "id": "4568b7f7",
   "metadata": {},
   "source": [
    "Make your predictions by creating an array of length the size of the test set with the single value of the (training) mean."
   ]
  },
  {
   "cell_type": "code",
   "execution_count": 20,
   "id": "13c72a73",
   "metadata": {},
   "outputs": [
    {
     "data": {
      "text/plain": [
       "-0.0001319455771289224"
      ]
     },
     "execution_count": 20,
     "metadata": {},
     "output_type": "execute_result"
    }
   ],
   "source": [
    "y_te_pred = train_mean * np.ones(len(y_test))\n",
    "r_sqrd(y_test, y_te_pred) "
   ]
  },
  {
   "cell_type": "code",
   "execution_count": 21,
   "id": "3a4549e5",
   "metadata": {},
   "outputs": [
    {
     "data": {
      "text/plain": [
       "(0.0, -0.0001319455771289224)"
      ]
     },
     "execution_count": 21,
     "metadata": {},
     "output_type": "execute_result"
    }
   ],
   "source": [
    "# R-squared function\n",
    "r2_score(y_train, y_tr_pred), r2_score(y_test, y_te_pred)"
   ]
  },
  {
   "cell_type": "markdown",
   "id": "be791a76",
   "metadata": {},
   "source": [
    "#### 2.2.1.2 Mean Absolute Error\n",
    "\n",
    "This is very simply the average of the absolute errors:"
   ]
  },
  {
   "cell_type": "code",
   "execution_count": 22,
   "id": "630e3ac9",
   "metadata": {},
   "outputs": [],
   "source": [
    "\"\"\"Arguments:\n",
    "    y -- the observed values\n",
    "    ypred -- the predicted values\"\"\"\n",
    "\n",
    "def mae(y, ypred):\n",
    "    abs_error = np.abs(y - ypred)\n",
    "    mae = np.mean(abs_error)\n",
    "    return mae"
   ]
  },
  {
   "cell_type": "code",
   "execution_count": 23,
   "id": "2e3c186d",
   "metadata": {},
   "outputs": [
    {
     "data": {
      "text/plain": [
       "235817.34913915992"
      ]
     },
     "execution_count": 23,
     "metadata": {},
     "output_type": "execute_result"
    }
   ],
   "source": [
    "mae(y_train, y_tr_pred)"
   ]
  },
  {
   "cell_type": "code",
   "execution_count": 24,
   "id": "b5e5fd77",
   "metadata": {},
   "outputs": [
    {
     "data": {
      "text/plain": [
       "230706.5690754976"
      ]
     },
     "execution_count": 24,
     "metadata": {},
     "output_type": "execute_result"
    }
   ],
   "source": [
    "mae(y_test, y_te_pred)"
   ]
  },
  {
   "cell_type": "markdown",
   "id": "81849309",
   "metadata": {},
   "source": [
    "Mean Absolute Error Function"
   ]
  },
  {
   "cell_type": "code",
   "execution_count": 25,
   "id": "82f378d6",
   "metadata": {},
   "outputs": [
    {
     "data": {
      "text/plain": [
       "(235817.3491391798, 230706.5690755041)"
      ]
     },
     "execution_count": 25,
     "metadata": {},
     "output_type": "execute_result"
    }
   ],
   "source": [
    "#Mean Absolute Error\n",
    "mean_absolute_error(y_train, y_tr_pred), mean_absolute_error(y_test, y_te_pred)"
   ]
  },
  {
   "cell_type": "markdown",
   "id": "7d54ac42",
   "metadata": {},
   "source": [
    "Mean absolute error is arguably the most intuitive of all the metrics, this essentially tells you that, on average, you might expect to be off by around $230,707 if you guessed house price based on an average of known values.\n",
    "\n",
    "#### 2.2.1.3 Mean Squared Error\n",
    "\n",
    "Another common metric (and an important one internally for optimizing machine learning models) is the mean squared error. This is simply the average of the square of the errors:"
   ]
  },
  {
   "cell_type": "code",
   "execution_count": 26,
   "id": "31f5927c",
   "metadata": {},
   "outputs": [],
   "source": [
    "\"\"\"\n",
    "    Arguments:\n",
    "    y -- the observed values\n",
    "    ypred -- the predicted values\n",
    "    \"\"\"\n",
    "\n",
    "#Calculate the MSE \n",
    "def mse(y, ypred):\n",
    "    sq_error = (y - ypred)**2\n",
    "    mse = np.mean(sq_error)\n",
    "    return mse"
   ]
  },
  {
   "cell_type": "code",
   "execution_count": 27,
   "id": "6cfe0d1a",
   "metadata": {},
   "outputs": [
    {
     "data": {
      "text/plain": [
       "137770535842.7563"
      ]
     },
     "execution_count": 27,
     "metadata": {},
     "output_type": "execute_result"
    }
   ],
   "source": [
    "mse(y_train, y_tr_pred)"
   ]
  },
  {
   "cell_type": "code",
   "execution_count": 28,
   "id": "435f903d",
   "metadata": {},
   "outputs": [
    {
     "data": {
      "text/plain": [
       "127834154202.32181"
      ]
     },
     "execution_count": 28,
     "metadata": {},
     "output_type": "execute_result"
    }
   ],
   "source": [
    "mse(y_test, y_te_pred)"
   ]
  },
  {
   "cell_type": "code",
   "execution_count": 29,
   "id": "a7879014",
   "metadata": {},
   "outputs": [
    {
     "data": {
      "text/plain": [
       "array([371174.53555269, 357539.02472642])"
      ]
     },
     "execution_count": 29,
     "metadata": {},
     "output_type": "execute_result"
    }
   ],
   "source": [
    "np.sqrt([mse(y_train, y_tr_pred), mse(y_test, y_te_pred)])"
   ]
  },
  {
   "cell_type": "markdown",
   "id": "c08da550",
   "metadata": {},
   "source": [
    "Mean Squared Error Function:"
   ]
  },
  {
   "cell_type": "code",
   "execution_count": 30,
   "id": "56373f48",
   "metadata": {},
   "outputs": [
    {
     "data": {
      "text/plain": [
       "(137770535842.75708, 127834154202.32216)"
      ]
     },
     "execution_count": 30,
     "metadata": {},
     "output_type": "execute_result"
    }
   ],
   "source": [
    "#mean_squared_error built in function\n",
    "mean_squared_error(y_train, y_tr_pred), mean_squared_error(y_test, y_te_pred)"
   ]
  },
  {
   "cell_type": "markdown",
   "id": "fb18c76e",
   "metadata": {},
   "source": [
    "## 2.3 Initial Models\n",
    "\n",
    "### 2.3.1 Imputing missing feature (predictor) values\n",
    "\n",
    "##### 2.3.1.1 Learn the values to impute from the train set"
   ]
  },
  {
   "cell_type": "code",
   "execution_count": 31,
   "id": "cf88983c",
   "metadata": {},
   "outputs": [
    {
     "data": {
      "text/plain": [
       "id               3.904921e+09\n",
       "bedrooms         3.000000e+00\n",
       "bathrooms        2.250000e+00\n",
       "sqft_living      1.910000e+03\n",
       "sqft_lot         7.606000e+03\n",
       "floors           1.500000e+00\n",
       "waterfront       0.000000e+00\n",
       "view             0.000000e+00\n",
       "condition        3.000000e+00\n",
       "grade            7.000000e+00\n",
       "sqft_above       1.560000e+03\n",
       "sqft_basement    0.000000e+00\n",
       "yr_built         1.975000e+03\n",
       "yr_renovated     0.000000e+00\n",
       "zipcode          9.806500e+04\n",
       "lat              4.757260e+01\n",
       "long            -1.222310e+02\n",
       "sqft_living15    1.840000e+03\n",
       "sqft_lot15       7.630000e+03\n",
       "dtype: float64"
      ]
     },
     "execution_count": 31,
     "metadata": {},
     "output_type": "execute_result"
    }
   ],
   "source": [
    "X_defaults_median = X_train.median()\n",
    "X_defaults_median"
   ]
  },
  {
   "cell_type": "markdown",
   "id": "a06bba63",
   "metadata": {},
   "source": [
    "##### 2.3.1.2 Apply the imputation to both train and test splits"
   ]
  },
  {
   "cell_type": "code",
   "execution_count": 32,
   "id": "f904103f",
   "metadata": {},
   "outputs": [],
   "source": [
    "#Call `X_train` and `X_test`'s `fillna()` method, passing `X_defaults_median` as the values to use\n",
    "#Assign the results to `X_tr` and `X_te`, respectively\n",
    "X_tr = X_train.fillna(X_defaults_median)\n",
    "X_te = X_test.fillna(X_defaults_median)"
   ]
  },
  {
   "cell_type": "markdown",
   "id": "120b1e78",
   "metadata": {},
   "source": [
    "##### 2.3.1.3 Scale the data"
   ]
  },
  {
   "cell_type": "code",
   "execution_count": 33,
   "id": "074a3a4e",
   "metadata": {},
   "outputs": [],
   "source": [
    "#Call the StandardScaler`s fit method on `X_tr` to fit the scaler\n",
    "#then use it's `transform()` method to apply the scaling to both the train and test split\n",
    "#data (`X_tr` and `X_te`), naming the results `X_tr_scaled` and `X_te_scaled`, respectively\n",
    "scaler = StandardScaler()\n",
    "scaler.fit(X_tr)\n",
    "X_tr_scaled = scaler.transform(X_tr)\n",
    "X_te_scaled = scaler.transform(X_te)"
   ]
  },
  {
   "cell_type": "markdown",
   "id": "bfcee6bd",
   "metadata": {},
   "source": [
    "##### 2.3.1.4 Train the model on the train split"
   ]
  },
  {
   "cell_type": "code",
   "execution_count": 34,
   "id": "be9379ed",
   "metadata": {},
   "outputs": [],
   "source": [
    "lm = LinearRegression().fit(X_tr_scaled, y_train)"
   ]
  },
  {
   "cell_type": "markdown",
   "id": "b6ff3cbe",
   "metadata": {},
   "source": [
    "##### 2.3.1.5 Make predictions using the model on both train and test splits"
   ]
  },
  {
   "cell_type": "code",
   "execution_count": 35,
   "id": "13865500",
   "metadata": {},
   "outputs": [],
   "source": [
    "#Call the `predict()` method of the model (`lm`) on both the (scaled) train and test data\n",
    "#Assign the predictions to `y_tr_pred` and `y_te_pred`, respectively\n",
    "y_tr_pred = lm.predict(X_tr_scaled)\n",
    "y_te_pred = lm.predict(X_te_scaled)"
   ]
  },
  {
   "cell_type": "markdown",
   "id": "551a7298",
   "metadata": {},
   "source": [
    "#### 2.3.1.6 Assess model performance"
   ]
  },
  {
   "cell_type": "code",
   "execution_count": 36,
   "id": "c6a9b007",
   "metadata": {},
   "outputs": [
    {
     "data": {
      "text/plain": [
       "(0.696792409536885, 0.7067752006204633)"
      ]
     },
     "execution_count": 36,
     "metadata": {},
     "output_type": "execute_result"
    }
   ],
   "source": [
    "# r^2 - train, test\n",
    "median_r2 = r2_score(y_train, y_tr_pred), r2_score(y_test, y_te_pred)\n",
    "median_r2"
   ]
  },
  {
   "cell_type": "code",
   "execution_count": 37,
   "id": "0b8a9406",
   "metadata": {},
   "outputs": [
    {
     "data": {
      "text/plain": [
       "(126857.32663989742, 126578.84820141118)"
      ]
     },
     "execution_count": 37,
     "metadata": {},
     "output_type": "execute_result"
    }
   ],
   "source": [
    "#Now calculate the mean absolute error scores using `sklearn`'s `mean_absolute_error` function\n",
    "# as we did above for R^2\n",
    "# MAE - train, test\n",
    "median_mae = mean_absolute_error(y_train, y_tr_pred), mean_absolute_error(y_test, y_te_pred)\n",
    "median_mae"
   ]
  },
  {
   "cell_type": "code",
   "execution_count": 38,
   "id": "7b29c9f1",
   "metadata": {},
   "outputs": [
    {
     "data": {
      "text/plain": [
       "(41773072209.69459, 37479199005.28559)"
      ]
     },
     "execution_count": 38,
     "metadata": {},
     "output_type": "execute_result"
    }
   ],
   "source": [
    "#And also do the same using `sklearn`'s `mean_squared_error`\n",
    "# MSE - train, test\n",
    "median_mse = mean_squared_error(y_train, y_tr_pred), mean_squared_error(y_test, y_te_pred)\n",
    "median_mse"
   ]
  },
  {
   "cell_type": "markdown",
   "id": "bea36abb",
   "metadata": {},
   "source": [
    "#### 2.3.1.2 Impute missing values with the mean\n",
    "\n",
    "###### 2.3.1.2.1 Learn the values to impute from the train set"
   ]
  },
  {
   "cell_type": "code",
   "execution_count": 39,
   "id": "a0b245fd",
   "metadata": {},
   "outputs": [
    {
     "data": {
      "text/plain": [
       "id               4.572135e+09\n",
       "bedrooms         3.370794e+00\n",
       "bathrooms        2.114117e+00\n",
       "sqft_living      2.081964e+03\n",
       "sqft_lot         1.521123e+04\n",
       "floors           1.492794e+00\n",
       "waterfront       6.742910e-03\n",
       "view             2.319693e-01\n",
       "condition        3.408673e+00\n",
       "grade            7.656839e+00\n",
       "sqft_above       1.790184e+03\n",
       "sqft_basement    2.917804e+02\n",
       "yr_built         1.970892e+03\n",
       "yr_renovated     8.391763e+01\n",
       "zipcode          9.807805e+04\n",
       "lat              4.756078e+01\n",
       "long            -1.222144e+02\n",
       "sqft_living15    1.986246e+03\n",
       "sqft_lot15       1.295119e+04\n",
       "dtype: float64"
      ]
     },
     "execution_count": 39,
     "metadata": {},
     "output_type": "execute_result"
    }
   ],
   "source": [
    "#As we did for the median above, calculate mean values for imputing missing values\n",
    "# These are the values we'll use to fill in any missing values\n",
    "X_defaults_mean = X_train.mean()\n",
    "X_defaults_mean"
   ]
  },
  {
   "cell_type": "markdown",
   "id": "c6ab6d41",
   "metadata": {},
   "source": [
    "##### 2.3.1.2.2 Apply the imputation to both train and test splits"
   ]
  },
  {
   "cell_type": "code",
   "execution_count": 40,
   "id": "39ff4f8e",
   "metadata": {},
   "outputs": [],
   "source": [
    "X_tr = X_train.fillna(X_defaults_mean)\n",
    "X_te = X_test.fillna(X_defaults_mean)"
   ]
  },
  {
   "cell_type": "markdown",
   "id": "1c181873",
   "metadata": {},
   "source": [
    "##### 2.3.1.2.3 Scale the data"
   ]
  },
  {
   "cell_type": "code",
   "execution_count": 41,
   "id": "f22c7106",
   "metadata": {},
   "outputs": [],
   "source": [
    "scaler = StandardScaler()\n",
    "scaler.fit(X_tr)\n",
    "X_tr_scaled = scaler.transform(X_tr)\n",
    "X_te_scaled = scaler.transform(X_te)"
   ]
  },
  {
   "cell_type": "markdown",
   "id": "d97a44a7",
   "metadata": {},
   "source": [
    "##### 2.3.1.2.4 Train the model on the train split"
   ]
  },
  {
   "cell_type": "code",
   "execution_count": 42,
   "id": "984506b1",
   "metadata": {},
   "outputs": [],
   "source": [
    "lm = LinearRegression().fit(X_tr_scaled, y_train)"
   ]
  },
  {
   "cell_type": "markdown",
   "id": "a5f7e3fc",
   "metadata": {},
   "source": [
    "##### 2.3.1.2.5 Make predictions using the model on both train and test splits"
   ]
  },
  {
   "cell_type": "code",
   "execution_count": 43,
   "id": "6d374827",
   "metadata": {},
   "outputs": [],
   "source": [
    "y_tr_pred = lm.predict(X_tr_scaled)\n",
    "y_te_pred = lm.predict(X_te_scaled)"
   ]
  },
  {
   "cell_type": "markdown",
   "id": "fe7812aa",
   "metadata": {},
   "source": [
    "##### 2.3.1.2.6 Assess model performance"
   ]
  },
  {
   "cell_type": "code",
   "execution_count": 44,
   "id": "907c9237",
   "metadata": {},
   "outputs": [
    {
     "data": {
      "text/plain": [
       "(0.696792409536885, 0.7067752006204633)"
      ]
     },
     "execution_count": 44,
     "metadata": {},
     "output_type": "execute_result"
    }
   ],
   "source": [
    "r2_score(y_train, y_tr_pred), r2_score(y_test, y_te_pred)"
   ]
  },
  {
   "cell_type": "code",
   "execution_count": 45,
   "id": "1d3a64c8",
   "metadata": {},
   "outputs": [
    {
     "data": {
      "text/plain": [
       "(126857.32663989742, 126578.84820141118)"
      ]
     },
     "execution_count": 45,
     "metadata": {},
     "output_type": "execute_result"
    }
   ],
   "source": [
    "mean_absolute_error(y_train, y_tr_pred), mean_absolute_error(y_test, y_te_pred)"
   ]
  },
  {
   "cell_type": "code",
   "execution_count": 46,
   "id": "4b595c07",
   "metadata": {},
   "outputs": [
    {
     "data": {
      "text/plain": [
       "(41773072209.69459, 37479199005.28559)"
      ]
     },
     "execution_count": 46,
     "metadata": {},
     "output_type": "execute_result"
    }
   ],
   "source": [
    "mean_squared_error(y_train, y_tr_pred), mean_squared_error(y_test, y_te_pred)"
   ]
  },
  {
   "cell_type": "markdown",
   "id": "45a95c62",
   "metadata": {},
   "source": [
    "### 2.3.2 Pipelines\n",
    "\n",
    "#### 2.3.2.1 Define the pipeline"
   ]
  },
  {
   "cell_type": "code",
   "execution_count": 47,
   "id": "c9127efd",
   "metadata": {},
   "outputs": [],
   "source": [
    "pipe = make_pipeline(\n",
    "    SimpleImputer(strategy='median'), \n",
    "    StandardScaler(), \n",
    "    LinearRegression()\n",
    ")"
   ]
  },
  {
   "cell_type": "code",
   "execution_count": 48,
   "id": "39449075",
   "metadata": {},
   "outputs": [
    {
     "data": {
      "text/plain": [
       "sklearn.pipeline.Pipeline"
      ]
     },
     "execution_count": 48,
     "metadata": {},
     "output_type": "execute_result"
    }
   ],
   "source": [
    "type(pipe)"
   ]
  },
  {
   "cell_type": "code",
   "execution_count": 49,
   "id": "b45825de",
   "metadata": {},
   "outputs": [
    {
     "data": {
      "text/plain": [
       "(True, True)"
      ]
     },
     "execution_count": 49,
     "metadata": {},
     "output_type": "execute_result"
    }
   ],
   "source": [
    "hasattr(pipe, 'fit'), hasattr(pipe, 'predict')"
   ]
  },
  {
   "cell_type": "markdown",
   "id": "4dd7c55c",
   "metadata": {},
   "source": [
    "#### 2.3.2.2 Fit the pipeline"
   ]
  },
  {
   "cell_type": "code",
   "execution_count": 50,
   "id": "9899fc0d",
   "metadata": {},
   "outputs": [
    {
     "data": {
      "text/plain": [
       "Pipeline(steps=[('simpleimputer', SimpleImputer(strategy='median')),\n",
       "                ('standardscaler', StandardScaler()),\n",
       "                ('linearregression', LinearRegression())])"
      ]
     },
     "execution_count": 50,
     "metadata": {},
     "output_type": "execute_result"
    }
   ],
   "source": [
    "#Call the pipe's `fit()` method with `X_train` and `y_train` as arguments\n",
    "pipe.fit(X_train, y_train)"
   ]
  },
  {
   "cell_type": "markdown",
   "id": "2effdba4",
   "metadata": {},
   "source": [
    "#### 2.3.2.3 Make predictions on the train and test sets"
   ]
  },
  {
   "cell_type": "code",
   "execution_count": 51,
   "id": "df86c581",
   "metadata": {},
   "outputs": [],
   "source": [
    "y_tr_pred = pipe.predict(X_train)\n",
    "y_te_pred = pipe.predict(X_test)"
   ]
  },
  {
   "cell_type": "markdown",
   "id": "43af7677",
   "metadata": {},
   "source": [
    "#### 2.3.2.4 Assess performance"
   ]
  },
  {
   "cell_type": "code",
   "execution_count": 52,
   "id": "0a5f06aa",
   "metadata": {},
   "outputs": [
    {
     "data": {
      "text/plain": [
       "(0.696792409536885, 0.7067752006204633)"
      ]
     },
     "execution_count": 52,
     "metadata": {},
     "output_type": "execute_result"
    }
   ],
   "source": [
    "r2_score(y_train, y_tr_pred), r2_score(y_test, y_te_pred)"
   ]
  },
  {
   "cell_type": "markdown",
   "id": "4c123ac5",
   "metadata": {},
   "source": [
    "Compare from previous results"
   ]
  },
  {
   "cell_type": "code",
   "execution_count": 53,
   "id": "05a79e0f",
   "metadata": {},
   "outputs": [
    {
     "data": {
      "text/plain": [
       "(0.696792409536885, 0.7067752006204633)"
      ]
     },
     "execution_count": 53,
     "metadata": {},
     "output_type": "execute_result"
    }
   ],
   "source": [
    "median_r2"
   ]
  },
  {
   "cell_type": "code",
   "execution_count": 54,
   "id": "24c17e77",
   "metadata": {},
   "outputs": [
    {
     "data": {
      "text/plain": [
       "(126857.32663989742, 126578.84820141118)"
      ]
     },
     "execution_count": 54,
     "metadata": {},
     "output_type": "execute_result"
    }
   ],
   "source": [
    "mean_absolute_error(y_train, y_tr_pred), mean_absolute_error(y_test, y_te_pred)"
   ]
  },
  {
   "cell_type": "code",
   "execution_count": 55,
   "id": "cef56e08",
   "metadata": {},
   "outputs": [
    {
     "data": {
      "text/plain": [
       "(126857.32663989742, 126578.84820141118)"
      ]
     },
     "execution_count": 55,
     "metadata": {},
     "output_type": "execute_result"
    }
   ],
   "source": [
    "median_mae"
   ]
  },
  {
   "cell_type": "code",
   "execution_count": 56,
   "id": "2107ad14",
   "metadata": {},
   "outputs": [
    {
     "data": {
      "text/plain": [
       "(41773072209.69459, 37479199005.28559)"
      ]
     },
     "execution_count": 56,
     "metadata": {},
     "output_type": "execute_result"
    }
   ],
   "source": [
    "mean_squared_error(y_train, y_tr_pred), mean_squared_error(y_test, y_te_pred)"
   ]
  },
  {
   "cell_type": "code",
   "execution_count": 57,
   "id": "575b31ad",
   "metadata": {},
   "outputs": [
    {
     "data": {
      "text/plain": [
       "(41773072209.69459, 37479199005.28559)"
      ]
     },
     "execution_count": 57,
     "metadata": {},
     "output_type": "execute_result"
    }
   ],
   "source": [
    "median_mse"
   ]
  },
  {
   "cell_type": "markdown",
   "id": "96dc9c68",
   "metadata": {},
   "source": [
    "## 2.4 Refining The Linear Model\n",
    "\n",
    "### 2.4.1 Define the pipeline\n",
    "\n",
    "Redefine your pipeline to include this feature selection step:"
   ]
  },
  {
   "cell_type": "code",
   "execution_count": 58,
   "id": "24fe4db0",
   "metadata": {},
   "outputs": [],
   "source": [
    "#Add `SelectKBest` as a step in the pipeline between `StandardScaler()` and `LinearRegression()`\n",
    "#Don't forget to tell it to use `f_regression` as its score function\n",
    "pipe = make_pipeline(\n",
    "    SimpleImputer(strategy='median'), \n",
    "    StandardScaler(),\n",
    "    SelectKBest(f_regression),\n",
    "    LinearRegression()\n",
    ")"
   ]
  },
  {
   "cell_type": "markdown",
   "id": "1ffc2be7",
   "metadata": {},
   "source": [
    "### 2.4.2 Fit the pipeline"
   ]
  },
  {
   "cell_type": "code",
   "execution_count": 59,
   "id": "6be00838",
   "metadata": {},
   "outputs": [
    {
     "data": {
      "text/plain": [
       "Pipeline(steps=[('simpleimputer', SimpleImputer(strategy='median')),\n",
       "                ('standardscaler', StandardScaler()),\n",
       "                ('selectkbest',\n",
       "                 SelectKBest(score_func=<function f_regression at 0x7f9a778abdc0>)),\n",
       "                ('linearregression', LinearRegression())])"
      ]
     },
     "execution_count": 59,
     "metadata": {},
     "output_type": "execute_result"
    }
   ],
   "source": [
    "pipe.fit(X_train, y_train)"
   ]
  },
  {
   "cell_type": "markdown",
   "id": "a83fc1c6",
   "metadata": {},
   "source": [
    "### 2.4.3 Assess performance on the train and test set"
   ]
  },
  {
   "cell_type": "code",
   "execution_count": 60,
   "id": "b724dd2e",
   "metadata": {},
   "outputs": [],
   "source": [
    "y_tr_pred = pipe.predict(X_train)\n",
    "y_te_pred = pipe.predict(X_test)"
   ]
  },
  {
   "cell_type": "code",
   "execution_count": 61,
   "id": "d7c05834",
   "metadata": {},
   "outputs": [
    {
     "data": {
      "text/plain": [
       "(0.6400751898127358, 0.6426109349211075)"
      ]
     },
     "execution_count": 61,
     "metadata": {},
     "output_type": "execute_result"
    }
   ],
   "source": [
    "r2_score(y_train, y_tr_pred), r2_score(y_test, y_te_pred)"
   ]
  },
  {
   "cell_type": "code",
   "execution_count": 62,
   "id": "a8a31f86",
   "metadata": {},
   "outputs": [
    {
     "data": {
      "text/plain": [
       "(137898.70979399714, 136220.72670668465)"
      ]
     },
     "execution_count": 62,
     "metadata": {},
     "output_type": "execute_result"
    }
   ],
   "source": [
    "mean_absolute_error(y_train, y_tr_pred), mean_absolute_error(y_test, y_te_pred)"
   ]
  },
  {
   "cell_type": "markdown",
   "id": "540a683f",
   "metadata": {},
   "source": [
    "### 2.4.4 Define a new pipeline to select a different number of features"
   ]
  },
  {
   "cell_type": "code",
   "execution_count": 63,
   "id": "6e1f6c26",
   "metadata": {},
   "outputs": [],
   "source": [
    "#Modify the `SelectKBest` step to use a value of 15 for k\n",
    "pipe15 = make_pipeline(\n",
    "    SimpleImputer(strategy='median'), \n",
    "    StandardScaler(),\n",
    "    SelectKBest(f_regression, k=15),\n",
    "    LinearRegression()\n",
    ")"
   ]
  },
  {
   "cell_type": "markdown",
   "id": "9557ffd0",
   "metadata": {},
   "source": [
    "### 2.4.5 Fit the pipeline"
   ]
  },
  {
   "cell_type": "code",
   "execution_count": 64,
   "id": "689c93c3",
   "metadata": {},
   "outputs": [
    {
     "data": {
      "text/plain": [
       "Pipeline(steps=[('simpleimputer', SimpleImputer(strategy='median')),\n",
       "                ('standardscaler', StandardScaler()),\n",
       "                ('selectkbest',\n",
       "                 SelectKBest(k=15,\n",
       "                             score_func=<function f_regression at 0x7f9a778abdc0>)),\n",
       "                ('linearregression', LinearRegression())])"
      ]
     },
     "execution_count": 64,
     "metadata": {},
     "output_type": "execute_result"
    }
   ],
   "source": [
    "pipe15.fit(X_train, y_train)"
   ]
  },
  {
   "cell_type": "markdown",
   "id": "f493d796",
   "metadata": {},
   "source": [
    "### 2.4.6 Assess performance on train and test data"
   ]
  },
  {
   "cell_type": "code",
   "execution_count": 65,
   "id": "73a7974a",
   "metadata": {},
   "outputs": [],
   "source": [
    "y_tr_pred = pipe15.predict(X_train)\n",
    "y_te_pred = pipe15.predict(X_test)"
   ]
  },
  {
   "cell_type": "code",
   "execution_count": 66,
   "id": "d22f6409",
   "metadata": {},
   "outputs": [
    {
     "data": {
      "text/plain": [
       "(0.6877160133953701, 0.7013982203999498)"
      ]
     },
     "execution_count": 66,
     "metadata": {},
     "output_type": "execute_result"
    }
   ],
   "source": [
    "r2_score(y_train, y_tr_pred), r2_score(y_test, y_te_pred)"
   ]
  },
  {
   "cell_type": "code",
   "execution_count": 67,
   "id": "7432e24f",
   "metadata": {},
   "outputs": [
    {
     "data": {
      "text/plain": [
       "(128159.93406944933, 126988.2255413755)"
      ]
     },
     "execution_count": 67,
     "metadata": {},
     "output_type": "execute_result"
    }
   ],
   "source": [
    "mean_absolute_error(y_train, y_tr_pred), mean_absolute_error(y_test, y_te_pred)"
   ]
  },
  {
   "cell_type": "markdown",
   "id": "22f5d788",
   "metadata": {},
   "source": [
    "### 2.4.7 Assessing performance using cross-validation"
   ]
  },
  {
   "cell_type": "code",
   "execution_count": 68,
   "id": "73dfb033",
   "metadata": {},
   "outputs": [],
   "source": [
    "cv_results = cross_validate(pipe15, X_train, y_train, cv=5)"
   ]
  },
  {
   "cell_type": "code",
   "execution_count": 69,
   "id": "1ec8dd98",
   "metadata": {},
   "outputs": [
    {
     "data": {
      "text/plain": [
       "array([0.67322313, 0.69404464, 0.68489204, 0.69200287, 0.68661464])"
      ]
     },
     "execution_count": 69,
     "metadata": {},
     "output_type": "execute_result"
    }
   ],
   "source": [
    "cv_scores = cv_results['test_score']\n",
    "cv_scores"
   ]
  },
  {
   "cell_type": "code",
   "execution_count": 70,
   "id": "2b5161a6",
   "metadata": {},
   "outputs": [
    {
     "data": {
      "text/plain": [
       "(0.6861554656925666, 0.007286749195085894)"
      ]
     },
     "execution_count": 70,
     "metadata": {},
     "output_type": "execute_result"
    }
   ],
   "source": [
    "np.mean(cv_scores), np.std(cv_scores)"
   ]
  },
  {
   "cell_type": "code",
   "execution_count": 71,
   "id": "145e9789",
   "metadata": {},
   "outputs": [
    {
     "data": {
      "text/plain": [
       "array([0.67, 0.7 ])"
      ]
     },
     "execution_count": 71,
     "metadata": {},
     "output_type": "execute_result"
    }
   ],
   "source": [
    "np.round((np.mean(cv_scores) - 2 * np.std(cv_scores), np.mean(cv_scores) + 2 * np.std(cv_scores)), 2)"
   ]
  },
  {
   "cell_type": "markdown",
   "id": "9cb8d615",
   "metadata": {},
   "source": [
    "### 2.4.8 Hyperparameter search using GridSearchCV"
   ]
  },
  {
   "cell_type": "code",
   "execution_count": 72,
   "id": "739feb4f",
   "metadata": {},
   "outputs": [
    {
     "data": {
      "text/plain": [
       "dict_keys(['memory', 'steps', 'verbose', 'simpleimputer', 'standardscaler', 'selectkbest', 'linearregression', 'simpleimputer__add_indicator', 'simpleimputer__copy', 'simpleimputer__fill_value', 'simpleimputer__missing_values', 'simpleimputer__strategy', 'simpleimputer__verbose', 'standardscaler__copy', 'standardscaler__with_mean', 'standardscaler__with_std', 'selectkbest__k', 'selectkbest__score_func', 'linearregression__copy_X', 'linearregression__fit_intercept', 'linearregression__n_jobs', 'linearregression__normalize', 'linearregression__positive'])"
      ]
     },
     "execution_count": 72,
     "metadata": {},
     "output_type": "execute_result"
    }
   ],
   "source": [
    "#Call `pipe`'s `get_params()` method to get a dict of available parameters and print their names\n",
    "#using dict's `keys()` method\n",
    "pipe.get_params().keys()"
   ]
  },
  {
   "cell_type": "code",
   "execution_count": 73,
   "id": "0fcd1b0d",
   "metadata": {},
   "outputs": [],
   "source": [
    "k = [k+1 for k in range(len(X_train.columns))]\n",
    "grid_params = {'selectkbest__k': k}"
   ]
  },
  {
   "cell_type": "code",
   "execution_count": 74,
   "id": "eef00bda",
   "metadata": {},
   "outputs": [],
   "source": [
    "lr_grid_cv = GridSearchCV(pipe, param_grid=grid_params, cv=5, n_jobs=-1)"
   ]
  },
  {
   "cell_type": "code",
   "execution_count": 75,
   "id": "6ece4527",
   "metadata": {},
   "outputs": [
    {
     "data": {
      "text/plain": [
       "GridSearchCV(cv=5,\n",
       "             estimator=Pipeline(steps=[('simpleimputer',\n",
       "                                        SimpleImputer(strategy='median')),\n",
       "                                       ('standardscaler', StandardScaler()),\n",
       "                                       ('selectkbest',\n",
       "                                        SelectKBest(score_func=<function f_regression at 0x7f9a778abdc0>)),\n",
       "                                       ('linearregression',\n",
       "                                        LinearRegression())]),\n",
       "             n_jobs=-1,\n",
       "             param_grid={'selectkbest__k': [1, 2, 3, 4, 5, 6, 7, 8, 9, 10, 11,\n",
       "                                            12, 13, 14, 15, 16, 17, 18, 19]})"
      ]
     },
     "execution_count": 75,
     "metadata": {},
     "output_type": "execute_result"
    }
   ],
   "source": [
    "lr_grid_cv.fit(X_train, y_train)"
   ]
  },
  {
   "cell_type": "code",
   "execution_count": 76,
   "id": "f507d59f",
   "metadata": {},
   "outputs": [],
   "source": [
    "score_mean = lr_grid_cv.cv_results_['mean_test_score']\n",
    "score_std = lr_grid_cv.cv_results_['std_test_score']\n",
    "cv_k = [k for k in lr_grid_cv.cv_results_['param_selectkbest__k']]"
   ]
  },
  {
   "cell_type": "code",
   "execution_count": 77,
   "id": "b512ad30",
   "metadata": {},
   "outputs": [
    {
     "data": {
      "text/plain": [
       "{'selectkbest__k': 19}"
      ]
     },
     "execution_count": 77,
     "metadata": {},
     "output_type": "execute_result"
    }
   ],
   "source": [
    "#Print the `best_params_` attribute of `lr_grid_cv`\n",
    "lr_grid_cv.best_params_"
   ]
  },
  {
   "cell_type": "code",
   "execution_count": 78,
   "id": "5512a05c",
   "metadata": {},
   "outputs": [
    {
     "data": {
      "image/png": "[encoded data removed]",
      "text/plain": [
       "<Figure size 720x360 with 1 Axes>"
      ]
     },
     "metadata": {
      "needs_background": "light"
     },
     "output_type": "display_data"
    }
   ],
   "source": [
    "#Assign the value of k from the above dict of `best_params_` and assign it to `best_k`\n",
    "best_k = lr_grid_cv.best_params_['selectkbest__k']\n",
    "plt.subplots(figsize=(10, 5))\n",
    "plt.errorbar(cv_k, score_mean, yerr=score_std)\n",
    "plt.axvline(x=best_k, c='r', ls='--', alpha=.5)\n",
    "plt.xlabel('k')\n",
    "plt.ylabel('CV score (r-squared)')\n",
    "plt.title('Pipeline mean CV score (error bars +/- 1sd)');"
   ]
  },
  {
   "cell_type": "code",
   "execution_count": 79,
   "id": "33985393",
   "metadata": {},
   "outputs": [],
   "source": [
    "selected = lr_grid_cv.best_estimator_.named_steps.selectkbest.get_support()"
   ]
  },
  {
   "cell_type": "code",
   "execution_count": 80,
   "id": "dbd8ea83",
   "metadata": {},
   "outputs": [
    {
     "data": {
      "text/plain": [
       "grade            112508.979399\n",
       "sqft_living       85864.334290\n",
       "lat               84534.872266\n",
       "sqft_above        81796.200349\n",
       "waterfront        47449.041108\n",
       "view              41356.305654\n",
       "bathrooms         31951.265048\n",
       "sqft_basement     24818.603397\n",
       "condition         17793.428975\n",
       "sqft_living15     11796.101346\n",
       "yr_renovated       7024.710676\n",
       "sqft_lot           6583.742716\n",
       "floors             2087.618402\n",
       "id                -2779.410928\n",
       "sqft_lot15       -11832.950787\n",
       "zipcode          -33259.255654\n",
       "long             -33559.737132\n",
       "bedrooms         -34278.245449\n",
       "yr_built         -75973.587247\n",
       "dtype: float64"
      ]
     },
     "execution_count": 80,
     "metadata": {},
     "output_type": "execute_result"
    }
   ],
   "source": [
    "#Get the linear model coefficients from the `coef_` attribute and store in `coefs`,\n",
    "#get the matching feature names from the column names of the dataframe,\n",
    "#and display the results as a pandas Series with `coefs` as the values and `features` as the index,\n",
    "#sorting the values in descending order\n",
    "coefs = lr_grid_cv.best_estimator_.named_steps.linearregression.coef_\n",
    "features = X_train.columns[selected]\n",
    "pd.Series(coefs, index=features).sort_values(ascending=False)"
   ]
  },
  {
   "cell_type": "markdown",
   "id": "aa15f607",
   "metadata": {},
   "source": [
    "The biggest positive feature is grade. 'grade' and 'price' have a positive correlation as shown in the EDA. \n",
    "\n",
    "## 2.5 Random Forest Model\n",
    "\n",
    "### 2.5.1 Define the pipeline"
   ]
  },
  {
   "cell_type": "code",
   "execution_count": 81,
   "id": "782fbd98",
   "metadata": {},
   "outputs": [],
   "source": [
    "#Define a pipeline comprising the steps:\n",
    "#SimpleImputer() with a strategy of 'median'\n",
    "#StandardScaler(),\n",
    "#and then RandomForestRegressor() with a random state of 47\n",
    "RF_pipe = make_pipeline(\n",
    "    SimpleImputer(strategy='median'),\n",
    "    StandardScaler(),\n",
    "    RandomForestRegressor(random_state=47)\n",
    ")"
   ]
  },
  {
   "cell_type": "markdown",
   "id": "415e7f14",
   "metadata": {},
   "source": [
    "### 2.5.2 Fit and assess performance using cross-validation"
   ]
  },
  {
   "cell_type": "code",
   "execution_count": 82,
   "id": "c14a5859",
   "metadata": {},
   "outputs": [],
   "source": [
    "#Call `cross_validate` to estimate the pipeline's performance.\n",
    "#Pass it the random forest pipe object, `X_train` and `y_train`,\n",
    "#and get it to use 5-fold cross-validation\n",
    "rf_default_cv_results = cross_validate( RF_pipe, X_train, y_train, cv=5)"
   ]
  },
  {
   "cell_type": "code",
   "execution_count": 83,
   "id": "9aa2483e",
   "metadata": {},
   "outputs": [
    {
     "data": {
      "text/plain": [
       "array([0.88407934, 0.88714809, 0.88336305, 0.88520436, 0.87813116])"
      ]
     },
     "execution_count": 83,
     "metadata": {},
     "output_type": "execute_result"
    }
   ],
   "source": [
    "rf_cv_scores = rf_default_cv_results['test_score']\n",
    "rf_cv_scores"
   ]
  },
  {
   "cell_type": "code",
   "execution_count": 84,
   "id": "ad7215e6",
   "metadata": {},
   "outputs": [
    {
     "data": {
      "text/plain": [
       "(0.883585199231599, 0.0030118426660173717)"
      ]
     },
     "execution_count": 84,
     "metadata": {},
     "output_type": "execute_result"
    }
   ],
   "source": [
    "np.mean(rf_cv_scores), np.std(rf_cv_scores)"
   ]
  },
  {
   "cell_type": "markdown",
   "id": "1bddfd56",
   "metadata": {},
   "source": [
    "### 2.5.3 Hyperparameter search using GridSearchCV"
   ]
  },
  {
   "cell_type": "code",
   "execution_count": 85,
   "id": "47999dc7",
   "metadata": {},
   "outputs": [
    {
     "data": {
      "text/plain": [
       "{'randomforestregressor__n_estimators': [10,\n",
       "  12,\n",
       "  16,\n",
       "  20,\n",
       "  26,\n",
       "  33,\n",
       "  42,\n",
       "  54,\n",
       "  69,\n",
       "  88,\n",
       "  112,\n",
       "  143,\n",
       "  183,\n",
       "  233,\n",
       "  297,\n",
       "  379,\n",
       "  483,\n",
       "  615,\n",
       "  784,\n",
       "  1000],\n",
       " 'standardscaler': [StandardScaler(), None],\n",
       " 'simpleimputer__strategy': ['mean', 'median']}"
      ]
     },
     "execution_count": 85,
     "metadata": {},
     "output_type": "execute_result"
    }
   ],
   "source": [
    "n_est = [int(n) for n in np.logspace(start=1, stop=3, num=20)]\n",
    "grid_params = {\n",
    "        'randomforestregressor__n_estimators': n_est,\n",
    "        'standardscaler': [StandardScaler(), None],\n",
    "        'simpleimputer__strategy': ['mean', 'median']\n",
    "}\n",
    "grid_params"
   ]
  },
  {
   "cell_type": "code",
   "execution_count": 86,
   "id": "251afdfa",
   "metadata": {},
   "outputs": [],
   "source": [
    "#Call `GridSearchCV` with the random forest pipeline, passing in the above `grid_params`\n",
    "#dict for parameters to evaluate, 5-fold cross-validation, and all available CPU cores (if desired)\n",
    "rf_grid_cv = GridSearchCV(RF_pipe, param_grid=grid_params, cv=5, n_jobs=-1)"
   ]
  },
  {
   "cell_type": "code",
   "execution_count": 88,
   "id": "e633760c",
   "metadata": {},
   "outputs": [
    {
     "data": {
      "text/plain": [
       "GridSearchCV(cv=5,\n",
       "             estimator=Pipeline(steps=[('simpleimputer',\n",
       "                                        SimpleImputer(strategy='median')),\n",
       "                                       ('standardscaler', StandardScaler()),\n",
       "                                       ('randomforestregressor',\n",
       "                                        RandomForestRegressor(random_state=47))]),\n",
       "             n_jobs=-1,\n",
       "             param_grid={'randomforestregressor__n_estimators': [10, 12, 16, 20,\n",
       "                                                                 26, 33, 42, 54,\n",
       "                                                                 69, 88, 112,\n",
       "                                                                 143, 183, 233,\n",
       "                                                                 297, 379, 483,\n",
       "                                                                 615, 784,\n",
       "                                                                 1000],\n",
       "                         'simpleimputer__strategy': ['mean', 'median'],\n",
       "                         'standardscaler': [StandardScaler(), None]})"
      ]
     },
     "execution_count": 88,
     "metadata": {},
     "output_type": "execute_result"
    }
   ],
   "source": [
    "#Now call the `GridSearchCV`'s `fit()` method with `X_train` and `y_train` as arguments\n",
    "#to actually start the grid search. This may take a minute or two.\n",
    "rf_grid_cv.fit(X_train, y_train)"
   ]
  },
  {
   "cell_type": "code",
   "execution_count": 89,
   "id": "fe8a8e6c",
   "metadata": {},
   "outputs": [
    {
     "data": {
      "text/plain": [
       "{'randomforestregressor__n_estimators': 483,\n",
       " 'simpleimputer__strategy': 'mean',\n",
       " 'standardscaler': StandardScaler()}"
      ]
     },
     "execution_count": 89,
     "metadata": {},
     "output_type": "execute_result"
    }
   ],
   "source": [
    "#Print the best params (`best_params_` attribute) from the grid search\n",
    "rf_grid_cv.best_params_"
   ]
  },
  {
   "cell_type": "code",
   "execution_count": 90,
   "id": "1befc3a1",
   "metadata": {},
   "outputs": [
    {
     "data": {
      "text/plain": [
       "array([0.88641065, 0.88735705, 0.88615971, 0.88622508, 0.88005328])"
      ]
     },
     "execution_count": 90,
     "metadata": {},
     "output_type": "execute_result"
    }
   ],
   "source": [
    "rf_best_cv_results = cross_validate(rf_grid_cv.best_estimator_, X_train, y_train, cv=5)\n",
    "rf_best_scores = rf_best_cv_results['test_score']\n",
    "rf_best_scores"
   ]
  },
  {
   "cell_type": "code",
   "execution_count": 91,
   "id": "1514ffbd",
   "metadata": {},
   "outputs": [
    {
     "data": {
      "text/plain": [
       "(0.8852411544867655, 0.0026294708885447595)"
      ]
     },
     "execution_count": 91,
     "metadata": {},
     "output_type": "execute_result"
    }
   ],
   "source": [
    "np.mean(rf_best_scores), np.std(rf_best_scores)"
   ]
  },
  {
   "cell_type": "code",
   "execution_count": 92,
   "id": "99e82944",
   "metadata": {},
   "outputs": [
    {
     "data": {
      "image/png": "[encoded data removed]",
      "text/plain": [
       "<Figure size 720x360 with 1 Axes>"
      ]
     },
     "metadata": {
      "needs_background": "light"
     },
     "output_type": "display_data"
    }
   ],
   "source": [
    "#Plot a barplot of the random forest's feature importances,\n",
    "#assigning the `feature_importances_` attribute of \n",
    "#`rf_grid_cv.best_estimator_.named_steps.randomforestregressor` to the name `imps` to then\n",
    "#create a pandas Series object of the feature importances, with the index given by the\n",
    "#training data column names, sorting the values in descending order\n",
    "plt.subplots(figsize=(10, 5))\n",
    "imps = rf_grid_cv.best_estimator_.named_steps.randomforestregressor.feature_importances_\n",
    "rf_feat_imps = pd.Series(imps, index=X_train.columns).sort_values(ascending=False)\n",
    "rf_feat_imps.plot(kind='bar')\n",
    "plt.xlabel('features')\n",
    "plt.ylabel('importance')\n",
    "plt.title('Best random forest regressor feature importances');"
   ]
  },
  {
   "cell_type": "markdown",
   "id": "2f7f6dae",
   "metadata": {},
   "source": [
    "The top four groups are \"sqft_living\", 'grade', 'lat', 'long'\n",
    "\n",
    "## 2.6 Final Model Selection\n",
    "\n",
    "### 2.6.1 Linear regression model performance"
   ]
  },
  {
   "cell_type": "code",
   "execution_count": 93,
   "id": "af751655",
   "metadata": {},
   "outputs": [],
   "source": [
    "# 'neg_mean_absolute_error' uses the (negative of) the mean absolute error\n",
    "lr_neg_mae = cross_validate(lr_grid_cv.best_estimator_, X_train, y_train, \n",
    "                            scoring='neg_mean_absolute_error', cv=5, n_jobs=-1)"
   ]
  },
  {
   "cell_type": "code",
   "execution_count": 94,
   "id": "f3d4b171",
   "metadata": {},
   "outputs": [
    {
     "data": {
      "text/plain": [
       "(127077.49258864342, 2309.4694754865054)"
      ]
     },
     "execution_count": 94,
     "metadata": {},
     "output_type": "execute_result"
    }
   ],
   "source": [
    "lr_mae_mean = np.mean(-1 * lr_neg_mae['test_score'])\n",
    "lr_mae_std = np.std(-1 * lr_neg_mae['test_score'])\n",
    "lr_mae_mean, lr_mae_std"
   ]
  },
  {
   "cell_type": "code",
   "execution_count": 95,
   "id": "94da9507",
   "metadata": {},
   "outputs": [
    {
     "data": {
      "text/plain": [
       "126578.84820141118"
      ]
     },
     "execution_count": 95,
     "metadata": {},
     "output_type": "execute_result"
    }
   ],
   "source": [
    "mean_absolute_error(y_test, lr_grid_cv.best_estimator_.predict(X_test))"
   ]
  },
  {
   "cell_type": "markdown",
   "id": "3bc737a5",
   "metadata": {},
   "source": [
    "### 2.6.2 Random forest regression model performance"
   ]
  },
  {
   "cell_type": "code",
   "execution_count": 96,
   "id": "5eef3102",
   "metadata": {},
   "outputs": [],
   "source": [
    "rf_neg_mae = cross_validate(rf_grid_cv.best_estimator_, X_train, y_train, \n",
    "                            scoring='neg_mean_absolute_error', cv=5, n_jobs=-1)"
   ]
  },
  {
   "cell_type": "code",
   "execution_count": 97,
   "id": "b405ebae",
   "metadata": {},
   "outputs": [
    {
     "data": {
      "text/plain": [
       "(69929.6092561046, 930.6045036447869)"
      ]
     },
     "execution_count": 97,
     "metadata": {},
     "output_type": "execute_result"
    }
   ],
   "source": [
    "rf_mae_mean = np.mean(-1 * rf_neg_mae['test_score'])\n",
    "rf_mae_std = np.std(-1 * rf_neg_mae['test_score'])\n",
    "rf_mae_mean, rf_mae_std"
   ]
  },
  {
   "cell_type": "code",
   "execution_count": 98,
   "id": "7f26a387",
   "metadata": {},
   "outputs": [
    {
     "data": {
      "text/plain": [
       "68411.80935416724"
      ]
     },
     "execution_count": 98,
     "metadata": {},
     "output_type": "execute_result"
    }
   ],
   "source": [
    "mean_absolute_error(y_test, rf_grid_cv.best_estimator_.predict(X_test))"
   ]
  },
  {
   "cell_type": "markdown",
   "id": "418d323d",
   "metadata": {},
   "source": [
    "### 2.6.3 Conclusion\n",
    "\n",
    "\n",
    "\n",
    "\n",
    "## 2.7 Data quantity assessment"
   ]
  },
  {
   "cell_type": "code",
   "execution_count": 99,
   "id": "3bdb9393",
   "metadata": {},
   "outputs": [],
   "source": [
    "fractions = [.2, .25, .3, .35, .4, .45, .5, .6, .75, .8, 1.0]\n",
    "train_size, train_scores, test_scores = learning_curve(pipe, X_train, y_train, train_sizes=fractions)\n",
    "train_scores_mean = np.mean(train_scores, axis=1)\n",
    "train_scores_std = np.std(train_scores, axis=1)\n",
    "test_scores_mean = np.mean(test_scores, axis=1)\n",
    "test_scores_std = np.std(test_scores, axis=1)"
   ]
  },
  {
   "cell_type": "code",
   "execution_count": 100,
   "id": "04c7073a",
   "metadata": {},
   "outputs": [
    {
     "data": {
      "image/png": "[encoded data removed]",
      "text/plain": [
       "<Figure size 720x360 with 1 Axes>"
      ]
     },
     "metadata": {
      "needs_background": "light"
     },
     "output_type": "display_data"
    }
   ],
   "source": [
    "plt.subplots(figsize=(10, 5))\n",
    "plt.errorbar(train_size, test_scores_mean, yerr=test_scores_std)\n",
    "plt.xlabel('Training set size')\n",
    "plt.ylabel('CV scores')\n",
    "plt.title('Cross-validation score as training set size increases');"
   ]
  }
 ],
 "metadata": {
  "kernelspec": {
   "display_name": "Python 3 (ipykernel)",
   "language": "python",
   "name": "python3"
  },
  "language_info": {
   "codemirror_mode": {
    "name": "ipython",
    "version": 3
   },
   "file_extension": ".py",
   "mimetype": "text/x-python",
   "name": "python",
   "nbconvert_exporter": "python",
   "pygments_lexer": "ipython3",
   "version": "3.9.7"
  }
 },
 "nbformat": 4,
 "nbformat_minor": 5
}
