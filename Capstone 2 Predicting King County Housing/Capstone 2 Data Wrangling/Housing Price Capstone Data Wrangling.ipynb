{
 "cells": [
  {
   "cell_type": "code",
   "execution_count": 1,
   "id": "8ed0de83",
   "metadata": {},
   "outputs": [],
   "source": [
    "#import libraries\n",
    "import pandas as pd\n",
    "import opendatasets as od\n",
    "import os"
   ]
  },
  {
   "cell_type": "markdown",
   "id": "38fda899",
   "metadata": {},
   "source": [
    "# 1. Data Collection"
   ]
  },
  {
   "cell_type": "code",
   "execution_count": 2,
   "id": "548caa16",
   "metadata": {},
   "outputs": [
    {
     "name": "stdout",
     "output_type": "stream",
     "text": [
      "Skipping, found downloaded files in \"./kc-house-data\" (use force=True to force download)\n"
     ]
    }
   ],
   "source": [
    "#get the data from API\n",
    "housingAPI = od.download(\"https://www.kaggle.com/shivachandel/kc-house-data\")"
   ]
  },
  {
   "cell_type": "code",
   "execution_count": 3,
   "id": "6e4f702e",
   "metadata": {},
   "outputs": [],
   "source": [
    "#get the data and read it \n",
    "housingData = pd.read_csv('./kc-house-data/kc_house_data.csv')"
   ]
  },
  {
   "cell_type": "markdown",
   "id": "f0991b09",
   "metadata": {},
   "source": [
    "# 2. Data Organization"
   ]
  },
  {
   "cell_type": "code",
   "execution_count": 4,
   "id": "74d67c5d",
   "metadata": {},
   "outputs": [
    {
     "name": "stdout",
     "output_type": "stream",
     "text": [
      "<class 'pandas.core.frame.DataFrame'>\n",
      "RangeIndex: 21613 entries, 0 to 21612\n",
      "Data columns (total 21 columns):\n",
      " #   Column         Non-Null Count  Dtype  \n",
      "---  ------         --------------  -----  \n",
      " 0   id             21613 non-null  int64  \n",
      " 1   date           21613 non-null  object \n",
      " 2   price          21613 non-null  float64\n",
      " 3   bedrooms       21613 non-null  int64  \n",
      " 4   bathrooms      21613 non-null  float64\n",
      " 5   sqft_living    21613 non-null  int64  \n",
      " 6   sqft_lot       21613 non-null  int64  \n",
      " 7   floors         21613 non-null  float64\n",
      " 8   waterfront     21613 non-null  int64  \n",
      " 9   view           21613 non-null  int64  \n",
      " 10  condition      21613 non-null  int64  \n",
      " 11  grade          21613 non-null  int64  \n",
      " 12  sqft_above     21611 non-null  float64\n",
      " 13  sqft_basement  21613 non-null  int64  \n",
      " 14  yr_built       21613 non-null  int64  \n",
      " 15  yr_renovated   21613 non-null  int64  \n",
      " 16  zipcode        21613 non-null  int64  \n",
      " 17  lat            21613 non-null  float64\n",
      " 18  long           21613 non-null  float64\n",
      " 19  sqft_living15  21613 non-null  int64  \n",
      " 20  sqft_lot15     21613 non-null  int64  \n",
      "dtypes: float64(6), int64(14), object(1)\n",
      "memory usage: 3.5+ MB\n"
     ]
    },
    {
     "data": {
      "text/plain": [
       "'\\nThere are 21,613 entries and 21 columns\\n'"
      ]
     },
     "execution_count": 4,
     "metadata": {},
     "output_type": "execute_result"
    }
   ],
   "source": [
    "# view summary of data\n",
    "housingData.info()\n",
    "housingData.head()\n",
    "\n",
    "\"\"\"\n",
    "There are 21,613 entries and 21 columns\n",
    "\"\"\""
   ]
  },
  {
   "cell_type": "markdown",
   "id": "ffeb00e4",
   "metadata": {},
   "source": [
    "# 3. Data Definition"
   ]
  },
  {
   "cell_type": "code",
   "execution_count": 5,
   "id": "3a9e305e",
   "metadata": {},
   "outputs": [
    {
     "name": "stdout",
     "output_type": "stream",
     "text": [
      "<class 'pandas.core.frame.DataFrame'>\n",
      "RangeIndex: 21613 entries, 0 to 21612\n",
      "Data columns (total 21 columns):\n",
      " #   Column         Non-Null Count  Dtype  \n",
      "---  ------         --------------  -----  \n",
      " 0   id             21613 non-null  int64  \n",
      " 1   date           21613 non-null  object \n",
      " 2   price          21613 non-null  float64\n",
      " 3   bedrooms       21613 non-null  int64  \n",
      " 4   bathrooms      21613 non-null  float64\n",
      " 5   sqft_living    21613 non-null  int64  \n",
      " 6   sqft_lot       21613 non-null  int64  \n",
      " 7   floors         21613 non-null  float64\n",
      " 8   waterfront     21613 non-null  int64  \n",
      " 9   view           21613 non-null  int64  \n",
      " 10  condition      21613 non-null  int64  \n",
      " 11  grade          21613 non-null  int64  \n",
      " 12  sqft_above     21611 non-null  float64\n",
      " 13  sqft_basement  21613 non-null  int64  \n",
      " 14  yr_built       21613 non-null  int64  \n",
      " 15  yr_renovated   21613 non-null  int64  \n",
      " 16  zipcode        21613 non-null  int64  \n",
      " 17  lat            21613 non-null  float64\n",
      " 18  long           21613 non-null  float64\n",
      " 19  sqft_living15  21613 non-null  int64  \n",
      " 20  sqft_lot15     21613 non-null  int64  \n",
      "dtypes: float64(6), int64(14), object(1)\n",
      "memory usage: 3.5+ MB\n"
     ]
    }
   ],
   "source": [
    "\"\"\"\"\n",
    "1. Do your column names correspond to what those columns\n",
    "store? Yes\n",
    "\n",
    "#Variables Description Data Type of some columns\n",
    "\n",
    "view Has been viewed Numeric\n",
    "condition How good the condition is ( Overall ). 1 indicates worn out property and 5 excellent.\n",
    "    (http://info.kingcounty.gov/assessor/esales/Glossary.aspx?type=r#g) Numeric\n",
    "grade overall grade given to the housing unit, based on King County grading system. 1 poor ,13 excellent. Numeric\n",
    "sqftabove square footage of house apart from basement Numeric \n",
    "sqftbasement square footage of the basement Numeric\n",
    "sqftliving15 Living room area in 2015(implies-- some renovations) This might or might not have affected the lotsize area Numeric \n",
    "sqftlot15 lotSize area in 2015(implies-- some renovations) Numeric\n",
    "\"\"\"\n",
    "\n",
    "#2. Check the data types of the columns\n",
    "housingData.info()"
   ]
  },
  {
   "cell_type": "markdown",
   "id": "062fc403",
   "metadata": {},
   "source": [
    "# 4. Data Cleaning"
   ]
  },
  {
   "cell_type": "code",
   "execution_count": 7,
   "id": "9c183c2d",
   "metadata": {},
   "outputs": [
    {
     "name": "stdout",
     "output_type": "stream",
     "text": [
      "Empty DataFrame\n",
      "Columns: [id, date, price, bedrooms, bathrooms, sqft_living, sqft_lot, floors, waterfront, view, condition, grade, sqft_above, sqft_basement, yr_built, yr_renovated, zipcode, lat, long, sqft_living15, sqft_lot15]\n",
      "Index: []\n",
      "\n",
      "[0 rows x 21 columns]\n"
     ]
    }
   ],
   "source": [
    "#print(type(housingData))\n",
    "\n",
    "#check for duplicates\n",
    "housingData.duplicated()\n",
    "\n",
    "duplicate = housingData[housingData.duplicated()]\n",
    "print(duplicate)\n",
    "\n",
    "#There are no duplicates. If there were duplicates, I could use drop() to drop the duplicated items"
   ]
  },
  {
   "cell_type": "code",
   "execution_count": 27,
   "id": "f699eff3",
   "metadata": {},
   "outputs": [
    {
     "data": {
      "text/html": [
       "<div>\n",
       "<style scoped>\n",
       "    .dataframe tbody tr th:only-of-type {\n",
       "        vertical-align: middle;\n",
       "    }\n",
       "\n",
       "    .dataframe tbody tr th {\n",
       "        vertical-align: top;\n",
       "    }\n",
       "\n",
       "    .dataframe thead th {\n",
       "        text-align: right;\n",
       "    }\n",
       "</style>\n",
       "<table border=\"1\" class=\"dataframe\">\n",
       "  <thead>\n",
       "    <tr style=\"text-align: right;\">\n",
       "      <th></th>\n",
       "      <th>id</th>\n",
       "      <th>date</th>\n",
       "      <th>price</th>\n",
       "      <th>bedrooms</th>\n",
       "      <th>bathrooms</th>\n",
       "      <th>sqft_living</th>\n",
       "      <th>sqft_lot</th>\n",
       "      <th>floors</th>\n",
       "      <th>waterfront</th>\n",
       "      <th>view</th>\n",
       "      <th>...</th>\n",
       "      <th>grade</th>\n",
       "      <th>sqft_above</th>\n",
       "      <th>sqft_basement</th>\n",
       "      <th>yr_built</th>\n",
       "      <th>yr_renovated</th>\n",
       "      <th>zipcode</th>\n",
       "      <th>lat</th>\n",
       "      <th>long</th>\n",
       "      <th>sqft_living15</th>\n",
       "      <th>sqft_lot15</th>\n",
       "    </tr>\n",
       "  </thead>\n",
       "  <tbody>\n",
       "    <tr>\n",
       "      <th>10</th>\n",
       "      <td>1736800520</td>\n",
       "      <td>20150403T000000</td>\n",
       "      <td>662500.0</td>\n",
       "      <td>3</td>\n",
       "      <td>2.5</td>\n",
       "      <td>3560</td>\n",
       "      <td>9796</td>\n",
       "      <td>1.0</td>\n",
       "      <td>0</td>\n",
       "      <td>0</td>\n",
       "      <td>...</td>\n",
       "      <td>8</td>\n",
       "      <td>NaN</td>\n",
       "      <td>1700</td>\n",
       "      <td>1965</td>\n",
       "      <td>0</td>\n",
       "      <td>98007</td>\n",
       "      <td>47.6007</td>\n",
       "      <td>-122.145</td>\n",
       "      <td>2210</td>\n",
       "      <td>8925</td>\n",
       "    </tr>\n",
       "    <tr>\n",
       "      <th>17</th>\n",
       "      <td>6865200140</td>\n",
       "      <td>20140529T000000</td>\n",
       "      <td>485000.0</td>\n",
       "      <td>4</td>\n",
       "      <td>1.0</td>\n",
       "      <td>1600</td>\n",
       "      <td>4300</td>\n",
       "      <td>1.5</td>\n",
       "      <td>0</td>\n",
       "      <td>0</td>\n",
       "      <td>...</td>\n",
       "      <td>7</td>\n",
       "      <td>NaN</td>\n",
       "      <td>0</td>\n",
       "      <td>1916</td>\n",
       "      <td>0</td>\n",
       "      <td>98103</td>\n",
       "      <td>47.6648</td>\n",
       "      <td>-122.343</td>\n",
       "      <td>1610</td>\n",
       "      <td>4300</td>\n",
       "    </tr>\n",
       "  </tbody>\n",
       "</table>\n",
       "<p>2 rows × 21 columns</p>\n",
       "</div>"
      ],
      "text/plain": [
       "            id             date     price  bedrooms  bathrooms  sqft_living  \\\n",
       "10  1736800520  20150403T000000  662500.0         3        2.5         3560   \n",
       "17  6865200140  20140529T000000  485000.0         4        1.0         1600   \n",
       "\n",
       "    sqft_lot  floors  waterfront  view  ...  grade  sqft_above  sqft_basement  \\\n",
       "10      9796     1.0           0     0  ...      8         NaN           1700   \n",
       "17      4300     1.5           0     0  ...      7         NaN              0   \n",
       "\n",
       "    yr_built  yr_renovated  zipcode      lat     long  sqft_living15  \\\n",
       "10      1965             0    98007  47.6007 -122.145           2210   \n",
       "17      1916             0    98103  47.6648 -122.343           1610   \n",
       "\n",
       "    sqft_lot15  \n",
       "10        8925  \n",
       "17        4300  \n",
       "\n",
       "[2 rows x 21 columns]"
      ]
     },
     "execution_count": 27,
     "metadata": {},
     "output_type": "execute_result"
    }
   ],
   "source": [
    "#check for any null values\n",
    "housingData.isnull().values.any()\n",
    "\n",
    "#check how many null values\n",
    "housingData.isnull().sum()\n",
    "\n",
    "# 2 null values are in the sqft_above column > index 10 & 17\n",
    "housingData[housingData['sqft_above'].isna()]"
   ]
  },
  {
   "cell_type": "code",
   "execution_count": 28,
   "id": "862c8e8d",
   "metadata": {},
   "outputs": [
    {
     "data": {
      "text/plain": [
       "id               0\n",
       "date             0\n",
       "price            0\n",
       "bedrooms         0\n",
       "bathrooms        0\n",
       "sqft_living      0\n",
       "sqft_lot         0\n",
       "floors           0\n",
       "waterfront       0\n",
       "view             0\n",
       "condition        0\n",
       "grade            0\n",
       "sqft_above       0\n",
       "sqft_basement    0\n",
       "yr_built         0\n",
       "yr_renovated     0\n",
       "zipcode          0\n",
       "lat              0\n",
       "long             0\n",
       "sqft_living15    0\n",
       "sqft_lot15       0\n",
       "dtype: int64"
      ]
     },
     "execution_count": 28,
     "metadata": {},
     "output_type": "execute_result"
    }
   ],
   "source": [
    "#Remove the rows where sqft_above is not NA\n",
    "newHousingDF = housingData[housingData['sqft_above'].notna()]\n",
    "\n",
    "newHousingDF.isnull().sum()"
   ]
  },
  {
   "cell_type": "code",
   "execution_count": 30,
   "id": "3d38e517",
   "metadata": {},
   "outputs": [
    {
     "name": "stdout",
     "output_type": "stream",
     "text": [
      "<class 'pandas.core.frame.DataFrame'>\n",
      "Int64Index: 21611 entries, 0 to 21612\n",
      "Data columns (total 21 columns):\n",
      " #   Column         Non-Null Count  Dtype  \n",
      "---  ------         --------------  -----  \n",
      " 0   id             21611 non-null  int64  \n",
      " 1   date           21611 non-null  object \n",
      " 2   price          21611 non-null  float64\n",
      " 3   bedrooms       21611 non-null  int64  \n",
      " 4   bathrooms      21611 non-null  float64\n",
      " 5   sqft_living    21611 non-null  int64  \n",
      " 6   sqft_lot       21611 non-null  int64  \n",
      " 7   floors         21611 non-null  float64\n",
      " 8   waterfront     21611 non-null  int64  \n",
      " 9   view           21611 non-null  int64  \n",
      " 10  condition      21611 non-null  int64  \n",
      " 11  grade          21611 non-null  int64  \n",
      " 12  sqft_above     21611 non-null  float64\n",
      " 13  sqft_basement  21611 non-null  int64  \n",
      " 14  yr_built       21611 non-null  int64  \n",
      " 15  yr_renovated   21611 non-null  int64  \n",
      " 16  zipcode        21611 non-null  int64  \n",
      " 17  lat            21611 non-null  float64\n",
      " 18  long           21611 non-null  float64\n",
      " 19  sqft_living15  21611 non-null  int64  \n",
      " 20  sqft_lot15     21611 non-null  int64  \n",
      "dtypes: float64(6), int64(14), object(1)\n",
      "memory usage: 3.6+ MB\n"
     ]
    }
   ],
   "source": [
    "#Check the data > now have 21,611 rows\n",
    "newHousingDF.info()"
   ]
  },
  {
   "cell_type": "code",
   "execution_count": null,
   "id": "3611e307",
   "metadata": {},
   "outputs": [],
   "source": []
  }
 ],
 "metadata": {
  "kernelspec": {
   "display_name": "Python 3 (ipykernel)",
   "language": "python",
   "name": "python3"
  },
  "language_info": {
   "codemirror_mode": {
    "name": "ipython",
    "version": 3
   },
   "file_extension": ".py",
   "mimetype": "text/x-python",
   "name": "python",
   "nbconvert_exporter": "python",
   "pygments_lexer": "ipython3",
   "version": "3.9.7"
  }
 },
 "nbformat": 4,
 "nbformat_minor": 5
}
