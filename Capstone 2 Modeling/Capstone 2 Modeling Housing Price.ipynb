{
 "cells": [
  {
   "cell_type": "markdown",
   "id": "7de681d4",
   "metadata": {},
   "source": [
    "# Predict House Prices in King County, Washington  \n",
    "\n",
    "## Overview \n",
    "\n",
    "King County, Washington is the most populous county in Washington. It is also the 12th most populous in the United States. Washington's most populous city is Seattle.\n",
    "\n",
    "Our goal is to predict the price of a house based on houses sold between May 2014 to May 2015 in King County, Washington State, USA.  "
   ]
  },
  {
   "cell_type": "code",
   "execution_count": 1,
   "id": "a2a4c5f9",
   "metadata": {},
   "outputs": [],
   "source": [
    "#imports \n",
    "import pandas as pd\n",
    "import numpy as np\n",
    "import opendatasets as od\n",
    "#import os\n",
    "#import pickle\n",
    "from sklearn.linear_model import LinearRegression\n",
    "import matplotlib.pyplot as plt\n",
    "import seaborn as sns\n",
    "from sklearn import __version__ as sklearn_version\n",
    "from sklearn.model_selection import GridSearchCV\n",
    "from sklearn import metrics\n",
    "from sklearn.metrics import accuracy_score\n",
    "from sklearn.model_selection import train_test_split,cross_validate\n",
    "from sklearn.pipeline import make_pipeline\n",
    "from sklearn.dummy import DummyRegressor\n",
    "from sklearn.preprocessing import StandardScaler\n",
    "from sklearn.ensemble import RandomForestClassifier"
   ]
  },
  {
   "cell_type": "markdown",
   "id": "82e1d8fd",
   "metadata": {},
   "source": [
    "# 1. Data Wrangling"
   ]
  },
  {
   "cell_type": "code",
   "execution_count": 2,
   "id": "bfa3b464",
   "metadata": {},
   "outputs": [
    {
     "name": "stdout",
     "output_type": "stream",
     "text": [
      "Skipping, found downloaded files in \"./kc-house-data\" (use force=True to force download)\n"
     ]
    }
   ],
   "source": [
    "#get the data from API\n",
    "#https://www.kaggle.com/swathiachath/kc-housesales-data > data with explanations \n",
    "housingAPI = od.download(\"https://www.kaggle.com/shivachandel/kc-house-data\")"
   ]
  },
  {
   "cell_type": "code",
   "execution_count": 3,
   "id": "c4dbe463",
   "metadata": {},
   "outputs": [],
   "source": [
    "#get the data and read it \n",
    "housingData = pd.read_csv('./kc-house-data/kc_house_data.csv')"
   ]
  },
  {
   "cell_type": "code",
   "execution_count": 4,
   "id": "db80f963",
   "metadata": {},
   "outputs": [
    {
     "name": "stdout",
     "output_type": "stream",
     "text": [
      "Empty DataFrame\n",
      "Columns: [id, date, price, bedrooms, bathrooms, sqft_living, sqft_lot, floors, waterfront, view, condition, grade, sqft_above, sqft_basement, yr_built, yr_renovated, zipcode, lat, long, sqft_living15, sqft_lot15]\n",
      "Index: []\n",
      "\n",
      "[0 rows x 21 columns]\n"
     ]
    }
   ],
   "source": [
    "#check for duplicates\n",
    "housingData.duplicated()\n",
    "\n",
    "duplicate = housingData[housingData.duplicated()]\n",
    "print(duplicate)"
   ]
  },
  {
   "cell_type": "code",
   "execution_count": 5,
   "id": "0b46c055",
   "metadata": {},
   "outputs": [
    {
     "data": {
      "text/html": [
       "<div>\n",
       "<style scoped>\n",
       "    .dataframe tbody tr th:only-of-type {\n",
       "        vertical-align: middle;\n",
       "    }\n",
       "\n",
       "    .dataframe tbody tr th {\n",
       "        vertical-align: top;\n",
       "    }\n",
       "\n",
       "    .dataframe thead th {\n",
       "        text-align: right;\n",
       "    }\n",
       "</style>\n",
       "<table border=\"1\" class=\"dataframe\">\n",
       "  <thead>\n",
       "    <tr style=\"text-align: right;\">\n",
       "      <th></th>\n",
       "      <th>id</th>\n",
       "      <th>date</th>\n",
       "      <th>price</th>\n",
       "      <th>bedrooms</th>\n",
       "      <th>bathrooms</th>\n",
       "      <th>sqft_living</th>\n",
       "      <th>sqft_lot</th>\n",
       "      <th>floors</th>\n",
       "      <th>waterfront</th>\n",
       "      <th>view</th>\n",
       "      <th>...</th>\n",
       "      <th>grade</th>\n",
       "      <th>sqft_above</th>\n",
       "      <th>sqft_basement</th>\n",
       "      <th>yr_built</th>\n",
       "      <th>yr_renovated</th>\n",
       "      <th>zipcode</th>\n",
       "      <th>lat</th>\n",
       "      <th>long</th>\n",
       "      <th>sqft_living15</th>\n",
       "      <th>sqft_lot15</th>\n",
       "    </tr>\n",
       "  </thead>\n",
       "  <tbody>\n",
       "    <tr>\n",
       "      <th>10</th>\n",
       "      <td>1736800520</td>\n",
       "      <td>20150403T000000</td>\n",
       "      <td>662500.0</td>\n",
       "      <td>3</td>\n",
       "      <td>2.5</td>\n",
       "      <td>3560</td>\n",
       "      <td>9796</td>\n",
       "      <td>1.0</td>\n",
       "      <td>0</td>\n",
       "      <td>0</td>\n",
       "      <td>...</td>\n",
       "      <td>8</td>\n",
       "      <td>NaN</td>\n",
       "      <td>1700</td>\n",
       "      <td>1965</td>\n",
       "      <td>0</td>\n",
       "      <td>98007</td>\n",
       "      <td>47.6007</td>\n",
       "      <td>-122.145</td>\n",
       "      <td>2210</td>\n",
       "      <td>8925</td>\n",
       "    </tr>\n",
       "    <tr>\n",
       "      <th>17</th>\n",
       "      <td>6865200140</td>\n",
       "      <td>20140529T000000</td>\n",
       "      <td>485000.0</td>\n",
       "      <td>4</td>\n",
       "      <td>1.0</td>\n",
       "      <td>1600</td>\n",
       "      <td>4300</td>\n",
       "      <td>1.5</td>\n",
       "      <td>0</td>\n",
       "      <td>0</td>\n",
       "      <td>...</td>\n",
       "      <td>7</td>\n",
       "      <td>NaN</td>\n",
       "      <td>0</td>\n",
       "      <td>1916</td>\n",
       "      <td>0</td>\n",
       "      <td>98103</td>\n",
       "      <td>47.6648</td>\n",
       "      <td>-122.343</td>\n",
       "      <td>1610</td>\n",
       "      <td>4300</td>\n",
       "    </tr>\n",
       "  </tbody>\n",
       "</table>\n",
       "<p>2 rows × 21 columns</p>\n",
       "</div>"
      ],
      "text/plain": [
       "            id             date     price  bedrooms  bathrooms  sqft_living  \\\n",
       "10  1736800520  20150403T000000  662500.0         3        2.5         3560   \n",
       "17  6865200140  20140529T000000  485000.0         4        1.0         1600   \n",
       "\n",
       "    sqft_lot  floors  waterfront  view  ...  grade  sqft_above  sqft_basement  \\\n",
       "10      9796     1.0           0     0  ...      8         NaN           1700   \n",
       "17      4300     1.5           0     0  ...      7         NaN              0   \n",
       "\n",
       "    yr_built  yr_renovated  zipcode      lat     long  sqft_living15  \\\n",
       "10      1965             0    98007  47.6007 -122.145           2210   \n",
       "17      1916             0    98103  47.6648 -122.343           1610   \n",
       "\n",
       "    sqft_lot15  \n",
       "10        8925  \n",
       "17        4300  \n",
       "\n",
       "[2 rows x 21 columns]"
      ]
     },
     "execution_count": 5,
     "metadata": {},
     "output_type": "execute_result"
    }
   ],
   "source": [
    "#check for any null values\n",
    "housingData.isnull().values.any()\n",
    "\n",
    "#check how many null values\n",
    "housingData.isnull().sum()\n",
    "\n",
    "# 2 null values are in the sqft_above column > index 10 & 17\n",
    "housingData[housingData['sqft_above'].isna()]"
   ]
  },
  {
   "cell_type": "code",
   "execution_count": 6,
   "id": "a9d73d80",
   "metadata": {},
   "outputs": [
    {
     "data": {
      "text/plain": [
       "id               0\n",
       "date             0\n",
       "price            0\n",
       "bedrooms         0\n",
       "bathrooms        0\n",
       "sqft_living      0\n",
       "sqft_lot         0\n",
       "floors           0\n",
       "waterfront       0\n",
       "view             0\n",
       "condition        0\n",
       "grade            0\n",
       "sqft_above       0\n",
       "sqft_basement    0\n",
       "yr_built         0\n",
       "yr_renovated     0\n",
       "zipcode          0\n",
       "lat              0\n",
       "long             0\n",
       "sqft_living15    0\n",
       "sqft_lot15       0\n",
       "dtype: int64"
      ]
     },
     "execution_count": 6,
     "metadata": {},
     "output_type": "execute_result"
    }
   ],
   "source": [
    "#Remove the rows where sqft_above is not NA\n",
    "newHousingDF = housingData[housingData['sqft_above'].notna()]\n",
    "\n",
    "newHousingDF.isnull().sum()"
   ]
  },
  {
   "cell_type": "markdown",
   "id": "eb3d5e95",
   "metadata": {},
   "source": [
    "# 2 Preprocessing and Training\n",
    "\n",
    "\n",
    "## 2.1 Train/Test split"
   ]
  },
  {
   "cell_type": "code",
   "execution_count": 7,
   "id": "4f52ae5c",
   "metadata": {},
   "outputs": [],
   "source": [
    "#X = newHousingDF[[\"sqft_living\", 'grade', 'lat', 'long']]\n",
    "X = newHousingDF.drop(columns=['date', 'price', 'id', 'bathrooms', 'sqft_basement', 'yr_renovated'])\n",
    "y = newHousingDF['price']"
   ]
  },
  {
   "cell_type": "code",
   "execution_count": 8,
   "id": "d21ec360",
   "metadata": {},
   "outputs": [],
   "source": [
    "X_train, X_test, y_train, y_test = train_test_split(X, y, test_size=0.3, random_state=47)"
   ]
  },
  {
   "cell_type": "code",
   "execution_count": 9,
   "id": "36a45fd9",
   "metadata": {},
   "outputs": [
    {
     "name": "stdout",
     "output_type": "stream",
     "text": [
      "(15127, 15) (6484, 15) (15127,) (6484,)\n"
     ]
    }
   ],
   "source": [
    "print(X_train.shape, X_test.shape, y_train.shape, y_test.shape)"
   ]
  },
  {
   "cell_type": "markdown",
   "id": "70645678",
   "metadata": {},
   "source": [
    "### Metrics "
   ]
  },
  {
   "cell_type": "code",
   "execution_count": 10,
   "id": "3af32826",
   "metadata": {},
   "outputs": [],
   "source": [
    "def r_squared(y, ypred):\n",
    "    \"\"\"R-squared score.\n",
    "    Arguments:\n",
    "    y -- the observed values\n",
    "    ypred -- the predicted values\n",
    "    \"\"\"\n",
    "    ybar = np.sum(y) / len(y) #yes, we could use np.mean(y)\n",
    "    sum_sq_tot = np.sum((y - ybar)**2) #total sum of squares error\n",
    "    sum_sq_res = np.sum((y - ypred)**2) #residual sum of squares error\n",
    "    R2 = 1.0 - sum_sq_res / sum_sq_tot\n",
    "    return R2"
   ]
  },
  {
   "cell_type": "code",
   "execution_count": 11,
   "id": "3d1d38d9",
   "metadata": {},
   "outputs": [
    {
     "data": {
      "text/plain": [
       "541317.1673828254"
      ]
     },
     "execution_count": 11,
     "metadata": {},
     "output_type": "execute_result"
    }
   ],
   "source": [
    "#Calculate the mean of `y_train`\n",
    "train_mean = y_train.mean()\n",
    "train_mean"
   ]
  },
  {
   "cell_type": "code",
   "execution_count": 12,
   "id": "665a32c2",
   "metadata": {},
   "outputs": [
    {
     "data": {
      "text/plain": [
       "array([[541317.16738283]])"
      ]
     },
     "execution_count": 12,
     "metadata": {},
     "output_type": "execute_result"
    }
   ],
   "source": [
    "#init dummy regressor\n",
    "dumb_reg = DummyRegressor(strategy='mean')\n",
    "dumb_reg.fit(X_train, y_train)\n",
    "dumb_reg.constant_"
   ]
  },
  {
   "cell_type": "code",
   "execution_count": 13,
   "id": "3c17cf6c",
   "metadata": {},
   "outputs": [
    {
     "data": {
      "text/plain": [
       "array([541317.16738283, 541317.16738283, 541317.16738283, 541317.16738283,\n",
       "       541317.16738283])"
      ]
     },
     "execution_count": 13,
     "metadata": {},
     "output_type": "execute_result"
    }
   ],
   "source": [
    "y_tr_pred = dumb_reg.predict(X_train)\n",
    "y_tr_pred[:5]"
   ]
  },
  {
   "cell_type": "code",
   "execution_count": 14,
   "id": "3755fca8",
   "metadata": {},
   "outputs": [
    {
     "data": {
      "text/plain": [
       "-0.0001319455771289224"
      ]
     },
     "execution_count": 14,
     "metadata": {},
     "output_type": "execute_result"
    }
   ],
   "source": [
    "y_te_pred = train_mean * np.ones(len(y_test))\n",
    "r_squared(y_test, y_te_pred)"
   ]
  },
  {
   "cell_type": "code",
   "execution_count": 15,
   "id": "e99dd23b",
   "metadata": {},
   "outputs": [],
   "source": [
    "#mean squared error function\n",
    "def mse(y, ypred):\n",
    "    \"\"\"Mean square error.\n",
    "\n",
    "    Arguments:\n",
    "    y -- the observed values\n",
    "    ypred -- the predicted values\n",
    "    \"\"\"\n",
    "    sq_error = (y - ypred)**2\n",
    "    mse = np.mean(sq_error)\n",
    "    return mse"
   ]
  },
  {
   "cell_type": "code",
   "execution_count": 16,
   "id": "0fd998e7",
   "metadata": {},
   "outputs": [
    {
     "data": {
      "text/plain": [
       "array([371174.53555269, 357539.02472642])"
      ]
     },
     "execution_count": 16,
     "metadata": {},
     "output_type": "execute_result"
    }
   ],
   "source": [
    "#root mean square error\n",
    "np.sqrt([mse(y_train, y_tr_pred), mse(y_test, y_te_pred)])"
   ]
  },
  {
   "cell_type": "code",
   "execution_count": null,
   "id": "e64be0c6",
   "metadata": {},
   "outputs": [],
   "source": []
  },
  {
   "cell_type": "markdown",
   "id": "3efb153a",
   "metadata": {},
   "source": [
    "## 2.2 Linear regression"
   ]
  },
  {
   "cell_type": "code",
   "execution_count": 17,
   "id": "5a011c66",
   "metadata": {},
   "outputs": [
    {
     "name": "stdout",
     "output_type": "stream",
     "text": [
      "                            OLS Regression Results                            \n",
      "==============================================================================\n",
      "Dep. Variable:                  price   R-squared:                       0.697\n",
      "Model:                            OLS   Adj. R-squared:                  0.697\n",
      "Method:                 Least Squares   F-statistic:                     3309.\n",
      "Date:                Tue, 19 Apr 2022   Prob (F-statistic):               0.00\n",
      "Time:                        15:45:40   Log-Likelihood:            -2.9468e+05\n",
      "No. Observations:               21611   AIC:                         5.894e+05\n",
      "Df Residuals:                   21595   BIC:                         5.895e+05\n",
      "Df Model:                          15                                         \n",
      "Covariance Type:            nonrobust                                         \n",
      "=================================================================================\n",
      "                    coef    std err          t      P>|t|      [0.025      0.975]\n",
      "---------------------------------------------------------------------------------\n",
      "const           7.79e+06   2.94e+06      2.651      0.008    2.03e+06    1.35e+07\n",
      "bedrooms       -3.12e+04   1864.341    -16.733      0.000   -3.49e+04   -2.75e+04\n",
      "sqft_living     175.3077      3.999     43.840      0.000     167.470     183.146\n",
      "sqft_lot          0.1297      0.048      2.693      0.007       0.035       0.224\n",
      "floors         2.078e+04   3474.473      5.982      0.000     1.4e+04    2.76e+04\n",
      "waterfront     5.888e+05   1.74e+04     33.805      0.000    5.55e+05    6.23e+05\n",
      "view           5.389e+04   2148.832     25.079      0.000    4.97e+04    5.81e+04\n",
      "condition      2.558e+04   2325.209     11.001      0.000     2.1e+04    3.01e+04\n",
      "grade          9.876e+04   2154.048     45.850      0.000    9.45e+04    1.03e+05\n",
      "sqft_above       21.6091      4.327      4.993      0.000      13.127      30.091\n",
      "yr_built      -2464.2822     65.918    -37.384      0.000   -2593.486   -2335.079\n",
      "zipcode        -597.1313     33.128    -18.025      0.000    -662.065    -532.197\n",
      "lat            6.027e+05   1.08e+04     55.927      0.000    5.82e+05    6.24e+05\n",
      "long          -2.151e+05   1.32e+04    -16.309      0.000   -2.41e+05   -1.89e+05\n",
      "sqft_living15    18.9577      3.457      5.484      0.000      12.181      25.734\n",
      "sqft_lot15       -0.4019      0.074     -5.461      0.000      -0.546      -0.258\n",
      "==============================================================================\n",
      "Omnibus:                    18411.517   Durbin-Watson:                   1.990\n",
      "Prob(Omnibus):                  0.000   Jarque-Bera (JB):          1878270.339\n",
      "Skew:                           3.574   Prob(JB):                         0.00\n",
      "Kurtosis:                      48.109   Cond. No.                     2.15e+08\n",
      "==============================================================================\n",
      "\n",
      "Notes:\n",
      "[1] Standard Errors assume that the covariance matrix of the errors is correctly specified.\n",
      "[2] The condition number is large, 2.15e+08. This might indicate that there are\n",
      "strong multicollinearity or other numerical problems.\n"
     ]
    },
    {
     "name": "stderr",
     "output_type": "stream",
     "text": [
      "/Users/kierradangerfield/opt/anaconda3/lib/python3.9/site-packages/statsmodels/tsa/tsatools.py:142: FutureWarning: In a future version of pandas all arguments of concat except for the argument 'objs' will be keyword-only\n",
      "  x = pd.concat(x[::order], 1)\n"
     ]
    }
   ],
   "source": [
    "#Let's start with the stats model\n",
    "import statsmodels.api as sm\n",
    "\n",
    "\n",
    "X_stats = sm.add_constant(X)\n",
    "model = sm.OLS(y, X_stats).fit()\n",
    "\n",
    "print_model = model.summary()\n",
    "print(print_model)"
   ]
  },
  {
   "cell_type": "code",
   "execution_count": 18,
   "id": "aa2a4f7d",
   "metadata": {},
   "outputs": [],
   "source": [
    "#Linear model\n",
    "\n",
    "X_tr = X_train\n",
    "X_te = X_test\n",
    "\n",
    "#scale data\n",
    "scaler = StandardScaler()\n",
    "scaler.fit(X)\n",
    "X_tr_scaled = scaler.transform(X_tr)\n",
    "X_te_scaled = scaler.transform(X_te)"
   ]
  },
  {
   "cell_type": "code",
   "execution_count": 19,
   "id": "8f2d5903",
   "metadata": {},
   "outputs": [],
   "source": [
    "#create linear regression object and train the train on the model\n",
    "lm = LinearRegression().fit(X_tr_scaled, y_train)"
   ]
  },
  {
   "cell_type": "code",
   "execution_count": 20,
   "id": "078c8b51",
   "metadata": {},
   "outputs": [],
   "source": [
    "#predict it using the train and test \n",
    "y_tr_pred = lm.predict(X_tr_scaled)\n",
    "y_te_pred = lm.predict(X_te_scaled)"
   ]
  },
  {
   "cell_type": "code",
   "execution_count": 21,
   "id": "dde6123c",
   "metadata": {},
   "outputs": [
    {
     "data": {
      "text/plain": [
       "array([205344.01069285, 194733.20654819])"
      ]
     },
     "execution_count": 21,
     "metadata": {},
     "output_type": "execute_result"
    }
   ],
   "source": [
    "#root mean square error\n",
    "np.sqrt([mse(y_train, y_tr_pred), mse(y_test, y_te_pred)])"
   ]
  },
  {
   "cell_type": "markdown",
   "id": "029adf97",
   "metadata": {},
   "source": [
    "<b>We are going to use GridSearchCV.</b>"
   ]
  },
  {
   "cell_type": "code",
   "execution_count": 22,
   "id": "a02892df",
   "metadata": {},
   "outputs": [
    {
     "data": {
      "text/plain": [
       "dict_keys(['copy_X', 'fit_intercept', 'n_jobs', 'normalize', 'positive'])"
      ]
     },
     "execution_count": 22,
     "metadata": {},
     "output_type": "execute_result"
    }
   ],
   "source": [
    "#get the params for the gridsearch \n",
    "lm.get_params().keys()"
   ]
  },
  {
   "cell_type": "code",
   "execution_count": 23,
   "id": "807daae4",
   "metadata": {},
   "outputs": [
    {
     "name": "stdout",
     "output_type": "stream",
     "text": [
      "{'fit_intercept': True, 'normalize': True}\n"
     ]
    }
   ],
   "source": [
    "linear_params = {'fit_intercept': [True], 'normalize':[True]}\n",
    "#'copy_X': [True]\n",
    "gs = GridSearchCV(lm, linear_params, cv = 5)\n",
    "gs.fit(X_tr, y_train)\n",
    "\n",
    "print(gs.best_params_)"
   ]
  },
  {
   "cell_type": "code",
   "execution_count": 24,
   "id": "6f0eecde",
   "metadata": {},
   "outputs": [
    {
     "name": "stdout",
     "output_type": "stream",
     "text": [
      "0.692841236373096\n"
     ]
    }
   ],
   "source": [
    "#get the best scores \n",
    "print(gs.best_score_)"
   ]
  },
  {
   "cell_type": "markdown",
   "id": "0e6d0d06",
   "metadata": {},
   "source": [
    "<b>We will now get the Accuracy</b> "
   ]
  },
  {
   "cell_type": "code",
   "execution_count": 25,
   "id": "2cd68531",
   "metadata": {},
   "outputs": [
    {
     "data": {
      "text/plain": [
       "0.7033185264118567"
      ]
     },
     "execution_count": 25,
     "metadata": {},
     "output_type": "execute_result"
    }
   ],
   "source": [
    "lm.score(X_te_scaled, y_test)"
   ]
  },
  {
   "cell_type": "markdown",
   "id": "59e9b188",
   "metadata": {},
   "source": [
    "<b>The accuracy is 70%.</b>"
   ]
  },
  {
   "cell_type": "code",
   "execution_count": 26,
   "id": "4ec7ee83",
   "metadata": {},
   "outputs": [
    {
     "data": {
      "text/plain": [
       "array([205344.01069285, 194733.20654819])"
      ]
     },
     "execution_count": 26,
     "metadata": {},
     "output_type": "execute_result"
    }
   ],
   "source": [
    "#root mean square error\n",
    "np.sqrt([mse(y_train, y_tr_pred), mse(y_test, y_te_pred)])"
   ]
  },
  {
   "cell_type": "markdown",
   "id": "fa1cc9d4",
   "metadata": {},
   "source": [
    "## 2.3 Ridge regression"
   ]
  },
  {
   "cell_type": "code",
   "execution_count": 27,
   "id": "69f17e37",
   "metadata": {},
   "outputs": [],
   "source": [
    "from sklearn.linear_model import Ridge\n",
    "from sklearn import metrics\n",
    "\n",
    "ridge = Ridge().fit(X_tr_scaled, y_train)\n",
    "\n",
    "#predict it using the train and test \n",
    "y_tr_pred = ridge.predict(X_tr_scaled)\n",
    "y_te_pred = ridge.predict(X_te_scaled)"
   ]
  },
  {
   "cell_type": "code",
   "execution_count": 28,
   "id": "f2995e0d",
   "metadata": {},
   "outputs": [
    {
     "data": {
      "text/plain": [
       "array([205344.0124379, 194733.0943854])"
      ]
     },
     "execution_count": 28,
     "metadata": {},
     "output_type": "execute_result"
    }
   ],
   "source": [
    "#root mean square error\n",
    "np.sqrt([mse(y_train, y_tr_pred), mse(y_test, y_te_pred)])"
   ]
  },
  {
   "cell_type": "markdown",
   "id": "4047ffea",
   "metadata": {},
   "source": [
    "<b>We are going to use Gridsearchcv</b>"
   ]
  },
  {
   "cell_type": "code",
   "execution_count": 29,
   "id": "076fe2ad",
   "metadata": {},
   "outputs": [
    {
     "data": {
      "text/plain": [
       "dict_keys(['alpha', 'copy_X', 'fit_intercept', 'max_iter', 'normalize', 'random_state', 'solver', 'tol'])"
      ]
     },
     "execution_count": 29,
     "metadata": {},
     "output_type": "execute_result"
    }
   ],
   "source": [
    "ridge.get_params().keys()"
   ]
  },
  {
   "cell_type": "code",
   "execution_count": 30,
   "id": "6853122f",
   "metadata": {},
   "outputs": [],
   "source": [
    "ridge_params = {'fit_intercept': [True], 'normalize':[True]}"
   ]
  },
  {
   "cell_type": "code",
   "execution_count": 31,
   "id": "2e0b885c",
   "metadata": {},
   "outputs": [
    {
     "name": "stdout",
     "output_type": "stream",
     "text": [
      "{'fit_intercept': True, 'normalize': True}\n"
     ]
    }
   ],
   "source": [
    "ridge_gs = GridSearchCV(ridge, ridge_params, cv = 5)\n",
    "ridge_gs.fit(X_tr, y_train)\n",
    "\n",
    "print(ridge_gs.best_params_)"
   ]
  },
  {
   "cell_type": "code",
   "execution_count": 32,
   "id": "d34ff608",
   "metadata": {},
   "outputs": [
    {
     "name": "stdout",
     "output_type": "stream",
     "text": [
      "0.6138004019250871\n"
     ]
    }
   ],
   "source": [
    "#get the best scores \n",
    "print(ridge_gs.best_score_)"
   ]
  },
  {
   "cell_type": "code",
   "execution_count": 33,
   "id": "cb87c032",
   "metadata": {},
   "outputs": [
    {
     "data": {
      "text/plain": [
       "0.6278121617753638"
      ]
     },
     "execution_count": 33,
     "metadata": {},
     "output_type": "execute_result"
    }
   ],
   "source": [
    "ridge_gs.score(X_test, y_test)"
   ]
  },
  {
   "cell_type": "code",
   "execution_count": 34,
   "id": "e6a8b306",
   "metadata": {},
   "outputs": [
    {
     "data": {
      "text/plain": [
       "array([205344.0124379, 194733.0943854])"
      ]
     },
     "execution_count": 34,
     "metadata": {},
     "output_type": "execute_result"
    }
   ],
   "source": [
    "#root mean square error\n",
    "np.sqrt([mse(y_train, y_tr_pred), mse(y_test, y_te_pred)])"
   ]
  },
  {
   "cell_type": "markdown",
   "id": "0750fe2e",
   "metadata": {},
   "source": [
    "## 2.4 Random Forest"
   ]
  },
  {
   "cell_type": "code",
   "execution_count": 35,
   "id": "1d07d362",
   "metadata": {},
   "outputs": [
    {
     "data": {
      "text/plain": [
       "RandomForestRegressor()"
      ]
     },
     "execution_count": 35,
     "metadata": {},
     "output_type": "execute_result"
    }
   ],
   "source": [
    "from sklearn.ensemble import RandomForestRegressor\n",
    "\n",
    "X_tr = X_train\n",
    "X_te = X_test\n",
    "\n",
    "rf = RandomForestRegressor()\n",
    "rf.fit(X_tr, y_train)"
   ]
  },
  {
   "cell_type": "code",
   "execution_count": 36,
   "id": "e2630a10",
   "metadata": {},
   "outputs": [],
   "source": [
    "#predict it using the train and test \n",
    "y_tr_pred = rf.predict(X_tr_scaled)\n",
    "y_te_pred = rf.predict(X_te_scaled)"
   ]
  },
  {
   "cell_type": "code",
   "execution_count": 37,
   "id": "ab920a71",
   "metadata": {},
   "outputs": [
    {
     "data": {
      "text/plain": [
       "array([470484.33212226, 455802.54071825])"
      ]
     },
     "execution_count": 37,
     "metadata": {},
     "output_type": "execute_result"
    }
   ],
   "source": [
    "#root mean square error\n",
    "np.sqrt([mse(y_train, y_tr_pred), mse(y_test, y_te_pred)])"
   ]
  },
  {
   "cell_type": "markdown",
   "id": "2857e4b1",
   "metadata": {},
   "source": [
    "<b>We are going to use Gridsearchcv</b>"
   ]
  },
  {
   "cell_type": "code",
   "execution_count": 38,
   "id": "0549cd90",
   "metadata": {},
   "outputs": [
    {
     "data": {
      "text/plain": [
       "dict_keys(['bootstrap', 'ccp_alpha', 'criterion', 'max_depth', 'max_features', 'max_leaf_nodes', 'max_samples', 'min_impurity_decrease', 'min_impurity_split', 'min_samples_leaf', 'min_samples_split', 'min_weight_fraction_leaf', 'n_estimators', 'n_jobs', 'oob_score', 'random_state', 'verbose', 'warm_start'])"
      ]
     },
     "execution_count": 38,
     "metadata": {},
     "output_type": "execute_result"
    }
   ],
   "source": [
    "rf.get_params().keys()"
   ]
  },
  {
   "cell_type": "code",
   "execution_count": 39,
   "id": "5a91b927",
   "metadata": {},
   "outputs": [],
   "source": [
    "rf_params = {'max_depth': [100], 'max_features': ['auto'], 'random_state': [47]}"
   ]
  },
  {
   "cell_type": "code",
   "execution_count": 40,
   "id": "77eaf39e",
   "metadata": {},
   "outputs": [
    {
     "name": "stdout",
     "output_type": "stream",
     "text": [
      "{'max_depth': 100, 'max_features': 'auto', 'random_state': 47}\n"
     ]
    }
   ],
   "source": [
    "rf_gs = GridSearchCV(rf, rf_params, cv = 5)\n",
    "rf_gs.fit(X_tr, y_train) \n",
    "\n",
    "print(rf_gs.best_params_)"
   ]
  },
  {
   "cell_type": "code",
   "execution_count": 41,
   "id": "b43392f1",
   "metadata": {},
   "outputs": [
    {
     "name": "stdout",
     "output_type": "stream",
     "text": [
      "0.8868405496935114\n"
     ]
    }
   ],
   "source": [
    "#get the best scores \n",
    "print(rf_gs.best_score_)"
   ]
  },
  {
   "cell_type": "code",
   "execution_count": 42,
   "id": "1f4b1bf1",
   "metadata": {},
   "outputs": [
    {
     "data": {
      "text/plain": [
       "0.8557264893512168"
      ]
     },
     "execution_count": 42,
     "metadata": {},
     "output_type": "execute_result"
    }
   ],
   "source": [
    "rf_gs.score(X_test, y_test)"
   ]
  },
  {
   "cell_type": "code",
   "execution_count": 43,
   "id": "2345640b",
   "metadata": {},
   "outputs": [
    {
     "data": {
      "text/plain": [
       "array([470484.33212226, 455802.54071825])"
      ]
     },
     "execution_count": 43,
     "metadata": {},
     "output_type": "execute_result"
    }
   ],
   "source": [
    "#root mean square error\n",
    "np.sqrt([mse(y_train, y_tr_pred), mse(y_test, y_te_pred)])"
   ]
  },
  {
   "cell_type": "markdown",
   "id": "d79178ec",
   "metadata": {},
   "source": [
    "<b>The Random Forest model had the highest score of 86% and the highest root mean square error. We will use this model for the housing prices.</b>\n",
    "\n",
    "# 3 Modeling"
   ]
  },
  {
   "cell_type": "code",
   "execution_count": 47,
   "id": "6129b07e",
   "metadata": {},
   "outputs": [
    {
     "name": "stdout",
     "output_type": "stream",
     "text": [
      "[232690.63       524543.46       216714.83333333 ... 376417.93\n",
      " 412130.         338663.9       ]\n"
     ]
    }
   ],
   "source": [
    "#Making an prediction\n",
    "prediction1 = rf.predict(X)\n",
    "print(prediction1)"
   ]
  },
  {
   "cell_type": "code",
   "execution_count": 48,
   "id": "57d217ad",
   "metadata": {},
   "outputs": [
    {
     "name": "stdout",
     "output_type": "stream",
     "text": [
      "[1540557.2         228076.29        333467.         ...  637949.86666667\n",
      "  371988.09        436193.35      ]\n"
     ]
    }
   ],
   "source": [
    "prediction2 = rf.predict(X_te)\n",
    "print(prediction2)"
   ]
  },
  {
   "cell_type": "code",
   "execution_count": 49,
   "id": "0ee9950f",
   "metadata": {},
   "outputs": [
    {
     "name": "stdout",
     "output_type": "stream",
     "text": [
      "[233746.  227933.5 387807.  ... 230717.  230717.  227933.5]\n"
     ]
    }
   ],
   "source": [
    "prediction3 = rf.predict(X_te_scaled)\n",
    "print(prediction3)"
   ]
  },
  {
   "cell_type": "code",
   "execution_count": null,
   "id": "48912702",
   "metadata": {},
   "outputs": [],
   "source": []
  }
 ],
 "metadata": {
  "kernelspec": {
   "display_name": "Python 3 (ipykernel)",
   "language": "python",
   "name": "python3"
  },
  "language_info": {
   "codemirror_mode": {
    "name": "ipython",
    "version": 3
   },
   "file_extension": ".py",
   "mimetype": "text/x-python",
   "name": "python",
   "nbconvert_exporter": "python",
   "pygments_lexer": "ipython3",
   "version": "3.9.7"
  }
 },
 "nbformat": 4,
 "nbformat_minor": 5
}
