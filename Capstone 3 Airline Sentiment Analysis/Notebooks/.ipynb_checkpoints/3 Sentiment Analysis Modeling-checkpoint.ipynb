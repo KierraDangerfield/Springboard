{
 "cells": [
  {
   "cell_type": "markdown",
   "id": "f16b3d4e",
   "metadata": {},
   "source": [
    "# Airline Sentiment Analysis\n",
    "\n",
    "Detecting negative sentiments"
   ]
  },
  {
   "cell_type": "markdown",
   "id": "b5d4ae07",
   "metadata": {},
   "source": [
    "## Table of Contents:\n",
    "* [Data Collection](#DataCollection)\n",
    "* [Data Organization](#DataOrganization)\n",
    "* [Data Definition](#DataDefinition)\n",
    "* [Data Cleaning](#DataCleaning)\n",
    "    * [Vectorization](#Vectorization)\n",
    "* [Model](#Model)\n",
    "    * [Naive Bayes](#nb)\n",
    "    * [Random Forest Classifier](#rf)\n",
    "    * [Logistic Regression](#lr)\n",
    "    * [N-grams](#ng)\n",
    "    * [ROC-AUC Comparisons](#roc)\n",
    "    * [Precision Recall](#pr)\n",
    "    * [Thresholding](#thresholding)\n",
    "        * [Classification Report](#cr)\n",
    "        * [Confusion Matrix](#cm)"
   ]
  },
  {
   "cell_type": "code",
   "execution_count": 1,
   "id": "3de85920",
   "metadata": {},
   "outputs": [],
   "source": [
    "#imports\n",
    "import pandas as pd\n",
    "import numpy as np\n",
    "#this will deal with punctuation\n",
    "import string\n",
    "import re\n",
    "#from string import digits\n",
    "import nltk #using the Natural Language Toolkit\n",
    "from nltk.corpus import stopwords\n",
    "#Lemmatization\n",
    "from nltk.stem import WordNetLemmatizer\n",
    "import emoji\n",
    "from nltk.tokenize import word_tokenize\n",
    "import seaborn as sns\n",
    "from sklearn import metrics\n",
    "import matplotlib.pyplot as plt\n",
    "from sklearn.metrics import roc_auc_score\n",
    "import math\n",
    "from sklearn.metrics import roc_curve, auc, classification_report\n",
    "from sklearn.metrics import confusion_matrix, fbeta_score, recall_score, accuracy_score, f1_score, precision_score"
   ]
  },
  {
   "cell_type": "markdown",
   "id": "94a9759f",
   "metadata": {},
   "source": [
    "# 1. Data Collection <a class=\"anchor\" id=\"DataCollection\"></a>"
   ]
  },
  {
   "cell_type": "code",
   "execution_count": 2,
   "id": "0af8dd02",
   "metadata": {},
   "outputs": [],
   "source": [
    "#get data\n",
    "tweets = pd.read_csv(\"../Data/Tweets.csv\")"
   ]
  },
  {
   "cell_type": "markdown",
   "id": "c034e195",
   "metadata": {},
   "source": [
    "# 2. Data Organization <a class=\"anchor\" id=\"DataOrganization\"></a>"
   ]
  },
  {
   "cell_type": "code",
   "execution_count": 3,
   "id": "093c1148",
   "metadata": {},
   "outputs": [
    {
     "data": {
      "text/html": [
       "<div>\n",
       "<style scoped>\n",
       "    .dataframe tbody tr th:only-of-type {\n",
       "        vertical-align: middle;\n",
       "    }\n",
       "\n",
       "    .dataframe tbody tr th {\n",
       "        vertical-align: top;\n",
       "    }\n",
       "\n",
       "    .dataframe thead th {\n",
       "        text-align: right;\n",
       "    }\n",
       "</style>\n",
       "<table border=\"1\" class=\"dataframe\">\n",
       "  <thead>\n",
       "    <tr style=\"text-align: right;\">\n",
       "      <th></th>\n",
       "      <th>tweet_id</th>\n",
       "      <th>airline_sentiment</th>\n",
       "      <th>airline_sentiment_confidence</th>\n",
       "      <th>negativereason</th>\n",
       "      <th>negativereason_confidence</th>\n",
       "      <th>airline</th>\n",
       "      <th>airline_sentiment_gold</th>\n",
       "      <th>name</th>\n",
       "      <th>negativereason_gold</th>\n",
       "      <th>retweet_count</th>\n",
       "      <th>text</th>\n",
       "      <th>tweet_coord</th>\n",
       "      <th>tweet_created</th>\n",
       "      <th>tweet_location</th>\n",
       "      <th>user_timezone</th>\n",
       "    </tr>\n",
       "  </thead>\n",
       "  <tbody>\n",
       "    <tr>\n",
       "      <th>0</th>\n",
       "      <td>570306133677760513</td>\n",
       "      <td>neutral</td>\n",
       "      <td>1.0000</td>\n",
       "      <td>NaN</td>\n",
       "      <td>NaN</td>\n",
       "      <td>Virgin America</td>\n",
       "      <td>NaN</td>\n",
       "      <td>cairdin</td>\n",
       "      <td>NaN</td>\n",
       "      <td>0</td>\n",
       "      <td>@VirginAmerica What @dhepburn said.</td>\n",
       "      <td>NaN</td>\n",
       "      <td>2015-02-24 11:35:52 -0800</td>\n",
       "      <td>NaN</td>\n",
       "      <td>Eastern Time (US &amp; Canada)</td>\n",
       "    </tr>\n",
       "    <tr>\n",
       "      <th>1</th>\n",
       "      <td>570301130888122368</td>\n",
       "      <td>positive</td>\n",
       "      <td>0.3486</td>\n",
       "      <td>NaN</td>\n",
       "      <td>0.0</td>\n",
       "      <td>Virgin America</td>\n",
       "      <td>NaN</td>\n",
       "      <td>jnardino</td>\n",
       "      <td>NaN</td>\n",
       "      <td>0</td>\n",
       "      <td>@VirginAmerica plus you've added commercials t...</td>\n",
       "      <td>NaN</td>\n",
       "      <td>2015-02-24 11:15:59 -0800</td>\n",
       "      <td>NaN</td>\n",
       "      <td>Pacific Time (US &amp; Canada)</td>\n",
       "    </tr>\n",
       "    <tr>\n",
       "      <th>2</th>\n",
       "      <td>570301083672813571</td>\n",
       "      <td>neutral</td>\n",
       "      <td>0.6837</td>\n",
       "      <td>NaN</td>\n",
       "      <td>NaN</td>\n",
       "      <td>Virgin America</td>\n",
       "      <td>NaN</td>\n",
       "      <td>yvonnalynn</td>\n",
       "      <td>NaN</td>\n",
       "      <td>0</td>\n",
       "      <td>@VirginAmerica I didn't today... Must mean I n...</td>\n",
       "      <td>NaN</td>\n",
       "      <td>2015-02-24 11:15:48 -0800</td>\n",
       "      <td>Lets Play</td>\n",
       "      <td>Central Time (US &amp; Canada)</td>\n",
       "    </tr>\n",
       "  </tbody>\n",
       "</table>\n",
       "</div>"
      ],
      "text/plain": [
       "             tweet_id airline_sentiment  airline_sentiment_confidence  \\\n",
       "0  570306133677760513           neutral                        1.0000   \n",
       "1  570301130888122368          positive                        0.3486   \n",
       "2  570301083672813571           neutral                        0.6837   \n",
       "\n",
       "  negativereason  negativereason_confidence         airline  \\\n",
       "0            NaN                        NaN  Virgin America   \n",
       "1            NaN                        0.0  Virgin America   \n",
       "2            NaN                        NaN  Virgin America   \n",
       "\n",
       "  airline_sentiment_gold        name negativereason_gold  retweet_count  \\\n",
       "0                    NaN     cairdin                 NaN              0   \n",
       "1                    NaN    jnardino                 NaN              0   \n",
       "2                    NaN  yvonnalynn                 NaN              0   \n",
       "\n",
       "                                                text tweet_coord  \\\n",
       "0                @VirginAmerica What @dhepburn said.         NaN   \n",
       "1  @VirginAmerica plus you've added commercials t...         NaN   \n",
       "2  @VirginAmerica I didn't today... Must mean I n...         NaN   \n",
       "\n",
       "               tweet_created tweet_location               user_timezone  \n",
       "0  2015-02-24 11:35:52 -0800            NaN  Eastern Time (US & Canada)  \n",
       "1  2015-02-24 11:15:59 -0800            NaN  Pacific Time (US & Canada)  \n",
       "2  2015-02-24 11:15:48 -0800      Lets Play  Central Time (US & Canada)  "
      ]
     },
     "execution_count": 3,
     "metadata": {},
     "output_type": "execute_result"
    }
   ],
   "source": [
    "#view the heading of data\n",
    "tweets.head(3)"
   ]
  },
  {
   "cell_type": "code",
   "execution_count": 4,
   "id": "4e9520db",
   "metadata": {},
   "outputs": [
    {
     "name": "stdout",
     "output_type": "stream",
     "text": [
      "(14640, 15)\n",
      "<class 'pandas.core.frame.DataFrame'>\n",
      "RangeIndex: 14640 entries, 0 to 14639\n",
      "Data columns (total 15 columns):\n",
      " #   Column                        Non-Null Count  Dtype  \n",
      "---  ------                        --------------  -----  \n",
      " 0   tweet_id                      14640 non-null  int64  \n",
      " 1   airline_sentiment             14640 non-null  object \n",
      " 2   airline_sentiment_confidence  14640 non-null  float64\n",
      " 3   negativereason                9178 non-null   object \n",
      " 4   negativereason_confidence     10522 non-null  float64\n",
      " 5   airline                       14640 non-null  object \n",
      " 6   airline_sentiment_gold        40 non-null     object \n",
      " 7   name                          14640 non-null  object \n",
      " 8   negativereason_gold           32 non-null     object \n",
      " 9   retweet_count                 14640 non-null  int64  \n",
      " 10  text                          14640 non-null  object \n",
      " 11  tweet_coord                   1019 non-null   object \n",
      " 12  tweet_created                 14640 non-null  object \n",
      " 13  tweet_location                9907 non-null   object \n",
      " 14  user_timezone                 9820 non-null   object \n",
      "dtypes: float64(2), int64(2), object(11)\n",
      "memory usage: 1.7+ MB\n",
      "None\n"
     ]
    }
   ],
   "source": [
    "#check shape\n",
    "print(tweets.shape)\n",
    "print(tweets.info())"
   ]
  },
  {
   "cell_type": "code",
   "execution_count": 5,
   "id": "30e2c5db",
   "metadata": {},
   "outputs": [
    {
     "name": "stdout",
     "output_type": "stream",
     "text": [
      "tweet_id                            0\n",
      "airline_sentiment                   0\n",
      "airline_sentiment_confidence        0\n",
      "negativereason                   5462\n",
      "negativereason_confidence        4118\n",
      "airline                             0\n",
      "airline_sentiment_gold          14600\n",
      "name                                0\n",
      "negativereason_gold             14608\n",
      "retweet_count                       0\n",
      "text                                0\n",
      "tweet_coord                     13621\n",
      "tweet_created                       0\n",
      "tweet_location                   4733\n",
      "user_timezone                    4820\n",
      "dtype: int64\n",
      "tweet_id                         0.000000\n",
      "airline_sentiment                0.000000\n",
      "airline_sentiment_confidence     0.000000\n",
      "negativereason                  37.308743\n",
      "negativereason_confidence       28.128415\n",
      "airline                          0.000000\n",
      "airline_sentiment_gold          99.726776\n",
      "name                             0.000000\n",
      "negativereason_gold             99.781421\n",
      "retweet_count                    0.000000\n",
      "text                             0.000000\n",
      "tweet_coord                     93.039617\n",
      "tweet_created                    0.000000\n",
      "tweet_location                  32.329235\n",
      "user_timezone                   32.923497\n",
      "dtype: float64\n"
     ]
    }
   ],
   "source": [
    "#check for null values\n",
    "print(tweets.isnull().sum())\n",
    "\n",
    "#percentage of null values\n",
    "print(((tweets.isnull().sum() * 100)/ len(tweets.index)))"
   ]
  },
  {
   "cell_type": "markdown",
   "id": "31c45b9d",
   "metadata": {},
   "source": [
    "\"airline_sentiment_gold\" , \"negativereason_gold\", and \"tweet_coord\" columns are missing over 90% of their input. I will drop them"
   ]
  },
  {
   "cell_type": "code",
   "execution_count": 6,
   "id": "e6b319e8",
   "metadata": {},
   "outputs": [
    {
     "name": "stdout",
     "output_type": "stream",
     "text": [
      "tweet_id                           0\n",
      "airline_sentiment                  0\n",
      "airline_sentiment_confidence       0\n",
      "negativereason                  5462\n",
      "negativereason_confidence       4118\n",
      "airline                            0\n",
      "name                               0\n",
      "retweet_count                      0\n",
      "text                               0\n",
      "tweet_created                      0\n",
      "tweet_location                  4733\n",
      "user_timezone                   4820\n",
      "dtype: int64\n",
      "tweet_id                         0.000000\n",
      "airline_sentiment                0.000000\n",
      "airline_sentiment_confidence     0.000000\n",
      "negativereason                  37.308743\n",
      "negativereason_confidence       28.128415\n",
      "airline                          0.000000\n",
      "name                             0.000000\n",
      "retweet_count                    0.000000\n",
      "text                             0.000000\n",
      "tweet_created                    0.000000\n",
      "tweet_location                  32.329235\n",
      "user_timezone                   32.923497\n",
      "dtype: float64\n"
     ]
    }
   ],
   "source": [
    "tweets = tweets.drop(columns=[\"airline_sentiment_gold\" , \"negativereason_gold\", \"tweet_coord\"])\n",
    "\n",
    "#check for more null values\n",
    "print(tweets.isnull().sum())\n",
    "\n",
    "print(((tweets.isnull().sum() * 100)/ len(tweets.index)))"
   ]
  },
  {
   "cell_type": "markdown",
   "id": "c0776df0",
   "metadata": {},
   "source": [
    "# 3. Data Definition <a class=\"anchor\" id=\"DataDefinition\"></a>\n",
    "\n",
    "                    \n",
    " 1   airline_sentiment              \n",
    " 2   airline_sentiment_confidence  \n",
    " 3   negativereason                 \n",
    " 4   negativereason_confidence    \n",
    " 5   airline                        \n",
    " 6   airline_sentiment_gold         \n",
    " 7   name                          \n",
    " 8   negativereason_gold            \n",
    " 9   retweet_count                 \n",
    " 10  text                           \n",
    " 11  tweet_coord                  \n",
    " 12  tweet_created                 \n",
    " 13  tweet_location                \n",
    " 14  user_timezone   "
   ]
  },
  {
   "cell_type": "markdown",
   "id": "e02d78c2",
   "metadata": {},
   "source": [
    "# 4. Data Cleaning <a class=\"anchor\" id=\"DataCleaning\"></a>\n",
    "\n",
    "The following needs to be done to preprocess the data:\n",
    "\n",
    "1. Make text lowercase\n",
    "2. Removing punctuations, URLs, names\n",
    "3. Tokenization\n",
    "4. Removing stopwords (\"this\", \"is\", etc.)\n",
    "4. Stemming"
   ]
  },
  {
   "cell_type": "code",
   "execution_count": 7,
   "id": "28ea5207",
   "metadata": {},
   "outputs": [],
   "source": [
    "#Lowercase\n",
    "tweets[\"text\"] = tweets[\"text\"].str.lower()\n",
    "\n",
    "#remove numbers\n",
    "tweets[\"text\"] = tweets[\"text\"].str.replace('\\d+', '', regex=True)\n",
    "\n",
    "##REMOVE PUNCTUATIONS\n",
    "def remove_punc(text):\n",
    "    words_wo_punct = re.sub(r\"[^A-Za-z0-9\\s]+\", \"\", text)\n",
    "    return words_wo_punct\n",
    "\n",
    "tweets[\"text\"] = tweets[\"text\"].apply(lambda x: remove_punc(x))"
   ]
  },
  {
   "cell_type": "code",
   "execution_count": 8,
   "id": "65b03e7f",
   "metadata": {},
   "outputs": [
    {
     "data": {
      "text/plain": [
       "0                     virginamerica what dhepburn said\n",
       "1    virginamerica plus youve added commercials to ...\n",
       "2    virginamerica i didnt today must mean i need t...\n",
       "3    virginamerica its really aggressive to blast o...\n",
       "4    virginamerica and its a really big bad thing a...\n",
       "Name: text, dtype: object"
      ]
     },
     "execution_count": 8,
     "metadata": {},
     "output_type": "execute_result"
    }
   ],
   "source": [
    "#REMOVE WHITESPACE\n",
    "tweets[\"text\"] = tweets[\"text\"].str.strip()\n",
    "\n",
    "#remove emoji\n",
    "tweets[\"text\"] = tweets[\"text\"].apply(lambda x: emoji.demojize(x))\n",
    "tweets[\"text\"].head()"
   ]
  },
  {
   "cell_type": "code",
   "execution_count": 9,
   "id": "c3391dba",
   "metadata": {},
   "outputs": [
    {
     "data": {
      "text/plain": [
       "0                     virginamerica what dhepburn said\n",
       "1    virginamerica plus youve added commercial to t...\n",
       "2    virginamerica i didnt today must mean i need t...\n",
       "3    virginamerica it really aggressive to blast ob...\n",
       "4    virginamerica and it a really big bad thing ab...\n",
       "Name: text, dtype: object"
      ]
     },
     "execution_count": 9,
     "metadata": {},
     "output_type": "execute_result"
    }
   ],
   "source": [
    "#LEMMATIZING\n",
    "lemmatizer = WordNetLemmatizer()\n",
    "\n",
    "def word_lemmatizer(text):\n",
    "    word_list = nltk.word_tokenize(text)\n",
    "    lem_text = ' '.join([lemmatizer.lemmatize(w) for w in word_list])\n",
    "    return lem_text\n",
    "\n",
    "tweets[\"text\"] = tweets[\"text\"].apply(lambda x: word_lemmatizer(x))\n",
    "tweets.text.head()"
   ]
  },
  {
   "cell_type": "code",
   "execution_count": 10,
   "id": "32b92c5b",
   "metadata": {},
   "outputs": [
    {
     "data": {
      "text/plain": [
       "0                      [virginamerica, dhepburn, said]\n",
       "1    [virginamerica, plus, youve, added, commercial...\n",
       "2    [virginamerica, didnt, today, must, mean, need...\n",
       "3    [virginamerica, really, aggressive, blast, obn...\n",
       "4             [virginamerica, really, big, bad, thing]\n",
       "Name: text, dtype: object"
      ]
     },
     "execution_count": 10,
     "metadata": {},
     "output_type": "execute_result"
    }
   ],
   "source": [
    "#REMOVE STOPWORDS and tokenize\n",
    "def remove_stopwords(text):\n",
    "    tokens = word_tokenize(text)\n",
    "    english_stopwords = stopwords.words('english')\n",
    "    tokens_wo_stopwords = [t for t in tokens if t not in english_stopwords]\n",
    "    \n",
    "    return tokens_wo_stopwords\n",
    "\n",
    "tweets[\"text\"] = tweets[\"text\"].apply(lambda x: remove_stopwords(str(x)))\n",
    "tweets[\"text\"].head()"
   ]
  },
  {
   "cell_type": "markdown",
   "id": "02bb1a29",
   "metadata": {},
   "source": [
    "## Polarity"
   ]
  },
  {
   "cell_type": "code",
   "execution_count": 11,
   "id": "3c22d054",
   "metadata": {},
   "outputs": [
    {
     "data": {
      "text/html": [
       "<div>\n",
       "<style scoped>\n",
       "    .dataframe tbody tr th:only-of-type {\n",
       "        vertical-align: middle;\n",
       "    }\n",
       "\n",
       "    .dataframe tbody tr th {\n",
       "        vertical-align: top;\n",
       "    }\n",
       "\n",
       "    .dataframe thead th {\n",
       "        text-align: right;\n",
       "    }\n",
       "</style>\n",
       "<table border=\"1\" class=\"dataframe\">\n",
       "  <thead>\n",
       "    <tr style=\"text-align: right;\">\n",
       "      <th></th>\n",
       "      <th>tweet_id</th>\n",
       "      <th>airline_sentiment</th>\n",
       "      <th>airline_sentiment_confidence</th>\n",
       "      <th>negativereason</th>\n",
       "      <th>negativereason_confidence</th>\n",
       "      <th>airline</th>\n",
       "      <th>name</th>\n",
       "      <th>retweet_count</th>\n",
       "      <th>text</th>\n",
       "      <th>tweet_created</th>\n",
       "      <th>tweet_location</th>\n",
       "      <th>user_timezone</th>\n",
       "      <th>polarity</th>\n",
       "    </tr>\n",
       "  </thead>\n",
       "  <tbody>\n",
       "    <tr>\n",
       "      <th>0</th>\n",
       "      <td>570306133677760513</td>\n",
       "      <td>neutral</td>\n",
       "      <td>1.0000</td>\n",
       "      <td>NaN</td>\n",
       "      <td>NaN</td>\n",
       "      <td>Virgin America</td>\n",
       "      <td>cairdin</td>\n",
       "      <td>0</td>\n",
       "      <td>[virginamerica, dhepburn, said]</td>\n",
       "      <td>2015-02-24 11:35:52 -0800</td>\n",
       "      <td>NaN</td>\n",
       "      <td>Eastern Time (US &amp; Canada)</td>\n",
       "      <td>0.0000</td>\n",
       "    </tr>\n",
       "    <tr>\n",
       "      <th>1</th>\n",
       "      <td>570301130888122368</td>\n",
       "      <td>positive</td>\n",
       "      <td>0.3486</td>\n",
       "      <td>NaN</td>\n",
       "      <td>0.0</td>\n",
       "      <td>Virgin America</td>\n",
       "      <td>jnardino</td>\n",
       "      <td>0</td>\n",
       "      <td>[virginamerica, plus, youve, added, commercial...</td>\n",
       "      <td>2015-02-24 11:15:59 -0800</td>\n",
       "      <td>NaN</td>\n",
       "      <td>Pacific Time (US &amp; Canada)</td>\n",
       "      <td>0.0000</td>\n",
       "    </tr>\n",
       "    <tr>\n",
       "      <th>2</th>\n",
       "      <td>570301083672813571</td>\n",
       "      <td>neutral</td>\n",
       "      <td>0.6837</td>\n",
       "      <td>NaN</td>\n",
       "      <td>NaN</td>\n",
       "      <td>Virgin America</td>\n",
       "      <td>yvonnalynn</td>\n",
       "      <td>0</td>\n",
       "      <td>[virginamerica, didnt, today, must, mean, need...</td>\n",
       "      <td>2015-02-24 11:15:48 -0800</td>\n",
       "      <td>Lets Play</td>\n",
       "      <td>Central Time (US &amp; Canada)</td>\n",
       "      <td>-0.3125</td>\n",
       "    </tr>\n",
       "  </tbody>\n",
       "</table>\n",
       "</div>"
      ],
      "text/plain": [
       "             tweet_id airline_sentiment  airline_sentiment_confidence  \\\n",
       "0  570306133677760513           neutral                        1.0000   \n",
       "1  570301130888122368          positive                        0.3486   \n",
       "2  570301083672813571           neutral                        0.6837   \n",
       "\n",
       "  negativereason  negativereason_confidence         airline        name  \\\n",
       "0            NaN                        NaN  Virgin America     cairdin   \n",
       "1            NaN                        0.0  Virgin America    jnardino   \n",
       "2            NaN                        NaN  Virgin America  yvonnalynn   \n",
       "\n",
       "   retweet_count                                               text  \\\n",
       "0              0                    [virginamerica, dhepburn, said]   \n",
       "1              0  [virginamerica, plus, youve, added, commercial...   \n",
       "2              0  [virginamerica, didnt, today, must, mean, need...   \n",
       "\n",
       "               tweet_created tweet_location               user_timezone  \\\n",
       "0  2015-02-24 11:35:52 -0800            NaN  Eastern Time (US & Canada)   \n",
       "1  2015-02-24 11:15:59 -0800            NaN  Pacific Time (US & Canada)   \n",
       "2  2015-02-24 11:15:48 -0800      Lets Play  Central Time (US & Canada)   \n",
       "\n",
       "   polarity  \n",
       "0    0.0000  \n",
       "1    0.0000  \n",
       "2   -0.3125  "
      ]
     },
     "execution_count": 11,
     "metadata": {},
     "output_type": "execute_result"
    }
   ],
   "source": [
    "from textblob import TextBlob, Word, Blobber\n",
    "tweets['polarity']=tweets['text'].map(lambda text: TextBlob(str(text)).sentiment.polarity)\n",
    "tweets.head(3)"
   ]
  },
  {
   "cell_type": "markdown",
   "id": "30186610",
   "metadata": {},
   "source": [
    "### Vectorization <a class=\"anchor\" id=\"Vectorization\"></a>\n",
    "\n",
    "Base model"
   ]
  },
  {
   "cell_type": "code",
   "execution_count": 12,
   "id": "eb9d6cad",
   "metadata": {},
   "outputs": [],
   "source": [
    "from sklearn.feature_extraction.text import CountVectorizer, TfidfVectorizer, TfidfTransformer\n",
    "from sklearn.model_selection import train_test_split"
   ]
  },
  {
   "cell_type": "code",
   "execution_count": 13,
   "id": "3bc1db9e",
   "metadata": {},
   "outputs": [
    {
     "data": {
      "text/plain": [
       "(14640, 13)"
      ]
     },
     "execution_count": 13,
     "metadata": {},
     "output_type": "execute_result"
    }
   ],
   "source": [
    "tweets.shape"
   ]
  },
  {
   "cell_type": "code",
   "execution_count": 14,
   "id": "89983bfc",
   "metadata": {},
   "outputs": [],
   "source": [
    "### Change Text to String ###\n",
    "tweets[\"text\"] = tweets[\"text\"].astype(str)\n",
    "\n",
    "### Remove neutral sentiment to focus on just the positive and negative sentiment ###\n",
    "tweets = tweets[tweets[\"airline_sentiment\"] != \"neutral\"]\n",
    "\n",
    "### Change sentiment to int ###\n",
    "def changeSentiment(sentiment):\n",
    "    if  sentiment == \"positive\":\n",
    "        return 0\n",
    "    elif sentiment == \"negative\":\n",
    "        return 1\n",
    "    \n",
    "tweets['airline_sentiment'] = tweets['airline_sentiment'].apply(lambda x : changeSentiment(x))"
   ]
  },
  {
   "cell_type": "code",
   "execution_count": 15,
   "id": "edb373a5",
   "metadata": {},
   "outputs": [
    {
     "data": {
      "text/plain": [
       "(11541, 13)"
      ]
     },
     "execution_count": 15,
     "metadata": {},
     "output_type": "execute_result"
    }
   ],
   "source": [
    "tweets.shape"
   ]
  },
  {
   "cell_type": "markdown",
   "id": "08ebcf8b",
   "metadata": {},
   "source": [
    "### CountVec"
   ]
  },
  {
   "cell_type": "code",
   "execution_count": 16,
   "id": "01192ef9",
   "metadata": {},
   "outputs": [],
   "source": [
    "### Train Test Split ###\n",
    "cv = CountVectorizer(min_df=5, max_df=0.70)\n",
    "X = cv.fit_transform(tweets.text)\n",
    "y = tweets['airline_sentiment']\n",
    "\n",
    "X_train, X_test, y_train, y_test = train_test_split(X, y, test_size=.30, random_state=0)"
   ]
  },
  {
   "cell_type": "markdown",
   "id": "5611ae14",
   "metadata": {},
   "source": [
    "#### get base model with Logistic Regression"
   ]
  },
  {
   "cell_type": "code",
   "execution_count": 17,
   "id": "f2a1e1db",
   "metadata": {},
   "outputs": [
    {
     "name": "stdout",
     "output_type": "stream",
     "text": [
      "Logistic Regression Accuracy: 91.48%\n",
      "Accuracy on training data: 0.96\n",
      "Accuracy on test data:     0.91\n",
      "0.9538631890992197\n"
     ]
    }
   ],
   "source": [
    "from sklearn.linear_model import LogisticRegression\n",
    "logReg = LogisticRegression(max_iter=1000).fit(X_train, y_train)\n",
    "\n",
    "### Print accuracy ###\n",
    "print(\"Logistic Regression Accuracy: %0.2f%%\" % (100 * logReg.score(X_test, y_test)))\n",
    "\n",
    "training_accuracy = logReg.score(X_train, y_train)\n",
    "test_accuracy = logReg.score(X_test, y_test)\n",
    "\n",
    "print(\"Accuracy on training data: %0.2f\" % (training_accuracy))\n",
    "print(\"Accuracy on test data:     %0.2f\" % (test_accuracy))\n",
    "print(roc_auc_score( y_test, logReg.predict_proba(X_test)[:,1]))"
   ]
  },
  {
   "cell_type": "markdown",
   "id": "fe7e7177",
   "metadata": {},
   "source": [
    "### Tf-idf "
   ]
  },
  {
   "cell_type": "code",
   "execution_count": 18,
   "id": "a4d8905b",
   "metadata": {},
   "outputs": [],
   "source": [
    "td = TfidfVectorizer(min_df=5, max_df=0.70)\n",
    "X = td.fit_transform(tweets['text'])\n",
    "y = tweets['airline_sentiment']\n",
    "\n",
    "X_train, X_test, y_train, y_test = train_test_split(X, y, test_size=.30, random_state=0)"
   ]
  },
  {
   "cell_type": "code",
   "execution_count": 19,
   "id": "7bfb15e2",
   "metadata": {},
   "outputs": [
    {
     "name": "stdout",
     "output_type": "stream",
     "text": [
      "Logistic Regression Accuracy: 90.47%\n",
      "Accuracy on training data: 0.92\n",
      "Accuracy on test data:     0.90\n",
      "0.9536694879800467\n"
     ]
    }
   ],
   "source": [
    "logReg2 = LogisticRegression(max_iter=1000).fit(X_train, y_train)\n",
    "\n",
    "### Print accuracy ###\n",
    "print(\"Logistic Regression Accuracy: %0.2f%%\" % (100 * logReg2.score(X_test, y_test)))\n",
    "\n",
    "training_accuracy = logReg2.score(X_train, y_train)\n",
    "test_accuracy = logReg2.score(X_test, y_test)\n",
    "\n",
    "print(\"Accuracy on training data: %0.2f\" % (training_accuracy))\n",
    "print(\"Accuracy on test data:     %0.2f\" % (test_accuracy))\n",
    "print(roc_auc_score( y_test, logReg2.predict_proba(X_test)[:,1]))"
   ]
  },
  {
   "cell_type": "markdown",
   "id": "aa56a743",
   "metadata": {},
   "source": [
    "Vectorizing with CountVec performed the best."
   ]
  },
  {
   "cell_type": "markdown",
   "id": "b82ce620",
   "metadata": {},
   "source": [
    "# Model Selection <a class=\"anchor\" id=\"Model\"></a>"
   ]
  },
  {
   "cell_type": "code",
   "execution_count": 20,
   "id": "04749e28",
   "metadata": {},
   "outputs": [],
   "source": [
    "cv = CountVectorizer(min_df=5, max_df=0.70)\n",
    "X = cv.fit_transform(tweets['text'])\n",
    "y = tweets['airline_sentiment']\n",
    "\n",
    "X_train, X_test, y_train, y_test = train_test_split(X, y, test_size=.30, random_state=0)"
   ]
  },
  {
   "cell_type": "markdown",
   "id": "289c3acc",
   "metadata": {},
   "source": [
    "## Naive Bayes <a class=\"anchor\" id=\"nb\"></a>"
   ]
  },
  {
   "cell_type": "code",
   "execution_count": 21,
   "id": "a22f7d30",
   "metadata": {},
   "outputs": [
    {
     "name": "stdout",
     "output_type": "stream",
     "text": [
      "Naive Bayes Accuracy: 90.30%\n",
      "Accuracy on training data: 0.93\n",
      "Accuracy on test data:     0.90\n",
      "0.9486707011081901\n"
     ]
    }
   ],
   "source": [
    "from sklearn.naive_bayes import MultinomialNB\n",
    "\n",
    "mnb = MultinomialNB().fit(X_train, y_train)\n",
    "\n",
    "### Print accuracy ###\n",
    "print(\"Naive Bayes Accuracy: %0.2f%%\" % (100 * mnb.score(X_test, y_test)))\n",
    "\n",
    "training_accuracy = mnb.score(X_train, y_train)\n",
    "test_accuracy = mnb.score(X_test, y_test)\n",
    "\n",
    "print(\"Accuracy on training data: %0.2f\" % (training_accuracy))\n",
    "print(\"Accuracy on test data:     %0.2f\" % (test_accuracy))\n",
    "print(roc_auc_score( y_test, mnb.predict_proba(X_test)[:,1]))"
   ]
  },
  {
   "cell_type": "code",
   "execution_count": 22,
   "id": "3c369417",
   "metadata": {},
   "outputs": [],
   "source": [
    "### Get false positive rate and the true positive rate ###\n",
    "mnb_probs = mnb.predict_proba(X_test)[:,1]\n",
    "mnb_fpr, mnb_tpr, mnb_thresholds = roc_curve(y_test, mnb_probs)"
   ]
  },
  {
   "cell_type": "markdown",
   "id": "a60e5dcb",
   "metadata": {},
   "source": [
    "## Random Forest Classifier <a class=\"anchor\" id=\"rf\"></a>"
   ]
  },
  {
   "cell_type": "code",
   "execution_count": 23,
   "id": "b4c18878",
   "metadata": {},
   "outputs": [
    {
     "name": "stdout",
     "output_type": "stream",
     "text": [
      "Random Forest Accuracy: 89.69%\n",
      "Accuracy on training data: 1.00\n",
      "Accuracy on test data:     0.90\n",
      "0.9538631890992197\n"
     ]
    }
   ],
   "source": [
    "from sklearn.ensemble import RandomForestClassifier\n",
    "\n",
    "rf = RandomForestClassifier().fit(X_train, y_train)\n",
    "\n",
    "### Print accuracy ###\n",
    "print(\"Random Forest Accuracy: %0.2f%%\" % (100 * rf.score(X_test, y_test)))\n",
    "\n",
    "training_accuracy = rf.score(X_train, y_train)\n",
    "test_accuracy = rf.score(X_test, y_test)\n",
    "\n",
    "print(\"Accuracy on training data: %0.2f\" % (training_accuracy))\n",
    "print(\"Accuracy on test data:     %0.2f\" % (test_accuracy))\n",
    "print(roc_auc_score( y_test, logReg.predict_proba(X_test)[:,1]))"
   ]
  },
  {
   "cell_type": "markdown",
   "id": "eb4c9ba8",
   "metadata": {},
   "source": [
    "## Lets Improve the Model"
   ]
  },
  {
   "cell_type": "code",
   "execution_count": 24,
   "id": "76454b14",
   "metadata": {},
   "outputs": [
    {
     "name": "stdout",
     "output_type": "stream",
     "text": [
      "{'max_depth': 50, 'max_features': 'auto', 'n_estimators': 400}\n",
      "0.9287170859891735\n"
     ]
    }
   ],
   "source": [
    "from sklearn.model_selection import GridSearchCV\n",
    "\n",
    "parameters = {\n",
    "    'max_depth': [None, 25, 50], \n",
    "    'max_features': ['auto'], \n",
    "    'n_estimators': [100, 300, 400]\n",
    "}\n",
    "\n",
    "rf_gs = GridSearchCV(rf, parameters, cv=5, scoring = \"roc_auc\") \n",
    "rf_gs.fit(X_train, y_train)\n",
    "\n",
    "print(rf_gs.best_params_)\n",
    "print(rf_gs.best_score_)"
   ]
  },
  {
   "cell_type": "code",
   "execution_count": 25,
   "id": "8de80778",
   "metadata": {},
   "outputs": [
    {
     "name": "stdout",
     "output_type": "stream",
     "text": [
      "Random Forest Accuracy: 89.17%\n",
      "Accuracy on training data: 0.95\n",
      "Accuracy on test data:     0.89\n",
      "0.9307818036769265\n"
     ]
    }
   ],
   "source": [
    "rf = RandomForestClassifier(max_depth= 50, max_features= 'auto', n_estimators = 400).fit(X_train, y_train)\n",
    "\n",
    "### Print accuracy ###\n",
    "print(\"Random Forest Accuracy: %0.2f%%\" % (100 * rf.score(X_test, y_test)))\n",
    "\n",
    "training_accuracy = rf.score(X_train, y_train)\n",
    "test_accuracy = rf.score(X_test, y_test)\n",
    "\n",
    "print(\"Accuracy on training data: %0.2f\" % (training_accuracy))\n",
    "print(\"Accuracy on test data:     %0.2f\" % (test_accuracy))\n",
    "print(roc_auc_score( y_test, rf.predict_proba(X_test)[:,1]))"
   ]
  },
  {
   "cell_type": "code",
   "execution_count": 26,
   "id": "91252c87",
   "metadata": {},
   "outputs": [],
   "source": [
    "### Get false positive rate and the true positive rate ###\n",
    "rf_probs = rf.predict_proba(X_test)[:,1]\n",
    "rf_fpr, rf_tpr, rf_thresholds = roc_curve(y_test, rf_probs)"
   ]
  },
  {
   "cell_type": "markdown",
   "id": "e7d39d47",
   "metadata": {},
   "source": [
    "## Logistic Regression <a class=\"anchor\" id=\"lr\"></a>\n",
    "\n",
    "The Logistic Regression model performed the best. "
   ]
  },
  {
   "cell_type": "code",
   "execution_count": 27,
   "id": "9b31452d",
   "metadata": {},
   "outputs": [
    {
     "name": "stdout",
     "output_type": "stream",
     "text": [
      "Logistic Regression Accuracy: 91.48%\n",
      "Accuracy on training data: 0.96\n",
      "Accuracy on test data:     0.91\n",
      "0.9538631890992197\n"
     ]
    }
   ],
   "source": [
    "lr = LogisticRegression(max_iter=1000).fit(X_train, y_train)\n",
    "\n",
    "### Print accuracy ###\n",
    "print(\"Logistic Regression Accuracy: %0.2f%%\" % (100 * lr.score(X_test, y_test)))\n",
    "\n",
    "training_accuracy = lr.score(X_train, y_train)\n",
    "test_accuracy = lr.score(X_test, y_test)\n",
    "\n",
    "print(\"Accuracy on training data: %0.2f\" % (training_accuracy))\n",
    "print(\"Accuracy on test data:     %0.2f\" % (test_accuracy))\n",
    "print(roc_auc_score( y_test, lr.predict_proba(X_test)[:,1]))"
   ]
  },
  {
   "cell_type": "markdown",
   "id": "db3ede89",
   "metadata": {},
   "source": [
    "## The base model performed the best. "
   ]
  },
  {
   "cell_type": "markdown",
   "id": "f6d0c823",
   "metadata": {},
   "source": [
    "## Let's improve the model"
   ]
  },
  {
   "cell_type": "code",
   "execution_count": 28,
   "id": "d8ad5d89",
   "metadata": {},
   "outputs": [
    {
     "name": "stdout",
     "output_type": "stream",
     "text": [
      "{'C': 1, 'max_iter': 1000}\n",
      "0.9494612677972789\n"
     ]
    }
   ],
   "source": [
    "### Logistic Regression GridSearchCV ###\n",
    "parameters = {\n",
    "    'C' : [.01, .001, 1, 10, 100],\n",
    "    'max_iter': [1000, 10000]\n",
    "}\n",
    "\n",
    "lr_gs = GridSearchCV(lr, parameters, cv=5, scoring = \"roc_auc\") \n",
    "lr_gs.fit(X_train, y_train)\n",
    "\n",
    "print(lr_gs.best_params_)\n",
    "print(lr_gs.best_score_)"
   ]
  },
  {
   "cell_type": "code",
   "execution_count": 29,
   "id": "3cb9668f",
   "metadata": {},
   "outputs": [
    {
     "name": "stdout",
     "output_type": "stream",
     "text": [
      "Logistic Regression Accuracy: 91.48%\n",
      "Accuracy on training data: 0.96\n",
      "Accuracy on test data:     0.91\n",
      "0.9538631890992197\n"
     ]
    }
   ],
   "source": [
    "lr = LogisticRegression(max_iter=1000, C=1).fit(X_train, y_train)\n",
    "\n",
    "### Print accuracy ###\n",
    "print(\"Logistic Regression Accuracy: %0.2f%%\" % (100 * lr.score(X_test, y_test)))\n",
    "\n",
    "training_accuracy = lr.score(X_train, y_train)\n",
    "test_accuracy = lr.score(X_test, y_test)\n",
    "\n",
    "print(\"Accuracy on training data: %0.2f\" % (training_accuracy))\n",
    "print(\"Accuracy on test data:     %0.2f\" % (test_accuracy))\n",
    "print(roc_auc_score( y_test, lr.predict_proba(X_test)[:,1]))"
   ]
  },
  {
   "cell_type": "markdown",
   "id": "d07cbfb7",
   "metadata": {},
   "source": [
    "# Let's try with N-grams <a class=\"anchor\" id=\"ng\"></a>"
   ]
  },
  {
   "cell_type": "markdown",
   "id": "ea534966",
   "metadata": {},
   "source": [
    "## CountVect"
   ]
  },
  {
   "cell_type": "code",
   "execution_count": 30,
   "id": "03a53792",
   "metadata": {},
   "outputs": [
    {
     "name": "stdout",
     "output_type": "stream",
     "text": [
      "Logistic Regression Accuracy: 91.60%\n",
      "Accuracy on training data: 1.00\n",
      "Accuracy on test data:     0.92\n",
      "0.952112390581333\n"
     ]
    }
   ],
   "source": [
    "ngram = (1,2)\n",
    "cv = CountVectorizer(ngram_range=ngram)\n",
    "X = cv.fit_transform(tweets['text'])\n",
    "y = tweets['airline_sentiment']\n",
    "X_train2, X_test2, y_train2, y_test2 = train_test_split(X, y, test_size=.30, random_state=0)\n",
    "\n",
    "lr2 = LogisticRegression(max_iter=1000, C=1).fit(X_train2, y_train2)\n",
    "\n",
    "### Print accuracy ###\n",
    "print(\"Logistic Regression Accuracy: %0.2f%%\" % (100 * lr2.score(X_test2, y_test2)))\n",
    "y_pred =lr2.predict(X_test2)\n",
    "training_accuracy = lr2.score(X_train2, y_train2)\n",
    "test_accuracy = lr2.score(X_test2, y_test2)\n",
    "\n",
    "print(\"Accuracy on training data: %0.2f\" % (training_accuracy))\n",
    "print(\"Accuracy on test data:     %0.2f\" % (test_accuracy))\n",
    "print(roc_auc_score( y_test2, lr2.predict_proba(X_test2)[:,1]))"
   ]
  },
  {
   "cell_type": "markdown",
   "id": "83c7bbe5",
   "metadata": {},
   "source": [
    "## TF-IDF"
   ]
  },
  {
   "cell_type": "code",
   "execution_count": 31,
   "id": "8a9b5d38",
   "metadata": {},
   "outputs": [
    {
     "name": "stdout",
     "output_type": "stream",
     "text": [
      "Logistic Regression Accuracy: 87.09%\n",
      "Accuracy on training data: 0.91\n",
      "Accuracy on test data:     0.87\n",
      "0.9454711380340135\n"
     ]
    }
   ],
   "source": [
    "ngram = (1,2)\n",
    "td = TfidfVectorizer(ngram_range=ngram)\n",
    "X = td.fit_transform(tweets['text'])\n",
    "y = tweets['airline_sentiment']\n",
    "X_train3, X_test3, y_train3, y_test3 = train_test_split(X, y, test_size=.30, random_state=0)\n",
    "\n",
    "lr3 = LogisticRegression(max_iter=1000, C=1).fit(X_train3, y_train3)\n",
    "\n",
    "### Print accuracy ###\n",
    "print(\"Logistic Regression Accuracy: %0.2f%%\" % (100 * lr3.score(X_test3, y_test3)))\n",
    "y_pred =lr3.predict(X_test3)\n",
    "training_accuracy = lr3.score(X_train3, y_train3)\n",
    "test_accuracy = lr3.score(X_test3, y_test3)\n",
    "\n",
    "print(\"Accuracy on training data: %0.2f\" % (training_accuracy))\n",
    "print(\"Accuracy on test data:     %0.2f\" % (test_accuracy))\n",
    "print(roc_auc_score(y_test3, lr3.predict_proba(X_test3)[:,1]))"
   ]
  },
  {
   "cell_type": "code",
   "execution_count": 32,
   "id": "6806a7b8",
   "metadata": {},
   "outputs": [],
   "source": [
    "### Get false positive rate and the true positive rate for lr ###\n",
    "lr_probs = lr.predict_proba(X_test)[:,1]\n",
    "lr_fpr, lr_tpr, lr_thresholds = roc_curve(y_test, lr_probs)"
   ]
  },
  {
   "cell_type": "markdown",
   "id": "3c78aa03",
   "metadata": {},
   "source": [
    "### The lr performed the best based on roc_auc score and accuracy.\n",
    "\n",
    "## ROC Curve Comparisons <a class=\"anchor\" id=\"roc\"></a>\n",
    "\n",
    "Below compares the three models based on the ROC-AUC (Receiver Operating Characteristic-Area Under the Curve) to visualize the tradeoff between the classifier’s sensitivity and specificity."
   ]
  },
  {
   "cell_type": "code",
   "execution_count": 33,
   "id": "34a70703",
   "metadata": {},
   "outputs": [
    {
     "data": {
      "image/png": "[encoded data removed]",
      "text/plain": [
       "<Figure size 864x576 with 1 Axes>"
      ]
     },
     "metadata": {
      "needs_background": "light"
     },
     "output_type": "display_data"
    }
   ],
   "source": [
    "plt.figure(figsize=(12,8))\n",
    "\n",
    "for fpr, tpr, model in [(mnb_fpr,mnb_tpr,'Naive Bayes'),(rf_fpr,rf_tpr,'Random Forrest'),(lr_fpr,lr_tpr,'Logistic Regression')]:\n",
    "    roc_auc = auc(fpr, tpr)\n",
    "    plt.plot(fpr, tpr,\n",
    "             lw=2, label='ROC '+ model + ' (area = %0.2f)' % roc_auc)\n",
    "\n",
    "plt.plot([0, 1], [0, 1], color='navy', lw=2, linestyle='--')\n",
    "plt.xlim([0.0, 1.0])\n",
    "plt.ylim([0.0, 1.05])\n",
    "plt.xlabel('False Positive Rate')\n",
    "plt.ylabel('True Positive Rate')\n",
    "plt.title('ROC-AUC comparison')\n",
    "plt.legend(loc=\"lower right\")\n",
    "plt.show()"
   ]
  },
  {
   "cell_type": "markdown",
   "id": "f05a8d87",
   "metadata": {},
   "source": [
    "# Precision Recall Curve <a class=\"anchor\" id=\"pr\"></a>\n",
    "\n",
    "The Precision Recall Curve shows the tradeoff between a classifier’s precision (a measure of result relevancy) and recall(a measure of completeness). For each class, precision is defined as the ratio of true positives to the sum of true and false positives, and recall is the ratio of true positives to the sum of true positives and false negatives. My model has an average precision of 0.99."
   ]
  },
  {
   "cell_type": "code",
   "execution_count": 34,
   "id": "15dacff6",
   "metadata": {},
   "outputs": [
    {
     "data": {
      "image/png": "[encoded data removed]",
      "text/plain": [
       "<Figure size 1080x360 with 1 Axes>"
      ]
     },
     "metadata": {},
     "output_type": "display_data"
    },
    {
     "data": {
      "text/plain": [
       "<AxesSubplot:title={'center':'Precision-Recall Curve for LogisticRegression'}, xlabel='Recall', ylabel='Precision'>"
      ]
     },
     "execution_count": 34,
     "metadata": {},
     "output_type": "execute_result"
    }
   ],
   "source": [
    "from yellowbrick.classifier import PrecisionRecallCurve, DiscriminationThreshold\n",
    "fig, ax = plt.subplots(figsize=(15,5))\n",
    "viz = PrecisionRecallCurve(lr)\n",
    "viz.fit(X_train, y_train)\n",
    "viz.score(X_test, y_test)\n",
    "viz.show()"
   ]
  },
  {
   "cell_type": "markdown",
   "id": "b4016ed4",
   "metadata": {},
   "source": [
    "# Thresholding <a class=\"anchor\" id=\"thresholding\"></a>\n",
    "\n",
    "Below is a visualization of precision, recall, f1 score, and queue rate with respect to the discrimination threshold. The discrimination threshold is the probability or score at which the positive class is chosen over the negative class. Generally, this is set to 50% but the threshold can be adjusted to increase or decrease the sensitivity to false positives or to other application factors. Based on the Discrimination Threshold below, the optimal threshold is 0.20 for positive sentiments."
   ]
  },
  {
   "cell_type": "markdown",
   "id": "48e3c12d",
   "metadata": {},
   "source": [
    "# Classification Report <a class=\"anchor\" id=\"cr\"></a>"
   ]
  },
  {
   "cell_type": "code",
   "execution_count": 35,
   "id": "0122eb0e",
   "metadata": {},
   "outputs": [
    {
     "name": "stdout",
     "output_type": "stream",
     "text": [
      "              precision    recall  f1-score   support\n",
      "\n",
      "           0       0.86      0.72      0.78       734\n",
      "           1       0.93      0.97      0.95      2729\n",
      "\n",
      "    accuracy                           0.91      3463\n",
      "   macro avg       0.89      0.84      0.86      3463\n",
      "weighted avg       0.91      0.91      0.91      3463\n",
      "\n"
     ]
    }
   ],
   "source": [
    "### Classification Report of current threshold ###\n",
    "\n",
    "y_pred = lr.predict(X_test)\n",
    "class_report = classification_report(y_test,y_pred)\n",
    "\n",
    "print(class_report)"
   ]
  },
  {
   "cell_type": "markdown",
   "id": "daabc7da",
   "metadata": {},
   "source": [
    "## Visualize accuracy with Confusion Matrix <a class=\"anchor\" id=\"cm\"></a>"
   ]
  },
  {
   "cell_type": "code",
   "execution_count": 36,
   "id": "50496c74",
   "metadata": {},
   "outputs": [
    {
     "name": "stdout",
     "output_type": "stream",
     "text": [
      "The recall score is: 0.97\n",
      "The precision score is: 0.93 \n",
      "\n",
      "Accuracy score is: 0.91\n",
      "The F1 score is: 0.95\n"
     ]
    },
    {
     "data": {
      "image/png": "[encoded data removed]",
      "text/plain": [
       "<Figure size 576x396 with 2 Axes>"
      ]
     },
     "metadata": {},
     "output_type": "display_data"
    }
   ],
   "source": [
    "### Get Confusion Matrix ###\n",
    "y_pred = lr.predict(X_test)\n",
    "cm = confusion_matrix(y_test, y_pred)\n",
    "\n",
    "### Visualize Confusion Matrix ###\n",
    "groupNames = [\"True Neg\", \"False Pos\", \"False Neg\", \"True Pos\"]\n",
    "groupCount = [\"{0:0.0f}\".format(value) for value in\n",
    "                cm.flatten()]\n",
    "groupPercent = [\"{0:.2%}\".format(value) for value in\n",
    "                     cm.flatten()/np.sum(cm)]\n",
    "labels = [f\"{v1}\\n{v2}\\n{v3}\" for v1, v2, v3 in\n",
    "          zip(groupNames,groupCount,groupPercent)]\n",
    "labels = np.asarray(labels).reshape(2,2)\n",
    "\n",
    "sns.heatmap(cm, annot=labels, fmt='', cmap='rocket', annot_kws={\"fontsize\":20})\n",
    "plt.title(\"Confusion Matrix\")\n",
    "\n",
    "print(\"The recall score is: %.2f\" % recall_score( y_test, y_pred))\n",
    "print(\"The precision score is: %.2f\" % precision_score( y_test, y_pred),\"\\n\")\n",
    "print(\"Accuracy score is: %.2f\" % accuracy_score( y_test, y_pred))\n",
    "print(\"The F1 score is: %.2f\" % f1_score( y_test, y_pred))"
   ]
  },
  {
   "cell_type": "markdown",
   "id": "acabb815",
   "metadata": {},
   "source": [
    "## Best Threshold"
   ]
  },
  {
   "cell_type": "code",
   "execution_count": 37,
   "id": "29f9b48a",
   "metadata": {},
   "outputs": [
    {
     "name": "stdout",
     "output_type": "stream",
     "text": [
      "F-Score: 0.94710\n",
      "Threshold=0.448, F-Score=0.94900\n"
     ]
    }
   ],
   "source": [
    "# evaluate the model\n",
    "#yhat = model.predict(testX)\n",
    "y_pred = lr.predict(X_test)\n",
    "score = f1_score(y_test, y_pred)\n",
    "print('F-Score: %.5f' % score)\n",
    "\n",
    "# predict probabilities\n",
    "y_pred = lr.predict_proba(X_test)\n",
    "\n",
    "# keep probabilities for the positive outcome only\n",
    "probs = y_pred[:, 1]\n",
    "\n",
    "# define thresholds > test between between 0.0 and 1.0\n",
    "thresholds = np.arange(0.0, 1.0, 0.001)\n",
    "\n",
    "# apply threshold to positive probabilities to create labels\n",
    "def to_labels(pos_probs, threshold):\n",
    "    return (pos_probs >= threshold).astype('int')\n",
    "\n",
    "# evaluate each threshold\n",
    "scores = [f1_score(y_test, to_labels(probs, t)) for t in thresholds]\n",
    "\n",
    "# get best threshold\n",
    "ix = np.argmax(scores)\n",
    "print('Threshold=%.3f, F-Score=%.5f' % (thresholds[ix], scores[ix]))"
   ]
  },
  {
   "cell_type": "code",
   "execution_count": 38,
   "id": "b7c820d9",
   "metadata": {},
   "outputs": [
    {
     "name": "stdout",
     "output_type": "stream",
     "text": [
      "              precision    recall  f1-score   support\n",
      "\n",
      "           0       0.88      0.70      0.78       734\n",
      "           1       0.92      0.98      0.95      2729\n",
      "\n",
      "    accuracy                           0.92      3463\n",
      "   macro avg       0.90      0.84      0.87      3463\n",
      "weighted avg       0.92      0.92      0.91      3463\n",
      "\n"
     ]
    },
    {
     "data": {
      "image/png": "[encoded data removed]",
      "text/plain": [
       "<Figure size 1080x648 with 1 Axes>"
      ]
     },
     "metadata": {},
     "output_type": "display_data"
    }
   ],
   "source": [
    "#from sklearn.metrics import classification_report\n",
    "\n",
    "def precision_recall(model, X_test, y_test, threshold, beta = 0.5):\n",
    "    \n",
    "    y_pred = (model.predict_proba(X_test)[:,1] >= threshold).astype(bool)\n",
    "    matrix = confusion_matrix(y_test, y_pred)\n",
    "    \n",
    "    fp = cm[0,1]\n",
    "    tp = cm[1,1]\n",
    "    fn = cm[1,0]\n",
    "    tn = cm[0,0]\n",
    "    \n",
    "    precision = tp/(tp+fp)\n",
    "    recall = tp/(tp+fn)\n",
    "    \n",
    "    f_beta = fbeta_score(y_test, y_pred, beta=beta)\n",
    "    \n",
    "    return([precision, recall, f_beta])\n",
    "\n",
    "####\n",
    "\n",
    "y_pred = (lr.predict_proba(X_test)[:,1] >= 0.448).astype(bool)\n",
    "\n",
    "print(classification_report(y_test,y_pred))\n",
    "###\n",
    "\n",
    "threshold_df = pd.DataFrame(columns=['Precision','Recall','F0.5_measure'])\n",
    "\n",
    "for threshold in np.arange(0.0, 1.0, 0.001):\n",
    "    \n",
    "    threshold_df.loc[threshold] = precision_recall(lr, X_test, y_test, threshold)\n",
    "    \n",
    "    \n",
    "###\n",
    "\n",
    "\n",
    "ax = threshold_df.plot(figsize=(15,9))\n",
    "ax.set_xlabel('Threshold')\n",
    "ax.set_title('Precision-Recall vs. Threshold')\n",
    "ax.axvline(0.38, color='black', alpha=0.3)\n",
    "ax.text(.365,.65,'Optimal Threshold F0.5',rotation=90, alpha=0.8, fontsize=16)\n",
    "ax.axvline(0.5, color ='black', alpha = 0.3)\n",
    "ax.text(.485,.7,'Default Threshold',rotation=90, alpha=0.8, fontsize=16);"
   ]
  },
  {
   "cell_type": "code",
   "execution_count": null,
   "id": "a88184b2",
   "metadata": {},
   "outputs": [],
   "source": []
  },
  {
   "cell_type": "code",
   "execution_count": 39,
   "id": "538bbdc3",
   "metadata": {},
   "outputs": [
    {
     "name": "stdout",
     "output_type": "stream",
     "text": [
      "              precision    recall  f1-score   support\n",
      "\n",
      "           0       0.88      0.70      0.78       734\n",
      "           1       0.92      0.98      0.95      2729\n",
      "\n",
      "    accuracy                           0.92      3463\n",
      "   macro avg       0.90      0.84      0.87      3463\n",
      "weighted avg       0.92      0.92      0.91      3463\n",
      "\n"
     ]
    }
   ],
   "source": [
    "y_pred = (lr.predict_proba(X_test)[:,1] >= 0.448).astype(bool)\n",
    "\n",
    "print(classification_report(y_test,y_pred))"
   ]
  },
  {
   "cell_type": "code",
   "execution_count": 40,
   "id": "99b88398",
   "metadata": {},
   "outputs": [
    {
     "name": "stdout",
     "output_type": "stream",
     "text": [
      "The recall score is: 0.98\n",
      "The precision score is: 0.92 \n",
      "\n",
      "Accuracy score is: 0.92\n",
      "The F1 score is: 0.95\n"
     ]
    },
    {
     "data": {
      "image/png": "[encoded data removed]",
      "text/plain": [
       "<Figure size 576x396 with 2 Axes>"
      ]
     },
     "metadata": {},
     "output_type": "display_data"
    }
   ],
   "source": [
    "discrimination_threshold = lr_thresholds[ix]\n",
    "predictions = lr.predict_proba(X_test)\n",
    "predictions = (predictions[::,1] > 0.448 )*1\n",
    "\n",
    "print(\"The recall score is: %.2f\" % recall_score( y_test, predictions))\n",
    "print(\"The precision score is: %.2f\" % precision_score( y_test, predictions),\"\\n\")\n",
    "print(\"Accuracy score is: %.2f\" % accuracy_score( y_test, predictions))\n",
    "print(\"The F1 score is: %.2f\" % f1_score( y_test, predictions))\n",
    "\n",
    "groupNames = [\"True Neg\", \"False Pos\", \"False Neg\", \"True Pos\"]\n",
    "groupCount = [\"{0:0.0f}\".format(value) for value in\n",
    "                cm.flatten()]\n",
    "groupPercent = [\"{0:.2%}\".format(value) for value in\n",
    "                     cm.flatten()/np.sum(cm)]\n",
    "labels = [f\"{v1}\\n{v2}\\n{v3}\" for v1, v2, v3 in\n",
    "          zip(groupNames,groupCount,groupPercent)]\n",
    "labels = np.asarray(labels).reshape(2,2)\n",
    "\n",
    "cm = confusion_matrix(y_test , predictions )\n",
    "sns.heatmap(cm, annot=labels, annot_kws={\"size\": 20}, fmt=\"\", cmap=\"rocket\")\n",
    "plt.show()"
   ]
  },
  {
   "cell_type": "markdown",
   "id": "d78a5772",
   "metadata": {},
   "source": [
    "Using the best threshold the recall, accuracy, and F1 score all decreased except the precision score. "
   ]
  },
  {
   "cell_type": "code",
   "execution_count": 54,
   "id": "a920dd30",
   "metadata": {},
   "outputs": [],
   "source": [
    "#cv = CountVectorizer(min_df=5, max_df=0.70)\n",
    "#tweets[\"text\"] = cv.fit_transform(tweets.text)\n",
    "\n",
    "cv = CountVectorizer(min_df=5, max_df=0.70)\n",
    "X = cv.fit_transform(tweets['text'])\n",
    "y = tweets['airline_sentiment']"
   ]
  },
  {
   "cell_type": "code",
   "execution_count": 59,
   "id": "eade2adc",
   "metadata": {},
   "outputs": [],
   "source": [
    "from sklearn.ensemble import IsolationForest\n",
    "\n",
    "def plot_decision_boundary_pca(dfs, best_model):\n",
    "    df = dfs.dropna()\n",
    "\n",
    "    # Remove Outliers\n",
    "    #mask = IsolationForest().fit_predict(df[['text']])\n",
    "    #df['mask'] = mask\n",
    "    #df = df[df['mask'] == 1]\n",
    "    #df = df.reset_index(drop=True)\n",
    "\n",
    "    X, y = df[features], df['quality'].apply(lambda x:0 if x<=6 else 1)\n",
    "\n",
    "    # Apply Transformations\n",
    "    X = PowerTransformer().fit_transform(X)\n",
    "\n",
    "    # Reduce Dimensions\n",
    "    decomp = PCA(n_components=2)\n",
    "    reduced = decomp.fit_transform(X, y)\n",
    "    reduced = pd.DataFrame(reduced, columns=['pc_1', 'pc_2'])\n",
    "    reduced = pd.concat([reduced, y], axis=1)\n",
    "    model = best_model\n",
    "    model.fit(reduced.drop('quality', axis=1), reduced['quality'])\n",
    "\n",
    "    h=0.02\n",
    "\n",
    "    # Plot the decision boundary. For that, we will assign a color to each\n",
    "    x_min, x_max = reduced.iloc[:, 0].min(), reduced.iloc[:, 0].max()\n",
    "    y_min, y_max = reduced.iloc[:, 1].min(), reduced.iloc[:, 1].max()\n",
    "    # Meshgrid creation\n",
    "    xx, yy = np.meshgrid(np.arange(x_min, x_max, h), np.arange(y_min, y_max, h))\n",
    "\n",
    "    Z = model.predict(np.c_[xx.ravel(), yy.ravel()])   \n",
    "\n",
    "    xx, yy = np.meshgrid(np.arange(x_min, x_max, h),\n",
    "                         np.arange(y_min, y_max, h))\n",
    "\n",
    "    # Predictions to obtain the classification results\n",
    "    Z = model.predict(np.c_[xx.ravel(), yy.ravel()]).reshape(xx.shape)\n",
    "\n",
    "    plt.figure(figsize=(10,10))\n",
    "    # Plotting\n",
    "    plt.contourf(xx, yy, Z, alpha=0.25, colors=['red', 'black', 'green', 'red'])\n",
    "    highs = reduced[reduced['quality']==1]\n",
    "    lows = reduced[reduced['quality']==0]\n",
    "    plt.scatter(highs['pc_1'], highs['pc_2'], color='green', marker='o', alpha=0.7, edgecolor='k', linewidth=1.0, label='high quality')\n",
    "    plt.scatter(lows['pc_1'], lows['pc_2'], color='red', marker='.',alpha=0.4, label='low quality')\n",
    "    plt.xticks(fontsize=14)\n",
    "    plt.yticks(fontsize=14)\n",
    "    plt.xlabel('principal component 1')\n",
    "    plt.ylabel('principal component 2')\n",
    "    plt.legend(loc='best')\n",
    "    plt.xlim(x_min, x_max)\n",
    "    plt.ylim(y_min, y_max)\n",
    "    if 'steps' in model.get_params().keys():\n",
    "        plt.title('{} Decision Boundary'.format(model.get_params()['steps'][1][0]).capitalize())\n",
    "        save_fig('{} Decision Boundary'.format(model.get_params()['steps'][1][0]).capitalize(), resolution=72)\n",
    "    else:\n",
    "        plt.title('Stacking Classifier {}'.format(model.final_estimator_.steps[1][0]))\n",
    "        save_fig('stacking_classifier_{}'.format(model.final_estimator_.steps[1][0]), resolution=72)\n",
    "    plt.show()"
   ]
  },
  {
   "cell_type": "code",
   "execution_count": 60,
   "id": "cac00135",
   "metadata": {},
   "outputs": [
    {
     "ename": "KeyError",
     "evalue": "'quality'",
     "output_type": "error",
     "traceback": [
      "\u001b[0;31m---------------------------------------------------------------------------\u001b[0m",
      "\u001b[0;31mKeyError\u001b[0m                                  Traceback (most recent call last)",
      "\u001b[0;32m~/opt/anaconda3/lib/python3.9/site-packages/pandas/core/indexes/base.py\u001b[0m in \u001b[0;36mget_loc\u001b[0;34m(self, key, method, tolerance)\u001b[0m\n\u001b[1;32m   3360\u001b[0m             \u001b[0;32mtry\u001b[0m\u001b[0;34m:\u001b[0m\u001b[0;34m\u001b[0m\u001b[0;34m\u001b[0m\u001b[0m\n\u001b[0;32m-> 3361\u001b[0;31m                 \u001b[0;32mreturn\u001b[0m \u001b[0mself\u001b[0m\u001b[0;34m.\u001b[0m\u001b[0m_engine\u001b[0m\u001b[0;34m.\u001b[0m\u001b[0mget_loc\u001b[0m\u001b[0;34m(\u001b[0m\u001b[0mcasted_key\u001b[0m\u001b[0;34m)\u001b[0m\u001b[0;34m\u001b[0m\u001b[0;34m\u001b[0m\u001b[0m\n\u001b[0m\u001b[1;32m   3362\u001b[0m             \u001b[0;32mexcept\u001b[0m \u001b[0mKeyError\u001b[0m \u001b[0;32mas\u001b[0m \u001b[0merr\u001b[0m\u001b[0;34m:\u001b[0m\u001b[0;34m\u001b[0m\u001b[0;34m\u001b[0m\u001b[0m\n",
      "\u001b[0;32m~/opt/anaconda3/lib/python3.9/site-packages/pandas/_libs/index.pyx\u001b[0m in \u001b[0;36mpandas._libs.index.IndexEngine.get_loc\u001b[0;34m()\u001b[0m\n",
      "\u001b[0;32m~/opt/anaconda3/lib/python3.9/site-packages/pandas/_libs/index.pyx\u001b[0m in \u001b[0;36mpandas._libs.index.IndexEngine.get_loc\u001b[0;34m()\u001b[0m\n",
      "\u001b[0;32mpandas/_libs/hashtable_class_helper.pxi\u001b[0m in \u001b[0;36mpandas._libs.hashtable.PyObjectHashTable.get_item\u001b[0;34m()\u001b[0m\n",
      "\u001b[0;32mpandas/_libs/hashtable_class_helper.pxi\u001b[0m in \u001b[0;36mpandas._libs.hashtable.PyObjectHashTable.get_item\u001b[0;34m()\u001b[0m\n",
      "\u001b[0;31mKeyError\u001b[0m: 'quality'",
      "\nThe above exception was the direct cause of the following exception:\n",
      "\u001b[0;31mKeyError\u001b[0m                                  Traceback (most recent call last)",
      "\u001b[0;32m/var/folders/4s/dkl5yc9543jbyd5lrgf388vh0000gp/T/ipykernel_3253/2073750942.py\u001b[0m in \u001b[0;36m<module>\u001b[0;34m\u001b[0m\n\u001b[0;32m----> 1\u001b[0;31m \u001b[0mplot_decision_boundary_pca\u001b[0m\u001b[0;34m(\u001b[0m\u001b[0mtweets\u001b[0m\u001b[0;34m,\u001b[0m \u001b[0mlr\u001b[0m\u001b[0;34m)\u001b[0m\u001b[0;34m\u001b[0m\u001b[0;34m\u001b[0m\u001b[0m\n\u001b[0m",
      "\u001b[0;32m/var/folders/4s/dkl5yc9543jbyd5lrgf388vh0000gp/T/ipykernel_3253/3899203951.py\u001b[0m in \u001b[0;36mplot_decision_boundary_pca\u001b[0;34m(dfs, best_model)\u001b[0m\n\u001b[1;32m     10\u001b[0m     \u001b[0;31m#df = df.reset_index(drop=True)\u001b[0m\u001b[0;34m\u001b[0m\u001b[0;34m\u001b[0m\u001b[0m\n\u001b[1;32m     11\u001b[0m \u001b[0;34m\u001b[0m\u001b[0m\n\u001b[0;32m---> 12\u001b[0;31m     \u001b[0mX\u001b[0m\u001b[0;34m,\u001b[0m \u001b[0my\u001b[0m \u001b[0;34m=\u001b[0m \u001b[0mdf\u001b[0m\u001b[0;34m[\u001b[0m\u001b[0mfeatures\u001b[0m\u001b[0;34m]\u001b[0m\u001b[0;34m,\u001b[0m \u001b[0mdf\u001b[0m\u001b[0;34m[\u001b[0m\u001b[0;34m'quality'\u001b[0m\u001b[0;34m]\u001b[0m\u001b[0;34m.\u001b[0m\u001b[0mapply\u001b[0m\u001b[0;34m(\u001b[0m\u001b[0;32mlambda\u001b[0m \u001b[0mx\u001b[0m\u001b[0;34m:\u001b[0m\u001b[0;36m0\u001b[0m \u001b[0;32mif\u001b[0m \u001b[0mx\u001b[0m\u001b[0;34m<=\u001b[0m\u001b[0;36m6\u001b[0m \u001b[0;32melse\u001b[0m \u001b[0;36m1\u001b[0m\u001b[0;34m)\u001b[0m\u001b[0;34m\u001b[0m\u001b[0;34m\u001b[0m\u001b[0m\n\u001b[0m\u001b[1;32m     13\u001b[0m \u001b[0;34m\u001b[0m\u001b[0m\n\u001b[1;32m     14\u001b[0m     \u001b[0;31m# Apply Transformations\u001b[0m\u001b[0;34m\u001b[0m\u001b[0;34m\u001b[0m\u001b[0m\n",
      "\u001b[0;32m~/opt/anaconda3/lib/python3.9/site-packages/pandas/core/frame.py\u001b[0m in \u001b[0;36m__getitem__\u001b[0;34m(self, key)\u001b[0m\n\u001b[1;32m   3456\u001b[0m             \u001b[0;32mif\u001b[0m \u001b[0mself\u001b[0m\u001b[0;34m.\u001b[0m\u001b[0mcolumns\u001b[0m\u001b[0;34m.\u001b[0m\u001b[0mnlevels\u001b[0m \u001b[0;34m>\u001b[0m \u001b[0;36m1\u001b[0m\u001b[0;34m:\u001b[0m\u001b[0;34m\u001b[0m\u001b[0;34m\u001b[0m\u001b[0m\n\u001b[1;32m   3457\u001b[0m                 \u001b[0;32mreturn\u001b[0m \u001b[0mself\u001b[0m\u001b[0;34m.\u001b[0m\u001b[0m_getitem_multilevel\u001b[0m\u001b[0;34m(\u001b[0m\u001b[0mkey\u001b[0m\u001b[0;34m)\u001b[0m\u001b[0;34m\u001b[0m\u001b[0;34m\u001b[0m\u001b[0m\n\u001b[0;32m-> 3458\u001b[0;31m             \u001b[0mindexer\u001b[0m \u001b[0;34m=\u001b[0m \u001b[0mself\u001b[0m\u001b[0;34m.\u001b[0m\u001b[0mcolumns\u001b[0m\u001b[0;34m.\u001b[0m\u001b[0mget_loc\u001b[0m\u001b[0;34m(\u001b[0m\u001b[0mkey\u001b[0m\u001b[0;34m)\u001b[0m\u001b[0;34m\u001b[0m\u001b[0;34m\u001b[0m\u001b[0m\n\u001b[0m\u001b[1;32m   3459\u001b[0m             \u001b[0;32mif\u001b[0m \u001b[0mis_integer\u001b[0m\u001b[0;34m(\u001b[0m\u001b[0mindexer\u001b[0m\u001b[0;34m)\u001b[0m\u001b[0;34m:\u001b[0m\u001b[0;34m\u001b[0m\u001b[0;34m\u001b[0m\u001b[0m\n\u001b[1;32m   3460\u001b[0m                 \u001b[0mindexer\u001b[0m \u001b[0;34m=\u001b[0m \u001b[0;34m[\u001b[0m\u001b[0mindexer\u001b[0m\u001b[0;34m]\u001b[0m\u001b[0;34m\u001b[0m\u001b[0;34m\u001b[0m\u001b[0m\n",
      "\u001b[0;32m~/opt/anaconda3/lib/python3.9/site-packages/pandas/core/indexes/base.py\u001b[0m in \u001b[0;36mget_loc\u001b[0;34m(self, key, method, tolerance)\u001b[0m\n\u001b[1;32m   3361\u001b[0m                 \u001b[0;32mreturn\u001b[0m \u001b[0mself\u001b[0m\u001b[0;34m.\u001b[0m\u001b[0m_engine\u001b[0m\u001b[0;34m.\u001b[0m\u001b[0mget_loc\u001b[0m\u001b[0;34m(\u001b[0m\u001b[0mcasted_key\u001b[0m\u001b[0;34m)\u001b[0m\u001b[0;34m\u001b[0m\u001b[0;34m\u001b[0m\u001b[0m\n\u001b[1;32m   3362\u001b[0m             \u001b[0;32mexcept\u001b[0m \u001b[0mKeyError\u001b[0m \u001b[0;32mas\u001b[0m \u001b[0merr\u001b[0m\u001b[0;34m:\u001b[0m\u001b[0;34m\u001b[0m\u001b[0;34m\u001b[0m\u001b[0m\n\u001b[0;32m-> 3363\u001b[0;31m                 \u001b[0;32mraise\u001b[0m \u001b[0mKeyError\u001b[0m\u001b[0;34m(\u001b[0m\u001b[0mkey\u001b[0m\u001b[0;34m)\u001b[0m \u001b[0;32mfrom\u001b[0m \u001b[0merr\u001b[0m\u001b[0;34m\u001b[0m\u001b[0;34m\u001b[0m\u001b[0m\n\u001b[0m\u001b[1;32m   3364\u001b[0m \u001b[0;34m\u001b[0m\u001b[0m\n\u001b[1;32m   3365\u001b[0m         \u001b[0;32mif\u001b[0m \u001b[0mis_scalar\u001b[0m\u001b[0;34m(\u001b[0m\u001b[0mkey\u001b[0m\u001b[0;34m)\u001b[0m \u001b[0;32mand\u001b[0m \u001b[0misna\u001b[0m\u001b[0;34m(\u001b[0m\u001b[0mkey\u001b[0m\u001b[0;34m)\u001b[0m \u001b[0;32mand\u001b[0m \u001b[0;32mnot\u001b[0m \u001b[0mself\u001b[0m\u001b[0;34m.\u001b[0m\u001b[0mhasnans\u001b[0m\u001b[0;34m:\u001b[0m\u001b[0;34m\u001b[0m\u001b[0;34m\u001b[0m\u001b[0m\n",
      "\u001b[0;31mKeyError\u001b[0m: 'quality'"
     ]
    }
   ],
   "source": [
    "plot_decision_boundary_pca(tweets, lr)"
   ]
  },
  {
   "cell_type": "code",
   "execution_count": 61,
   "id": "a01b91b5",
   "metadata": {},
   "outputs": [
    {
     "ename": "NameError",
     "evalue": "name 'product' is not defined",
     "output_type": "error",
     "traceback": [
      "\u001b[0;31m---------------------------------------------------------------------------\u001b[0m",
      "\u001b[0;31mNameError\u001b[0m                                 Traceback (most recent call last)",
      "\u001b[0;32m/var/folders/4s/dkl5yc9543jbyd5lrgf388vh0000gp/T/ipykernel_3253/2005517082.py\u001b[0m in \u001b[0;36m<module>\u001b[0;34m\u001b[0m\n\u001b[1;32m      2\u001b[0m \u001b[0mf\u001b[0m\u001b[0;34m,\u001b[0m \u001b[0maxarr\u001b[0m \u001b[0;34m=\u001b[0m \u001b[0mplt\u001b[0m\u001b[0;34m.\u001b[0m\u001b[0msubplots\u001b[0m\u001b[0;34m(\u001b[0m\u001b[0;36m2\u001b[0m\u001b[0;34m,\u001b[0m \u001b[0;36m2\u001b[0m\u001b[0;34m,\u001b[0m \u001b[0msharex\u001b[0m\u001b[0;34m=\u001b[0m\u001b[0;34m\"col\"\u001b[0m\u001b[0;34m,\u001b[0m \u001b[0msharey\u001b[0m\u001b[0;34m=\u001b[0m\u001b[0;34m\"row\"\u001b[0m\u001b[0;34m,\u001b[0m \u001b[0mfigsize\u001b[0m\u001b[0;34m=\u001b[0m\u001b[0;34m(\u001b[0m\u001b[0;36m10\u001b[0m\u001b[0;34m,\u001b[0m \u001b[0;36m8\u001b[0m\u001b[0;34m)\u001b[0m\u001b[0;34m)\u001b[0m\u001b[0;34m\u001b[0m\u001b[0;34m\u001b[0m\u001b[0m\n\u001b[1;32m      3\u001b[0m for idx, clf, tt in zip(\n\u001b[0;32m----> 4\u001b[0;31m     \u001b[0mproduct\u001b[0m\u001b[0;34m(\u001b[0m\u001b[0;34m[\u001b[0m\u001b[0;36m0\u001b[0m\u001b[0;34m,\u001b[0m \u001b[0;36m1\u001b[0m\u001b[0;34m]\u001b[0m\u001b[0;34m,\u001b[0m \u001b[0;34m[\u001b[0m\u001b[0;36m0\u001b[0m\u001b[0;34m,\u001b[0m \u001b[0;36m1\u001b[0m\u001b[0;34m]\u001b[0m\u001b[0;34m)\u001b[0m\u001b[0;34m,\u001b[0m\u001b[0;34m\u001b[0m\u001b[0;34m\u001b[0m\u001b[0m\n\u001b[0m\u001b[1;32m      5\u001b[0m     \u001b[0;34m[\u001b[0m\u001b[0mlr\u001b[0m\u001b[0;34m]\u001b[0m\u001b[0;34m,\u001b[0m\u001b[0;34m\u001b[0m\u001b[0;34m\u001b[0m\u001b[0m\n\u001b[1;32m      6\u001b[0m     \u001b[0;34m[\u001b[0m\u001b[0;34m\"Logistic Regression\"\u001b[0m\u001b[0;34m]\u001b[0m\u001b[0;34m,\u001b[0m\u001b[0;34m\u001b[0m\u001b[0;34m\u001b[0m\u001b[0m\n",
      "\u001b[0;31mNameError\u001b[0m: name 'product' is not defined"
     ]
    },
    {
     "data": {
      "image/png": "[encoded data removed]",
      "text/plain": [
       "<Figure size 720x576 with 4 Axes>"
      ]
     },
     "metadata": {},
     "output_type": "display_data"
    }
   ],
   "source": [
    "# Plotting decision regions\n",
    "f, axarr = plt.subplots(2, 2, sharex=\"col\", sharey=\"row\", figsize=(10, 8))\n",
    "for  clf, tt in zip(\n",
    "    product([0, 1], [0, 1]),\n",
    "    [lr],\n",
    "    [\"Logistic Regression\"],\n",
    "):\n",
    "    DecisionBoundaryDisplay.from_estimator(\n",
    "        clf, X, alpha=0.4, ax=axarr[idx[0], idx[1]], response_method=\"predict\"\n",
    "    )\n",
    "    axarr[idx[0], idx[1]].scatter(X[:, 0], X[:, 1], c=y, s=20, edgecolor=\"k\")\n",
    "    axarr[idx[0], idx[1]].set_title(tt)\n",
    "\n",
    "plt.show()"
   ]
  },
  {
   "cell_type": "code",
   "execution_count": 67,
   "id": "18e7fc2b",
   "metadata": {},
   "outputs": [
    {
     "ename": "ImportError",
     "evalue": "cannot import name 'DecisionBoundaryDisplay' from 'sklearn.inspection' (/Users/kierradangerfield/opt/anaconda3/lib/python3.9/site-packages/sklearn/inspection/__init__.py)",
     "output_type": "error",
     "traceback": [
      "\u001b[0;31m---------------------------------------------------------------------------\u001b[0m",
      "\u001b[0;31mImportError\u001b[0m                               Traceback (most recent call last)",
      "\u001b[0;32m/var/folders/4s/dkl5yc9543jbyd5lrgf388vh0000gp/T/ipykernel_3253/791992624.py\u001b[0m in \u001b[0;36m<module>\u001b[0;34m\u001b[0m\n\u001b[0;32m----> 1\u001b[0;31m \u001b[0;32mfrom\u001b[0m \u001b[0msklearn\u001b[0m\u001b[0;34m.\u001b[0m\u001b[0minspection\u001b[0m \u001b[0;32mimport\u001b[0m \u001b[0mDecisionBoundaryDisplay\u001b[0m\u001b[0;34m\u001b[0m\u001b[0;34m\u001b[0m\u001b[0m\n\u001b[0m\u001b[1;32m      2\u001b[0m \u001b[0;32mimport\u001b[0m \u001b[0mseaborn\u001b[0m \u001b[0;32mas\u001b[0m \u001b[0msns\u001b[0m\u001b[0;34m\u001b[0m\u001b[0;34m\u001b[0m\u001b[0m\n\u001b[1;32m      3\u001b[0m \u001b[0;34m\u001b[0m\u001b[0m\n\u001b[1;32m      4\u001b[0m DecisionBoundaryDisplay.from_estimator(lr, X_train, response_method=\"predict\", \n\u001b[1;32m      5\u001b[0m                                               cmap=\"RdBu\", alpha=0.5)\n",
      "\u001b[0;31mImportError\u001b[0m: cannot import name 'DecisionBoundaryDisplay' from 'sklearn.inspection' (/Users/kierradangerfield/opt/anaconda3/lib/python3.9/site-packages/sklearn/inspection/__init__.py)"
     ]
    }
   ],
   "source": [
    "from sklearn.inspection import DecisionBoundaryDisplay\n",
    "import seaborn as sns\n",
    "\n",
    "DecisionBoundaryDisplay.from_estimator(lr, X_train, response_method=\"predict\", \n",
    "                                              cmap=\"RdBu\", alpha=0.5)\n",
    "ax = sns.scatterplot(data=tweets, x=X, y=y,\n",
    "                     hue=target_column)\n",
    "\n",
    "plt.legend(bbox_to_anchor=(1.05, 1), loc='upper left')\n",
    "plt.title(\"Decision boundary using a decision tree\")\n",
    "plt.show()\n",
    "\n"
   ]
  },
  {
   "cell_type": "code",
   "execution_count": 70,
   "id": "13c7f102",
   "metadata": {},
   "outputs": [],
   "source": [
    "def plot_decision_boundaries(X, y, model_class, **model_params):\n",
    "    \"\"\"\n",
    "    Function to plot the decision boundaries of a classification model.\n",
    "    This uses just the first two columns of the data for fitting \n",
    "    the model as we need to find the predicted value for every point in \n",
    "    scatter plot.\n",
    "    Arguments:\n",
    "            X: Feature data as a NumPy-type array.\n",
    "            y: Label data as a NumPy-type array.\n",
    "            model_class: A Scikit-learn ML estimator class \n",
    "            e.g. GaussianNB (imported from sklearn.naive_bayes) or\n",
    "            LogisticRegression (imported from sklearn.linear_model)\n",
    "            **model_params: Model parameters to be passed on to the ML estimator\n",
    "    \n",
    "    Typical code example:\n",
    "            plt.figure()\n",
    "            plt.title(\"KNN decision boundary with neighbros: 5\",fontsize=16)\n",
    "            plot_decision_boundaries(X_train,y_train,KNeighborsClassifier,n_neighbors=5)\n",
    "            plt.show()\n",
    "    \"\"\"\n",
    "    try:\n",
    "        X = np.array(X)\n",
    "        y = np.array(y).flatten()\n",
    "    except:\n",
    "        print(\"Coercing input data to NumPy arrays failed\")\n",
    "    # Reduces to the first two columns of data\n",
    "    reduced_data = X\n",
    "    # Instantiate the model object\n",
    "    model = model_class(**model_params)\n",
    "    # Fits the model with the reduced data\n",
    "    model.fit(reduced_data, y)\n",
    "\n",
    "    # Step size of the mesh. Decrease to increase the quality of the VQ.\n",
    "    h = .02     # point in the mesh [x_min, m_max]x[y_min, y_max].    \n",
    "\n",
    "    # Plot the decision boundary. For that, we will assign a color to each\n",
    "    x_min, x_max = reduced_data[:, 0].min() - 1, reduced_data[:, 0].max() + 1\n",
    "    y_min, y_max = reduced_data[:, 1].min() - 1, reduced_data[:, 1].max() + 1\n",
    "    # Meshgrid creation\n",
    "    xx, yy = np.meshgrid(np.arange(x_min, x_max, h), np.arange(y_min, y_max, h))\n",
    "\n",
    "    # Obtain labels for each point in mesh using the model.\n",
    "    Z = model.predict(np.c_[xx.ravel(), yy.ravel()])    \n",
    "\n",
    "    x_min, x_max = X[:, 0].min() - 1, X[:, 0].max() + 1\n",
    "    y_min, y_max = X[:, 1].min() - 1, X[:, 1].max() + 1\n",
    "    xx, yy = np.meshgrid(np.arange(x_min, x_max, 0.1),\n",
    "                         np.arange(y_min, y_max, 0.1))\n",
    "\n",
    "    # Predictions to obtain the classification results\n",
    "    Z = model.predict(np.c_[xx.ravel(), yy.ravel()]).reshape(xx.shape)\n",
    "\n",
    "    # Plotting\n",
    "    plt.contourf(xx, yy, Z, alpha=0.4)\n",
    "    plt.scatter(X[:, 0], X[:, 1], c=y, alpha=0.8)\n",
    "    plt.xlabel(\"Feature-1\",fontsize=15)\n",
    "    plt.ylabel(\"Feature-2\",fontsize=15)\n",
    "    plt.xticks(fontsize=14)\n",
    "    plt.yticks(fontsize=14)\n",
    "    return plt"
   ]
  },
  {
   "cell_type": "code",
   "execution_count": 73,
   "id": "1b0449da",
   "metadata": {},
   "outputs": [
    {
     "ename": "AttributeError",
     "evalue": "'str' object has no attribute 'predict'",
     "output_type": "error",
     "traceback": [
      "\u001b[0;31m---------------------------------------------------------------------------\u001b[0m",
      "\u001b[0;31mAttributeError\u001b[0m                            Traceback (most recent call last)",
      "\u001b[0;32m/var/folders/4s/dkl5yc9543jbyd5lrgf388vh0000gp/T/ipykernel_3253/2424826203.py\u001b[0m in \u001b[0;36m<module>\u001b[0;34m\u001b[0m\n\u001b[1;32m      8\u001b[0m \u001b[0;34m\u001b[0m\u001b[0m\n\u001b[1;32m      9\u001b[0m     \u001b[0;31m# Obtain labels for each point in mesh using the model.\u001b[0m\u001b[0;34m\u001b[0m\u001b[0;34m\u001b[0m\u001b[0m\n\u001b[0;32m---> 10\u001b[0;31m \u001b[0mZ\u001b[0m \u001b[0;34m=\u001b[0m \u001b[0mmodel\u001b[0m\u001b[0;34m.\u001b[0m\u001b[0mpredict\u001b[0m\u001b[0;34m(\u001b[0m\u001b[0mnp\u001b[0m\u001b[0;34m.\u001b[0m\u001b[0mc_\u001b[0m\u001b[0;34m[\u001b[0m\u001b[0mxx\u001b[0m\u001b[0;34m.\u001b[0m\u001b[0mravel\u001b[0m\u001b[0;34m(\u001b[0m\u001b[0;34m)\u001b[0m\u001b[0;34m,\u001b[0m \u001b[0myy\u001b[0m\u001b[0;34m.\u001b[0m\u001b[0mravel\u001b[0m\u001b[0;34m(\u001b[0m\u001b[0;34m)\u001b[0m\u001b[0;34m]\u001b[0m\u001b[0;34m)\u001b[0m\u001b[0;34m\u001b[0m\u001b[0;34m\u001b[0m\u001b[0m\n\u001b[0m\u001b[1;32m     11\u001b[0m \u001b[0;34m\u001b[0m\u001b[0m\n\u001b[1;32m     12\u001b[0m \u001b[0mx_min\u001b[0m\u001b[0;34m,\u001b[0m \u001b[0mx_max\u001b[0m \u001b[0;34m=\u001b[0m \u001b[0mX\u001b[0m\u001b[0;34m[\u001b[0m\u001b[0;34m:\u001b[0m\u001b[0;34m,\u001b[0m \u001b[0;36m0\u001b[0m\u001b[0;34m]\u001b[0m\u001b[0;34m.\u001b[0m\u001b[0mmin\u001b[0m\u001b[0;34m(\u001b[0m\u001b[0;34m)\u001b[0m \u001b[0;34m-\u001b[0m \u001b[0;36m1\u001b[0m\u001b[0;34m,\u001b[0m \u001b[0mX\u001b[0m\u001b[0;34m[\u001b[0m\u001b[0;34m:\u001b[0m\u001b[0;34m,\u001b[0m \u001b[0;36m0\u001b[0m\u001b[0;34m]\u001b[0m\u001b[0;34m.\u001b[0m\u001b[0mmax\u001b[0m\u001b[0;34m(\u001b[0m\u001b[0;34m)\u001b[0m \u001b[0;34m+\u001b[0m \u001b[0;36m1\u001b[0m\u001b[0;34m\u001b[0m\u001b[0;34m\u001b[0m\u001b[0m\n",
      "\u001b[0;31mAttributeError\u001b[0m: 'str' object has no attribute 'predict'"
     ]
    }
   ],
   "source": [
    "h = .02     # point in the mesh [x_min, m_max]x[y_min, y_max].    \n",
    "\n",
    "# Plot the decision boundary. For that, we will assign a color to each\n",
    "x_min, x_max = X[:, 0].min() - 1, X[:, 0].max() + 1\n",
    "y_min, y_max = X[:, 1].min() - 1, X[:, 1].max() + 1\n",
    "    # Meshgrid creation\n",
    "xx, yy = np.meshgrid(np.arange(x_min, x_max, h), np.arange(y_min, y_max, h))\n",
    "\n",
    "    # Obtain labels for each point in mesh using the model.\n",
    "Z = model.predict(np.c_[xx.ravel(), yy.ravel()])    \n",
    "\n",
    "x_min, x_max = X[:, 0].min() - 1, X[:, 0].max() + 1\n",
    "y_min, y_max = X[:, 1].min() - 1, X[:, 1].max() + 1\n",
    "xx, yy = np.meshgrid(np.arange(x_min, x_max, 0.1),\n",
    "                         np.arange(y_min, y_max, 0.1))\n",
    "\n",
    "    # Predictions to obtain the classification results\n",
    "Z = model.predict(np.c_[xx.ravel(), yy.ravel()]).reshape(xx.shape)\n",
    "\n",
    "    # Plotting\n",
    "plt.contourf(xx, yy, Z, alpha=0.4)\n",
    "plt.scatter(X[:, 0], X[:, 1], c=y, alpha=0.8)\n",
    "plt.xlabel(\"Feature-1\",fontsize=15)\n",
    "plt.ylabel(\"Feature-2\",fontsize=15)\n",
    "plt.xticks(fontsize=14)\n",
    "plt.yticks(fontsize=14)\n"
   ]
  },
  {
   "cell_type": "code",
   "execution_count": 72,
   "id": "daf70d20",
   "metadata": {},
   "outputs": [
    {
     "ename": "TypeError",
     "evalue": "plot_decision_boundaries() missing 2 required positional arguments: 'y' and 'model_class'",
     "output_type": "error",
     "traceback": [
      "\u001b[0;31m---------------------------------------------------------------------------\u001b[0m",
      "\u001b[0;31mTypeError\u001b[0m                                 Traceback (most recent call last)",
      "\u001b[0;32m/var/folders/4s/dkl5yc9543jbyd5lrgf388vh0000gp/T/ipykernel_3253/572970536.py\u001b[0m in \u001b[0;36m<module>\u001b[0;34m\u001b[0m\n\u001b[0;32m----> 1\u001b[0;31m \u001b[0mplot_decision_boundaries\u001b[0m\u001b[0;34m(\u001b[0m\u001b[0mlr\u001b[0m\u001b[0;34m)\u001b[0m\u001b[0;34m\u001b[0m\u001b[0;34m\u001b[0m\u001b[0m\n\u001b[0m",
      "\u001b[0;31mTypeError\u001b[0m: plot_decision_boundaries() missing 2 required positional arguments: 'y' and 'model_class'"
     ]
    }
   ],
   "source": [
    "plot_decision_boundaries(lr)"
   ]
  },
  {
   "cell_type": "code",
   "execution_count": null,
   "id": "c77ab30a",
   "metadata": {},
   "outputs": [],
   "source": []
  }
 ],
 "metadata": {
  "kernelspec": {
   "display_name": "Python 3 (ipykernel)",
   "language": "python",
   "name": "python3"
  },
  "language_info": {
   "codemirror_mode": {
    "name": "ipython",
    "version": 3
   },
   "file_extension": ".py",
   "mimetype": "text/x-python",
   "name": "python",
   "nbconvert_exporter": "python",
   "pygments_lexer": "ipython3",
   "version": "3.9.7"
  }
 },
 "nbformat": 4,
 "nbformat_minor": 5
}
