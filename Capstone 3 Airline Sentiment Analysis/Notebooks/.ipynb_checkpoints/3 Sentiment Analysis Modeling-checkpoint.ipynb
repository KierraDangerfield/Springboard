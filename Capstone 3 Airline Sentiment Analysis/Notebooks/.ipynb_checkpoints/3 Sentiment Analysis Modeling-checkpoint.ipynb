{
 "cells": [
  {
   "cell_type": "markdown",
   "id": "f16b3d4e",
   "metadata": {},
   "source": [
    "# Airline Sentiment Analysis\n",
    "\n",
    "Detecting negative sentiments"
   ]
  },
  {
   "cell_type": "markdown",
   "id": "b5d4ae07",
   "metadata": {},
   "source": [
    "## Table of Contents:\n",
    "* [Data Collection](#DataCollection)\n",
    "* [Data Organization](#DataOrganization)\n",
    "* [Data Definition](#DataDefinition)\n",
    "* [Data Cleaning](#DataCleaning)\n",
    "    * [Vectorization](#Vectorization)\n",
    "* [Model](#Model)\n",
    "    * [Naive Bayes](#nb)\n",
    "    * [Random Forest Classifier](#rf)\n",
    "    * [Logistic Regression](#lr)\n",
    "    * [N-grams](#ng)\n",
    "    * [ROC-AUC Comparisons](#roc)\n",
    "    * [Precision Recall](#pr)\n",
    "    * [Thresholding](#thresholding)\n",
    "        * [Classification Report](#cr)\n",
    "        * [Confusion Matrix](#cm)\n",
    "* [Summary](#summary) "
   ]
  },
  {
   "cell_type": "code",
   "execution_count": 1,
   "id": "3de85920",
   "metadata": {},
   "outputs": [],
   "source": [
    "#imports\n",
    "import pandas as pd\n",
    "import numpy as np\n",
    "#this will deal with punctuation\n",
    "import string\n",
    "import re\n",
    "#from string import digits\n",
    "import nltk #using the Natural Language Toolkit\n",
    "from nltk.corpus import stopwords\n",
    "#Lemmatization\n",
    "from nltk.stem import WordNetLemmatizer\n",
    "import emoji\n",
    "from nltk.tokenize import word_tokenize\n",
    "import seaborn as sns\n",
    "from sklearn import metrics\n",
    "import matplotlib.pyplot as plt\n",
    "from sklearn.metrics import roc_auc_score\n",
    "import math\n",
    "from sklearn.metrics import roc_curve, auc, classification_report\n",
    "from sklearn.metrics import balanced_accuracy_score\n",
    "from sklearn.metrics import confusion_matrix, fbeta_score, recall_score, accuracy_score, f1_score, precision_score"
   ]
  },
  {
   "cell_type": "markdown",
   "id": "94a9759f",
   "metadata": {},
   "source": [
    "# 1. Data Collection <a class=\"anchor\" id=\"DataCollection\"></a>"
   ]
  },
  {
   "cell_type": "code",
   "execution_count": 2,
   "id": "0af8dd02",
   "metadata": {},
   "outputs": [],
   "source": [
    "#get data\n",
    "tweets = pd.read_csv(\"../Data/Tweets.csv\")"
   ]
  },
  {
   "cell_type": "markdown",
   "id": "c034e195",
   "metadata": {},
   "source": [
    "# 2. Data Organization <a class=\"anchor\" id=\"DataOrganization\"></a>"
   ]
  },
  {
   "cell_type": "code",
   "execution_count": 3,
   "id": "093c1148",
   "metadata": {},
   "outputs": [
    {
     "data": {
      "text/html": [
       "<div>\n",
       "<style scoped>\n",
       "    .dataframe tbody tr th:only-of-type {\n",
       "        vertical-align: middle;\n",
       "    }\n",
       "\n",
       "    .dataframe tbody tr th {\n",
       "        vertical-align: top;\n",
       "    }\n",
       "\n",
       "    .dataframe thead th {\n",
       "        text-align: right;\n",
       "    }\n",
       "</style>\n",
       "<table border=\"1\" class=\"dataframe\">\n",
       "  <thead>\n",
       "    <tr style=\"text-align: right;\">\n",
       "      <th></th>\n",
       "      <th>tweet_id</th>\n",
       "      <th>airline_sentiment</th>\n",
       "      <th>airline_sentiment_confidence</th>\n",
       "      <th>negativereason</th>\n",
       "      <th>negativereason_confidence</th>\n",
       "      <th>airline</th>\n",
       "      <th>airline_sentiment_gold</th>\n",
       "      <th>name</th>\n",
       "      <th>negativereason_gold</th>\n",
       "      <th>retweet_count</th>\n",
       "      <th>text</th>\n",
       "      <th>tweet_coord</th>\n",
       "      <th>tweet_created</th>\n",
       "      <th>tweet_location</th>\n",
       "      <th>user_timezone</th>\n",
       "    </tr>\n",
       "  </thead>\n",
       "  <tbody>\n",
       "    <tr>\n",
       "      <th>0</th>\n",
       "      <td>570306133677760513</td>\n",
       "      <td>neutral</td>\n",
       "      <td>1.0000</td>\n",
       "      <td>NaN</td>\n",
       "      <td>NaN</td>\n",
       "      <td>Virgin America</td>\n",
       "      <td>NaN</td>\n",
       "      <td>cairdin</td>\n",
       "      <td>NaN</td>\n",
       "      <td>0</td>\n",
       "      <td>@VirginAmerica What @dhepburn said.</td>\n",
       "      <td>NaN</td>\n",
       "      <td>2015-02-24 11:35:52 -0800</td>\n",
       "      <td>NaN</td>\n",
       "      <td>Eastern Time (US &amp; Canada)</td>\n",
       "    </tr>\n",
       "    <tr>\n",
       "      <th>1</th>\n",
       "      <td>570301130888122368</td>\n",
       "      <td>positive</td>\n",
       "      <td>0.3486</td>\n",
       "      <td>NaN</td>\n",
       "      <td>0.0</td>\n",
       "      <td>Virgin America</td>\n",
       "      <td>NaN</td>\n",
       "      <td>jnardino</td>\n",
       "      <td>NaN</td>\n",
       "      <td>0</td>\n",
       "      <td>@VirginAmerica plus you've added commercials t...</td>\n",
       "      <td>NaN</td>\n",
       "      <td>2015-02-24 11:15:59 -0800</td>\n",
       "      <td>NaN</td>\n",
       "      <td>Pacific Time (US &amp; Canada)</td>\n",
       "    </tr>\n",
       "    <tr>\n",
       "      <th>2</th>\n",
       "      <td>570301083672813571</td>\n",
       "      <td>neutral</td>\n",
       "      <td>0.6837</td>\n",
       "      <td>NaN</td>\n",
       "      <td>NaN</td>\n",
       "      <td>Virgin America</td>\n",
       "      <td>NaN</td>\n",
       "      <td>yvonnalynn</td>\n",
       "      <td>NaN</td>\n",
       "      <td>0</td>\n",
       "      <td>@VirginAmerica I didn't today... Must mean I n...</td>\n",
       "      <td>NaN</td>\n",
       "      <td>2015-02-24 11:15:48 -0800</td>\n",
       "      <td>Lets Play</td>\n",
       "      <td>Central Time (US &amp; Canada)</td>\n",
       "    </tr>\n",
       "  </tbody>\n",
       "</table>\n",
       "</div>"
      ],
      "text/plain": [
       "             tweet_id airline_sentiment  airline_sentiment_confidence  \\\n",
       "0  570306133677760513           neutral                        1.0000   \n",
       "1  570301130888122368          positive                        0.3486   \n",
       "2  570301083672813571           neutral                        0.6837   \n",
       "\n",
       "  negativereason  negativereason_confidence         airline  \\\n",
       "0            NaN                        NaN  Virgin America   \n",
       "1            NaN                        0.0  Virgin America   \n",
       "2            NaN                        NaN  Virgin America   \n",
       "\n",
       "  airline_sentiment_gold        name negativereason_gold  retweet_count  \\\n",
       "0                    NaN     cairdin                 NaN              0   \n",
       "1                    NaN    jnardino                 NaN              0   \n",
       "2                    NaN  yvonnalynn                 NaN              0   \n",
       "\n",
       "                                                text tweet_coord  \\\n",
       "0                @VirginAmerica What @dhepburn said.         NaN   \n",
       "1  @VirginAmerica plus you've added commercials t...         NaN   \n",
       "2  @VirginAmerica I didn't today... Must mean I n...         NaN   \n",
       "\n",
       "               tweet_created tweet_location               user_timezone  \n",
       "0  2015-02-24 11:35:52 -0800            NaN  Eastern Time (US & Canada)  \n",
       "1  2015-02-24 11:15:59 -0800            NaN  Pacific Time (US & Canada)  \n",
       "2  2015-02-24 11:15:48 -0800      Lets Play  Central Time (US & Canada)  "
      ]
     },
     "execution_count": 3,
     "metadata": {},
     "output_type": "execute_result"
    }
   ],
   "source": [
    "#view the heading of data\n",
    "tweets.head(3)"
   ]
  },
  {
   "cell_type": "code",
   "execution_count": 4,
   "id": "4e9520db",
   "metadata": {},
   "outputs": [
    {
     "name": "stdout",
     "output_type": "stream",
     "text": [
      "(14640, 15)\n",
      "<class 'pandas.core.frame.DataFrame'>\n",
      "RangeIndex: 14640 entries, 0 to 14639\n",
      "Data columns (total 15 columns):\n",
      " #   Column                        Non-Null Count  Dtype  \n",
      "---  ------                        --------------  -----  \n",
      " 0   tweet_id                      14640 non-null  int64  \n",
      " 1   airline_sentiment             14640 non-null  object \n",
      " 2   airline_sentiment_confidence  14640 non-null  float64\n",
      " 3   negativereason                9178 non-null   object \n",
      " 4   negativereason_confidence     10522 non-null  float64\n",
      " 5   airline                       14640 non-null  object \n",
      " 6   airline_sentiment_gold        40 non-null     object \n",
      " 7   name                          14640 non-null  object \n",
      " 8   negativereason_gold           32 non-null     object \n",
      " 9   retweet_count                 14640 non-null  int64  \n",
      " 10  text                          14640 non-null  object \n",
      " 11  tweet_coord                   1019 non-null   object \n",
      " 12  tweet_created                 14640 non-null  object \n",
      " 13  tweet_location                9907 non-null   object \n",
      " 14  user_timezone                 9820 non-null   object \n",
      "dtypes: float64(2), int64(2), object(11)\n",
      "memory usage: 1.7+ MB\n",
      "None\n"
     ]
    }
   ],
   "source": [
    "#check shape\n",
    "print(tweets.shape)\n",
    "print(tweets.info())"
   ]
  },
  {
   "cell_type": "code",
   "execution_count": 5,
   "id": "30e2c5db",
   "metadata": {},
   "outputs": [
    {
     "name": "stdout",
     "output_type": "stream",
     "text": [
      "tweet_id                            0\n",
      "airline_sentiment                   0\n",
      "airline_sentiment_confidence        0\n",
      "negativereason                   5462\n",
      "negativereason_confidence        4118\n",
      "airline                             0\n",
      "airline_sentiment_gold          14600\n",
      "name                                0\n",
      "negativereason_gold             14608\n",
      "retweet_count                       0\n",
      "text                                0\n",
      "tweet_coord                     13621\n",
      "tweet_created                       0\n",
      "tweet_location                   4733\n",
      "user_timezone                    4820\n",
      "dtype: int64\n",
      "tweet_id                         0.000000\n",
      "airline_sentiment                0.000000\n",
      "airline_sentiment_confidence     0.000000\n",
      "negativereason                  37.308743\n",
      "negativereason_confidence       28.128415\n",
      "airline                          0.000000\n",
      "airline_sentiment_gold          99.726776\n",
      "name                             0.000000\n",
      "negativereason_gold             99.781421\n",
      "retweet_count                    0.000000\n",
      "text                             0.000000\n",
      "tweet_coord                     93.039617\n",
      "tweet_created                    0.000000\n",
      "tweet_location                  32.329235\n",
      "user_timezone                   32.923497\n",
      "dtype: float64\n"
     ]
    }
   ],
   "source": [
    "#check for null values\n",
    "print(tweets.isnull().sum())\n",
    "\n",
    "#percentage of null values\n",
    "print(((tweets.isnull().sum() * 100)/ len(tweets.index)))"
   ]
  },
  {
   "cell_type": "markdown",
   "id": "31c45b9d",
   "metadata": {},
   "source": [
    "\"airline_sentiment_gold\" , \"negativereason_gold\", and \"tweet_coord\" columns are missing over 90% of their input. I will drop them"
   ]
  },
  {
   "cell_type": "code",
   "execution_count": 6,
   "id": "e6b319e8",
   "metadata": {},
   "outputs": [
    {
     "name": "stdout",
     "output_type": "stream",
     "text": [
      "tweet_id                           0\n",
      "airline_sentiment                  0\n",
      "airline_sentiment_confidence       0\n",
      "negativereason                  5462\n",
      "negativereason_confidence       4118\n",
      "airline                            0\n",
      "name                               0\n",
      "retweet_count                      0\n",
      "text                               0\n",
      "tweet_created                      0\n",
      "tweet_location                  4733\n",
      "user_timezone                   4820\n",
      "dtype: int64\n",
      "tweet_id                         0.000000\n",
      "airline_sentiment                0.000000\n",
      "airline_sentiment_confidence     0.000000\n",
      "negativereason                  37.308743\n",
      "negativereason_confidence       28.128415\n",
      "airline                          0.000000\n",
      "name                             0.000000\n",
      "retweet_count                    0.000000\n",
      "text                             0.000000\n",
      "tweet_created                    0.000000\n",
      "tweet_location                  32.329235\n",
      "user_timezone                   32.923497\n",
      "dtype: float64\n"
     ]
    }
   ],
   "source": [
    "tweets = tweets.drop(columns=[\"airline_sentiment_gold\" , \"negativereason_gold\", \"tweet_coord\"])\n",
    "\n",
    "#check for more null values\n",
    "print(tweets.isnull().sum())\n",
    "\n",
    "print(((tweets.isnull().sum() * 100)/ len(tweets.index)))"
   ]
  },
  {
   "cell_type": "markdown",
   "id": "c0776df0",
   "metadata": {},
   "source": [
    "# 3. Data Definition <a class=\"anchor\" id=\"DataDefinition\"></a>\n",
    "\n",
    "                    \n",
    " 1   airline_sentiment              \n",
    " 2   airline_sentiment_confidence  \n",
    " 3   negativereason                 \n",
    " 4   negativereason_confidence    \n",
    " 5   airline                        \n",
    " 6   airline_sentiment_gold         \n",
    " 7   name                          \n",
    " 8   negativereason_gold            \n",
    " 9   retweet_count                 \n",
    " 10  text                           \n",
    " 11  tweet_coord                  \n",
    " 12  tweet_created                 \n",
    " 13  tweet_location                \n",
    " 14  user_timezone   "
   ]
  },
  {
   "cell_type": "markdown",
   "id": "e02d78c2",
   "metadata": {},
   "source": [
    "# 4. Data Cleaning <a class=\"anchor\" id=\"DataCleaning\"></a>\n",
    "\n",
    "The following needs to be done to preprocess the data:\n",
    "\n",
    "1. Make text lowercase\n",
    "2. Removing punctuations, URLs, names\n",
    "3. Tokenization\n",
    "4. Removing stopwords (\"this\", \"is\", etc.)\n",
    "4. Lemmatizing"
   ]
  },
  {
   "cell_type": "code",
   "execution_count": 7,
   "id": "28ea5207",
   "metadata": {},
   "outputs": [],
   "source": [
    "#Lowercase\n",
    "tweets[\"text\"] = tweets[\"text\"].str.lower()\n",
    "\n",
    "#remove numbers\n",
    "tweets[\"text\"] = tweets[\"text\"].str.replace('\\d+', '', regex=True)\n",
    "\n",
    "##REMOVE PUNCTUATIONS\n",
    "def remove_punc(text):\n",
    "    words_wo_punct = re.sub(r\"[^A-Za-z0-9\\s]+\", \"\", text)\n",
    "    return words_wo_punct\n",
    "\n",
    "tweets[\"text\"] = tweets[\"text\"].apply(lambda x: remove_punc(x))"
   ]
  },
  {
   "cell_type": "code",
   "execution_count": 8,
   "id": "65b03e7f",
   "metadata": {},
   "outputs": [
    {
     "data": {
      "text/plain": [
       "0                     virginamerica what dhepburn said\n",
       "1    virginamerica plus youve added commercials to ...\n",
       "2    virginamerica i didnt today must mean i need t...\n",
       "3    virginamerica its really aggressive to blast o...\n",
       "4    virginamerica and its a really big bad thing a...\n",
       "Name: text, dtype: object"
      ]
     },
     "execution_count": 8,
     "metadata": {},
     "output_type": "execute_result"
    }
   ],
   "source": [
    "#REMOVE WHITESPACE\n",
    "tweets[\"text\"] = tweets[\"text\"].str.strip()\n",
    "\n",
    "#remove emoji\n",
    "tweets[\"text\"] = tweets[\"text\"].apply(lambda x: emoji.demojize(x))\n",
    "tweets[\"text\"].head()"
   ]
  },
  {
   "cell_type": "code",
   "execution_count": 9,
   "id": "c3391dba",
   "metadata": {},
   "outputs": [
    {
     "data": {
      "text/plain": [
       "0                     virginamerica what dhepburn said\n",
       "1    virginamerica plus youve added commercial to t...\n",
       "2    virginamerica i didnt today must mean i need t...\n",
       "3    virginamerica it really aggressive to blast ob...\n",
       "4    virginamerica and it a really big bad thing ab...\n",
       "Name: text, dtype: object"
      ]
     },
     "execution_count": 9,
     "metadata": {},
     "output_type": "execute_result"
    }
   ],
   "source": [
    "#LEMMATIZING\n",
    "lemmatizer = WordNetLemmatizer()\n",
    "\n",
    "def word_lemmatizer(text):\n",
    "    word_list = nltk.word_tokenize(text)\n",
    "    lem_text = ' '.join([lemmatizer.lemmatize(w) for w in word_list])\n",
    "    return lem_text\n",
    "\n",
    "tweets[\"text\"] = tweets[\"text\"].apply(lambda x: word_lemmatizer(x))\n",
    "tweets.text.head()"
   ]
  },
  {
   "cell_type": "code",
   "execution_count": 10,
   "id": "32b92c5b",
   "metadata": {},
   "outputs": [
    {
     "data": {
      "text/plain": [
       "0                      [virginamerica, dhepburn, said]\n",
       "1    [virginamerica, plus, youve, added, commercial...\n",
       "2    [virginamerica, didnt, today, must, mean, need...\n",
       "3    [virginamerica, really, aggressive, blast, obn...\n",
       "4             [virginamerica, really, big, bad, thing]\n",
       "Name: text, dtype: object"
      ]
     },
     "execution_count": 10,
     "metadata": {},
     "output_type": "execute_result"
    }
   ],
   "source": [
    "#REMOVE STOPWORDS and tokenize\n",
    "def remove_stopwords(text):\n",
    "    tokens = word_tokenize(text)\n",
    "    english_stopwords = stopwords.words('english')\n",
    "    tokens_wo_stopwords = [t for t in tokens if t not in english_stopwords]\n",
    "    \n",
    "    return tokens_wo_stopwords\n",
    "\n",
    "tweets[\"text\"] = tweets[\"text\"].apply(lambda x: remove_stopwords(str(x)))\n",
    "tweets[\"text\"].head()"
   ]
  },
  {
   "cell_type": "markdown",
   "id": "02bb1a29",
   "metadata": {},
   "source": [
    "## Polarity"
   ]
  },
  {
   "cell_type": "code",
   "execution_count": 11,
   "id": "3c22d054",
   "metadata": {},
   "outputs": [
    {
     "data": {
      "text/html": [
       "<div>\n",
       "<style scoped>\n",
       "    .dataframe tbody tr th:only-of-type {\n",
       "        vertical-align: middle;\n",
       "    }\n",
       "\n",
       "    .dataframe tbody tr th {\n",
       "        vertical-align: top;\n",
       "    }\n",
       "\n",
       "    .dataframe thead th {\n",
       "        text-align: right;\n",
       "    }\n",
       "</style>\n",
       "<table border=\"1\" class=\"dataframe\">\n",
       "  <thead>\n",
       "    <tr style=\"text-align: right;\">\n",
       "      <th></th>\n",
       "      <th>tweet_id</th>\n",
       "      <th>airline_sentiment</th>\n",
       "      <th>airline_sentiment_confidence</th>\n",
       "      <th>negativereason</th>\n",
       "      <th>negativereason_confidence</th>\n",
       "      <th>airline</th>\n",
       "      <th>name</th>\n",
       "      <th>retweet_count</th>\n",
       "      <th>text</th>\n",
       "      <th>tweet_created</th>\n",
       "      <th>tweet_location</th>\n",
       "      <th>user_timezone</th>\n",
       "      <th>polarity</th>\n",
       "    </tr>\n",
       "  </thead>\n",
       "  <tbody>\n",
       "    <tr>\n",
       "      <th>0</th>\n",
       "      <td>570306133677760513</td>\n",
       "      <td>neutral</td>\n",
       "      <td>1.0000</td>\n",
       "      <td>NaN</td>\n",
       "      <td>NaN</td>\n",
       "      <td>Virgin America</td>\n",
       "      <td>cairdin</td>\n",
       "      <td>0</td>\n",
       "      <td>[virginamerica, dhepburn, said]</td>\n",
       "      <td>2015-02-24 11:35:52 -0800</td>\n",
       "      <td>NaN</td>\n",
       "      <td>Eastern Time (US &amp; Canada)</td>\n",
       "      <td>0.0000</td>\n",
       "    </tr>\n",
       "    <tr>\n",
       "      <th>1</th>\n",
       "      <td>570301130888122368</td>\n",
       "      <td>positive</td>\n",
       "      <td>0.3486</td>\n",
       "      <td>NaN</td>\n",
       "      <td>0.0</td>\n",
       "      <td>Virgin America</td>\n",
       "      <td>jnardino</td>\n",
       "      <td>0</td>\n",
       "      <td>[virginamerica, plus, youve, added, commercial...</td>\n",
       "      <td>2015-02-24 11:15:59 -0800</td>\n",
       "      <td>NaN</td>\n",
       "      <td>Pacific Time (US &amp; Canada)</td>\n",
       "      <td>0.0000</td>\n",
       "    </tr>\n",
       "    <tr>\n",
       "      <th>2</th>\n",
       "      <td>570301083672813571</td>\n",
       "      <td>neutral</td>\n",
       "      <td>0.6837</td>\n",
       "      <td>NaN</td>\n",
       "      <td>NaN</td>\n",
       "      <td>Virgin America</td>\n",
       "      <td>yvonnalynn</td>\n",
       "      <td>0</td>\n",
       "      <td>[virginamerica, didnt, today, must, mean, need...</td>\n",
       "      <td>2015-02-24 11:15:48 -0800</td>\n",
       "      <td>Lets Play</td>\n",
       "      <td>Central Time (US &amp; Canada)</td>\n",
       "      <td>-0.3125</td>\n",
       "    </tr>\n",
       "  </tbody>\n",
       "</table>\n",
       "</div>"
      ],
      "text/plain": [
       "             tweet_id airline_sentiment  airline_sentiment_confidence  \\\n",
       "0  570306133677760513           neutral                        1.0000   \n",
       "1  570301130888122368          positive                        0.3486   \n",
       "2  570301083672813571           neutral                        0.6837   \n",
       "\n",
       "  negativereason  negativereason_confidence         airline        name  \\\n",
       "0            NaN                        NaN  Virgin America     cairdin   \n",
       "1            NaN                        0.0  Virgin America    jnardino   \n",
       "2            NaN                        NaN  Virgin America  yvonnalynn   \n",
       "\n",
       "   retweet_count                                               text  \\\n",
       "0              0                    [virginamerica, dhepburn, said]   \n",
       "1              0  [virginamerica, plus, youve, added, commercial...   \n",
       "2              0  [virginamerica, didnt, today, must, mean, need...   \n",
       "\n",
       "               tweet_created tweet_location               user_timezone  \\\n",
       "0  2015-02-24 11:35:52 -0800            NaN  Eastern Time (US & Canada)   \n",
       "1  2015-02-24 11:15:59 -0800            NaN  Pacific Time (US & Canada)   \n",
       "2  2015-02-24 11:15:48 -0800      Lets Play  Central Time (US & Canada)   \n",
       "\n",
       "   polarity  \n",
       "0    0.0000  \n",
       "1    0.0000  \n",
       "2   -0.3125  "
      ]
     },
     "execution_count": 11,
     "metadata": {},
     "output_type": "execute_result"
    }
   ],
   "source": [
    "from textblob import TextBlob, Word, Blobber\n",
    "tweets['polarity']=tweets['text'].map(lambda text: TextBlob(str(text)).sentiment.polarity)\n",
    "tweets.head(3)"
   ]
  },
  {
   "cell_type": "markdown",
   "id": "30186610",
   "metadata": {},
   "source": [
    "### Vectorization <a class=\"anchor\" id=\"Vectorization\"></a>\n",
    "\n",
    "Base model"
   ]
  },
  {
   "cell_type": "code",
   "execution_count": 12,
   "id": "eb9d6cad",
   "metadata": {},
   "outputs": [],
   "source": [
    "from sklearn.feature_extraction.text import CountVectorizer, TfidfVectorizer, TfidfTransformer\n",
    "from sklearn.model_selection import train_test_split"
   ]
  },
  {
   "cell_type": "code",
   "execution_count": 13,
   "id": "3bc1db9e",
   "metadata": {},
   "outputs": [
    {
     "data": {
      "text/plain": [
       "(14640, 13)"
      ]
     },
     "execution_count": 13,
     "metadata": {},
     "output_type": "execute_result"
    }
   ],
   "source": [
    "tweets.shape"
   ]
  },
  {
   "cell_type": "code",
   "execution_count": 14,
   "id": "89983bfc",
   "metadata": {},
   "outputs": [],
   "source": [
    "### Change Text to String ###\n",
    "tweets[\"text\"] = tweets[\"text\"].astype(str)\n",
    "\n",
    "### Remove neutral sentiment to focus on just the positive and negative sentiment ###\n",
    "tweets = tweets[tweets[\"airline_sentiment\"] != \"neutral\"]\n",
    "\n",
    "### Change sentiment to int ###\n",
    "def changeSentiment(sentiment):\n",
    "    if  sentiment == \"positive\":\n",
    "        return 0\n",
    "    elif sentiment == \"negative\":\n",
    "        return 1\n",
    "    \n",
    "tweets['airline_sentiment'] = tweets['airline_sentiment'].apply(lambda x : changeSentiment(x))"
   ]
  },
  {
   "cell_type": "code",
   "execution_count": 15,
   "id": "edb373a5",
   "metadata": {},
   "outputs": [
    {
     "data": {
      "text/plain": [
       "(11541, 13)"
      ]
     },
     "execution_count": 15,
     "metadata": {},
     "output_type": "execute_result"
    }
   ],
   "source": [
    "tweets.shape"
   ]
  },
  {
   "cell_type": "markdown",
   "id": "08ebcf8b",
   "metadata": {},
   "source": [
    "### CountVec"
   ]
  },
  {
   "cell_type": "code",
   "execution_count": 16,
   "id": "01192ef9",
   "metadata": {},
   "outputs": [],
   "source": [
    "### Train Test Split ###\n",
    "cv = CountVectorizer(min_df=5, max_df=0.70)\n",
    "X = cv.fit_transform(tweets.text)\n",
    "y = tweets['airline_sentiment']\n",
    "\n",
    "X_train, X_test, y_train, y_test = train_test_split(X, y, test_size=.30, random_state=0)"
   ]
  },
  {
   "cell_type": "markdown",
   "id": "5611ae14",
   "metadata": {},
   "source": [
    "#### get base model with Logistic Regression"
   ]
  },
  {
   "cell_type": "code",
   "execution_count": 17,
   "id": "f2a1e1db",
   "metadata": {},
   "outputs": [
    {
     "name": "stdout",
     "output_type": "stream",
     "text": [
      "Logistic Regression Accuracy: 91.48%\n",
      "Accuracy on training data: 0.96\n",
      "Accuracy on test data:     0.91\n",
      "0.9538631890992197\n"
     ]
    }
   ],
   "source": [
    "from sklearn.linear_model import LogisticRegression\n",
    "logReg = LogisticRegression(max_iter=1000).fit(X_train, y_train)\n",
    "\n",
    "### Print accuracy ###\n",
    "print(\"Logistic Regression Accuracy: %0.2f%%\" % (100 * logReg.score(X_test, y_test)))\n",
    "\n",
    "training_accuracy = logReg.score(X_train, y_train)\n",
    "test_accuracy = logReg.score(X_test, y_test)\n",
    "\n",
    "print(\"Accuracy on training data: %0.2f\" % (training_accuracy))\n",
    "print(\"Accuracy on test data:     %0.2f\" % (test_accuracy))\n",
    "print(roc_auc_score( y_test, logReg.predict_proba(X_test)[:,1]))"
   ]
  },
  {
   "cell_type": "markdown",
   "id": "fe7e7177",
   "metadata": {},
   "source": [
    "### Tf-idf "
   ]
  },
  {
   "cell_type": "code",
   "execution_count": 18,
   "id": "a4d8905b",
   "metadata": {},
   "outputs": [],
   "source": [
    "td = TfidfVectorizer(min_df=5, max_df=0.70)\n",
    "X = td.fit_transform(tweets['text'])\n",
    "y = tweets['airline_sentiment']\n",
    "\n",
    "X_train, X_test, y_train, y_test = train_test_split(X, y, test_size=.30, random_state=0)"
   ]
  },
  {
   "cell_type": "code",
   "execution_count": 19,
   "id": "7bfb15e2",
   "metadata": {},
   "outputs": [
    {
     "name": "stdout",
     "output_type": "stream",
     "text": [
      "Logistic Regression Accuracy: 90.47%\n",
      "Accuracy on training data: 0.92\n",
      "Accuracy on test data:     0.90\n",
      "0.9536694879800467\n"
     ]
    }
   ],
   "source": [
    "logReg2 = LogisticRegression(max_iter=1000).fit(X_train, y_train)\n",
    "\n",
    "### Print accuracy ###\n",
    "print(\"Logistic Regression Accuracy: %0.2f%%\" % (100 * logReg2.score(X_test, y_test)))\n",
    "\n",
    "training_accuracy = logReg2.score(X_train, y_train)\n",
    "test_accuracy = logReg2.score(X_test, y_test)\n",
    "\n",
    "print(\"Accuracy on training data: %0.2f\" % (training_accuracy))\n",
    "print(\"Accuracy on test data:     %0.2f\" % (test_accuracy))\n",
    "print(roc_auc_score( y_test, logReg2.predict_proba(X_test)[:,1]))"
   ]
  },
  {
   "cell_type": "markdown",
   "id": "aa56a743",
   "metadata": {},
   "source": [
    "Vectorizing with CountVec performed the best."
   ]
  },
  {
   "cell_type": "markdown",
   "id": "b82ce620",
   "metadata": {},
   "source": [
    "# Model Selection <a class=\"anchor\" id=\"Model\"></a>"
   ]
  },
  {
   "cell_type": "code",
   "execution_count": 20,
   "id": "04749e28",
   "metadata": {},
   "outputs": [],
   "source": [
    "cv = CountVectorizer(min_df=5, max_df=0.70)\n",
    "X = cv.fit_transform(tweets['text'])\n",
    "y = tweets['airline_sentiment']\n",
    "\n",
    "X_train, X_test, y_train, y_test = train_test_split(X, y, test_size=.30, random_state=0)"
   ]
  },
  {
   "cell_type": "markdown",
   "id": "289c3acc",
   "metadata": {},
   "source": [
    "## Naive Bayes <a class=\"anchor\" id=\"nb\"></a>"
   ]
  },
  {
   "cell_type": "code",
   "execution_count": 21,
   "id": "a22f7d30",
   "metadata": {},
   "outputs": [
    {
     "name": "stdout",
     "output_type": "stream",
     "text": [
      "Naive Bayes Accuracy: 90.30%\n",
      "Accuracy on training data: 0.93\n",
      "Accuracy on test data:     0.90\n",
      "0.9486707011081901\n"
     ]
    }
   ],
   "source": [
    "from sklearn.naive_bayes import MultinomialNB\n",
    "\n",
    "mnb = MultinomialNB().fit(X_train, y_train)\n",
    "\n",
    "### Print accuracy ###\n",
    "print(\"Naive Bayes Accuracy: %0.2f%%\" % (100 * mnb.score(X_test, y_test)))\n",
    "\n",
    "training_accuracy = mnb.score(X_train, y_train)\n",
    "test_accuracy = mnb.score(X_test, y_test)\n",
    "\n",
    "print(\"Accuracy on training data: %0.2f\" % (training_accuracy))\n",
    "print(\"Accuracy on test data:     %0.2f\" % (test_accuracy))\n",
    "print(roc_auc_score( y_test, mnb.predict_proba(X_test)[:,1]))"
   ]
  },
  {
   "cell_type": "code",
   "execution_count": 22,
   "id": "3c369417",
   "metadata": {},
   "outputs": [],
   "source": [
    "### Get false positive rate and the true positive rate ###\n",
    "mnb_probs = mnb.predict_proba(X_test)[:,1]\n",
    "mnb_fpr, mnb_tpr, mnb_thresholds = roc_curve(y_test, mnb_probs)"
   ]
  },
  {
   "cell_type": "markdown",
   "id": "a60e5dcb",
   "metadata": {},
   "source": [
    "## Random Forest Classifier <a class=\"anchor\" id=\"rf\"></a>"
   ]
  },
  {
   "cell_type": "code",
   "execution_count": 23,
   "id": "b4c18878",
   "metadata": {},
   "outputs": [
    {
     "name": "stdout",
     "output_type": "stream",
     "text": [
      "Random Forest Accuracy: 89.46%\n",
      "Accuracy on training data: 1.00\n",
      "Accuracy on test data:     0.89\n",
      "0.9538631890992197\n"
     ]
    }
   ],
   "source": [
    "from sklearn.ensemble import RandomForestClassifier\n",
    "\n",
    "rf = RandomForestClassifier().fit(X_train, y_train)\n",
    "\n",
    "### Print accuracy ###\n",
    "print(\"Random Forest Accuracy: %0.2f%%\" % (100 * rf.score(X_test, y_test)))\n",
    "\n",
    "training_accuracy = rf.score(X_train, y_train)\n",
    "test_accuracy = rf.score(X_test, y_test)\n",
    "\n",
    "print(\"Accuracy on training data: %0.2f\" % (training_accuracy))\n",
    "print(\"Accuracy on test data:     %0.2f\" % (test_accuracy))\n",
    "print(roc_auc_score( y_test, logReg.predict_proba(X_test)[:,1]))"
   ]
  },
  {
   "cell_type": "markdown",
   "id": "eb4c9ba8",
   "metadata": {},
   "source": [
    "## Lets Improve the Model"
   ]
  },
  {
   "cell_type": "code",
   "execution_count": 24,
   "id": "76454b14",
   "metadata": {},
   "outputs": [
    {
     "name": "stdout",
     "output_type": "stream",
     "text": [
      "{'max_depth': 50, 'max_features': 'auto', 'n_estimators': 300}\n",
      "0.9295337034119701\n"
     ]
    }
   ],
   "source": [
    "from sklearn.model_selection import GridSearchCV\n",
    "\n",
    "parameters = {\n",
    "    'max_depth': [None, 25, 50], \n",
    "    'max_features': ['auto'], \n",
    "    'n_estimators': [100, 300, 400]\n",
    "}\n",
    "\n",
    "rf_gs = GridSearchCV(rf, parameters, cv=5, scoring = \"roc_auc\") \n",
    "rf_gs.fit(X_train, y_train)\n",
    "\n",
    "print(rf_gs.best_params_)\n",
    "print(rf_gs.best_score_)"
   ]
  },
  {
   "cell_type": "code",
   "execution_count": 25,
   "id": "8de80778",
   "metadata": {},
   "outputs": [
    {
     "name": "stdout",
     "output_type": "stream",
     "text": [
      "Random Forest Accuracy: 89.32%\n",
      "Accuracy on training data: 0.95\n",
      "Accuracy on test data:     0.89\n",
      "0.9311444940456874\n"
     ]
    }
   ],
   "source": [
    "rf = RandomForestClassifier(max_depth= 50, max_features= 'auto', n_estimators = 400).fit(X_train, y_train)\n",
    "\n",
    "### Print accuracy ###\n",
    "print(\"Random Forest Accuracy: %0.2f%%\" % (100 * rf.score(X_test, y_test)))\n",
    "\n",
    "training_accuracy = rf.score(X_train, y_train)\n",
    "test_accuracy = rf.score(X_test, y_test)\n",
    "\n",
    "print(\"Accuracy on training data: %0.2f\" % (training_accuracy))\n",
    "print(\"Accuracy on test data:     %0.2f\" % (test_accuracy))\n",
    "print(roc_auc_score( y_test, rf.predict_proba(X_test)[:,1]))"
   ]
  },
  {
   "cell_type": "code",
   "execution_count": 26,
   "id": "91252c87",
   "metadata": {},
   "outputs": [],
   "source": [
    "### Get false positive rate and the true positive rate ###\n",
    "rf_probs = rf.predict_proba(X_test)[:,1]\n",
    "rf_fpr, rf_tpr, rf_thresholds = roc_curve(y_test, rf_probs)"
   ]
  },
  {
   "cell_type": "markdown",
   "id": "e7d39d47",
   "metadata": {},
   "source": [
    "## Logistic Regression <a class=\"anchor\" id=\"lr\"></a>\n",
    "\n",
    "The Logistic Regression model performed the best. "
   ]
  },
  {
   "cell_type": "code",
   "execution_count": 27,
   "id": "9b31452d",
   "metadata": {},
   "outputs": [
    {
     "name": "stdout",
     "output_type": "stream",
     "text": [
      "Logistic Regression Accuracy: 91.48%\n",
      "Accuracy on training data: 0.96\n",
      "Accuracy on test data:     0.91\n",
      "0.9538631890992197\n"
     ]
    }
   ],
   "source": [
    "lr = LogisticRegression(max_iter=1000).fit(X_train, y_train)\n",
    "\n",
    "### Print accuracy ###\n",
    "print(\"Logistic Regression Accuracy: %0.2f%%\" % (100 * lr.score(X_test, y_test)))\n",
    "\n",
    "training_accuracy = lr.score(X_train, y_train)\n",
    "test_accuracy = lr.score(X_test, y_test)\n",
    "\n",
    "print(\"Accuracy on training data: %0.2f\" % (training_accuracy))\n",
    "print(\"Accuracy on test data:     %0.2f\" % (test_accuracy))\n",
    "print(roc_auc_score( y_test, lr.predict_proba(X_test)[:,1]))"
   ]
  },
  {
   "cell_type": "markdown",
   "id": "db3ede89",
   "metadata": {},
   "source": [
    "## The base model performed the best. "
   ]
  },
  {
   "cell_type": "markdown",
   "id": "f6d0c823",
   "metadata": {},
   "source": [
    "## Let's improve the model"
   ]
  },
  {
   "cell_type": "code",
   "execution_count": 28,
   "id": "d8ad5d89",
   "metadata": {},
   "outputs": [
    {
     "name": "stdout",
     "output_type": "stream",
     "text": [
      "{'C': 1, 'max_iter': 1000}\n",
      "0.9494612677972789\n"
     ]
    }
   ],
   "source": [
    "### Logistic Regression GridSearchCV ###\n",
    "parameters = {\n",
    "    'C' : [.01, .001, 1, 10, 100],\n",
    "    'max_iter': [1000, 10000]\n",
    "}\n",
    "\n",
    "lr_gs = GridSearchCV(lr, parameters, cv=5, scoring = \"roc_auc\") \n",
    "lr_gs.fit(X_train, y_train)\n",
    "\n",
    "print(lr_gs.best_params_)\n",
    "print(lr_gs.best_score_)"
   ]
  },
  {
   "cell_type": "code",
   "execution_count": 29,
   "id": "3cb9668f",
   "metadata": {},
   "outputs": [
    {
     "name": "stdout",
     "output_type": "stream",
     "text": [
      "Logistic Regression Accuracy: 91.48%\n",
      "Accuracy on training data: 0.96\n",
      "Accuracy on test data:     0.91\n",
      "0.9538631890992197\n"
     ]
    }
   ],
   "source": [
    "lr = LogisticRegression(max_iter=1000, C=1).fit(X_train, y_train)\n",
    "\n",
    "### Print accuracy ###\n",
    "print(\"Logistic Regression Accuracy: %0.2f%%\" % (100 * lr.score(X_test, y_test)))\n",
    "\n",
    "training_accuracy = lr.score(X_train, y_train)\n",
    "test_accuracy = lr.score(X_test, y_test)\n",
    "\n",
    "print(\"Accuracy on training data: %0.2f\" % (training_accuracy))\n",
    "print(\"Accuracy on test data:     %0.2f\" % (test_accuracy))\n",
    "print(roc_auc_score( y_test, lr.predict_proba(X_test)[:,1]))"
   ]
  },
  {
   "cell_type": "markdown",
   "id": "d07cbfb7",
   "metadata": {},
   "source": [
    "# Let's try with N-grams <a class=\"anchor\" id=\"ng\"></a>"
   ]
  },
  {
   "cell_type": "markdown",
   "id": "ea534966",
   "metadata": {},
   "source": [
    "## CountVect"
   ]
  },
  {
   "cell_type": "code",
   "execution_count": 30,
   "id": "03a53792",
   "metadata": {},
   "outputs": [
    {
     "name": "stdout",
     "output_type": "stream",
     "text": [
      "Logistic Regression Accuracy: 91.60%\n",
      "Accuracy on training data: 1.00\n",
      "Accuracy on test data:     0.92\n",
      "0.952112390581333\n"
     ]
    }
   ],
   "source": [
    "ngram = (1,2)\n",
    "cv = CountVectorizer(ngram_range=ngram)\n",
    "X = cv.fit_transform(tweets['text'])\n",
    "y = tweets['airline_sentiment']\n",
    "X_train2, X_test2, y_train2, y_test2 = train_test_split(X, y, test_size=.30, random_state=0)\n",
    "\n",
    "lr2 = LogisticRegression(max_iter=1000, C=1).fit(X_train2, y_train2)\n",
    "\n",
    "### Print accuracy ###\n",
    "print(\"Logistic Regression Accuracy: %0.2f%%\" % (100 * lr2.score(X_test2, y_test2)))\n",
    "y_pred =lr2.predict(X_test2)\n",
    "training_accuracy = lr2.score(X_train2, y_train2)\n",
    "test_accuracy = lr2.score(X_test2, y_test2)\n",
    "\n",
    "print(\"Accuracy on training data: %0.2f\" % (training_accuracy))\n",
    "print(\"Accuracy on test data:     %0.2f\" % (test_accuracy))\n",
    "print(roc_auc_score( y_test2, lr2.predict_proba(X_test2)[:,1]))"
   ]
  },
  {
   "cell_type": "markdown",
   "id": "83c7bbe5",
   "metadata": {},
   "source": [
    "## TF-IDF"
   ]
  },
  {
   "cell_type": "code",
   "execution_count": 31,
   "id": "8a9b5d38",
   "metadata": {},
   "outputs": [
    {
     "name": "stdout",
     "output_type": "stream",
     "text": [
      "Logistic Regression Accuracy: 87.09%\n",
      "Accuracy on training data: 0.91\n",
      "Accuracy on test data:     0.87\n",
      "0.9454711380340135\n"
     ]
    }
   ],
   "source": [
    "ngram = (1,2)\n",
    "td = TfidfVectorizer(ngram_range=ngram)\n",
    "X = td.fit_transform(tweets['text'])\n",
    "y = tweets['airline_sentiment']\n",
    "X_train3, X_test3, y_train3, y_test3 = train_test_split(X, y, test_size=.30, random_state=0)\n",
    "\n",
    "lr3 = LogisticRegression(max_iter=1000, C=1).fit(X_train3, y_train3)\n",
    "\n",
    "### Print accuracy ###\n",
    "print(\"Logistic Regression Accuracy: %0.2f%%\" % (100 * lr3.score(X_test3, y_test3)))\n",
    "y_pred =lr3.predict(X_test3)\n",
    "training_accuracy = lr3.score(X_train3, y_train3)\n",
    "test_accuracy = lr3.score(X_test3, y_test3)\n",
    "\n",
    "print(\"Accuracy on training data: %0.2f\" % (training_accuracy))\n",
    "print(\"Accuracy on test data:     %0.2f\" % (test_accuracy))\n",
    "print(roc_auc_score(y_test3, lr3.predict_proba(X_test3)[:,1]))"
   ]
  },
  {
   "cell_type": "code",
   "execution_count": 32,
   "id": "6806a7b8",
   "metadata": {},
   "outputs": [],
   "source": [
    "### Get false positive rate and the true positive rate for lr ###\n",
    "lr_probs = lr.predict_proba(X_test)[:,1]\n",
    "lr_fpr, lr_tpr, lr_thresholds = roc_curve(y_test, lr_probs)"
   ]
  },
  {
   "cell_type": "markdown",
   "id": "3c78aa03",
   "metadata": {},
   "source": [
    "### The lr performed the best based on roc_auc score and accuracy.\n",
    "\n",
    "## ROC Curve Comparisons <a class=\"anchor\" id=\"roc\"></a>\n",
    "\n",
    "Below compares the three models based on the ROC-AUC (Receiver Operating Characteristic-Area Under the Curve) to visualize the tradeoff between the classifier’s sensitivity and specificity."
   ]
  },
  {
   "cell_type": "code",
   "execution_count": 33,
   "id": "34a70703",
   "metadata": {},
   "outputs": [
    {
     "data": {
      "image/png": "[encoded data removed]",
      "text/plain": [
       "<Figure size 864x576 with 1 Axes>"
      ]
     },
     "metadata": {
      "needs_background": "light"
     },
     "output_type": "display_data"
    }
   ],
   "source": [
    "plt.figure(figsize=(12,8))\n",
    "\n",
    "for fpr, tpr, model in [(mnb_fpr,mnb_tpr,'Naive Bayes'),(rf_fpr,rf_tpr,'Random Forrest'),(lr_fpr,lr_tpr,'Logistic Regression')]:\n",
    "    roc_auc = auc(fpr, tpr)\n",
    "    plt.plot(fpr, tpr,\n",
    "             lw=2, label='ROC '+ model + ' (area = %0.2f)' % roc_auc)\n",
    "\n",
    "plt.plot([0, 1], [0, 1], color='navy', lw=2, linestyle='--')\n",
    "plt.xlim([0.0, 1.0])\n",
    "plt.ylim([0.0, 1.05])\n",
    "plt.xlabel('False Positive Rate')\n",
    "plt.ylabel('True Positive Rate')\n",
    "plt.title('ROC-AUC comparison')\n",
    "plt.legend(loc=\"lower right\")\n",
    "plt.show()"
   ]
  },
  {
   "cell_type": "markdown",
   "id": "f05a8d87",
   "metadata": {},
   "source": [
    "# Precision Recall Curve <a class=\"anchor\" id=\"pr\"></a>\n",
    "\n",
    "The Precision Recall Curve shows the tradeoff between a classifier’s precision (a measure of result relevancy) and recall(a measure of completeness). For each class, precision is defined as the ratio of true positives to the sum of true and false positives, and recall is the ratio of true positives to the sum of true positives and false negatives. My model has an average precision of 0.99."
   ]
  },
  {
   "cell_type": "code",
   "execution_count": 34,
   "id": "15dacff6",
   "metadata": {},
   "outputs": [
    {
     "data": {
      "image/png": "[encoded data removed]",
      "text/plain": [
       "<Figure size 1080x360 with 1 Axes>"
      ]
     },
     "metadata": {},
     "output_type": "display_data"
    },
    {
     "data": {
      "text/plain": [
       "<AxesSubplot:title={'center':'Precision-Recall Curve for LogisticRegression'}, xlabel='Recall', ylabel='Precision'>"
      ]
     },
     "execution_count": 34,
     "metadata": {},
     "output_type": "execute_result"
    }
   ],
   "source": [
    "from yellowbrick.classifier import PrecisionRecallCurve, DiscriminationThreshold\n",
    "fig, ax = plt.subplots(figsize=(15,5))\n",
    "viz = PrecisionRecallCurve(lr)\n",
    "viz.fit(X_train, y_train)\n",
    "viz.score(X_test, y_test)\n",
    "viz.show()"
   ]
  },
  {
   "cell_type": "markdown",
   "id": "b4016ed4",
   "metadata": {},
   "source": [
    "# Thresholding <a class=\"anchor\" id=\"thresholding\"></a>\n",
    "\n",
    "Below is a visualization of precision, recall, f1 score, and queue rate with respect to the discrimination threshold. The discrimination threshold is the probability or score at which the positive class is chosen over the negative class. Generally, this is set to 50% but the threshold can be adjusted to increase or decrease the sensitivity to false positives or to other application factors. Based on the Discrimination Threshold below, the optimal threshold is 0.20 for positive sentiments."
   ]
  },
  {
   "cell_type": "markdown",
   "id": "48e3c12d",
   "metadata": {},
   "source": [
    "# Classification Report <a class=\"anchor\" id=\"cr\"></a>"
   ]
  },
  {
   "cell_type": "code",
   "execution_count": 35,
   "id": "0122eb0e",
   "metadata": {},
   "outputs": [
    {
     "name": "stdout",
     "output_type": "stream",
     "text": [
      "              precision    recall  f1-score   support\n",
      "\n",
      "           0       0.86      0.72      0.78       734\n",
      "           1       0.93      0.97      0.95      2729\n",
      "\n",
      "    accuracy                           0.91      3463\n",
      "   macro avg       0.89      0.84      0.86      3463\n",
      "weighted avg       0.91      0.91      0.91      3463\n",
      "\n"
     ]
    }
   ],
   "source": [
    "### Classification Report of current threshold ###\n",
    "\n",
    "y_pred = lr.predict(X_test)\n",
    "class_report = classification_report(y_test,y_pred)\n",
    "\n",
    "print(class_report)"
   ]
  },
  {
   "cell_type": "markdown",
   "id": "daabc7da",
   "metadata": {},
   "source": [
    "## Visualize accuracy with Confusion Matrix <a class=\"anchor\" id=\"cm\"></a>"
   ]
  },
  {
   "cell_type": "code",
   "execution_count": 36,
   "id": "50496c74",
   "metadata": {},
   "outputs": [
    {
     "name": "stdout",
     "output_type": "stream",
     "text": [
      "The recall score is: 0.97\n",
      "The precision score is: 0.93 \n",
      "\n",
      "Accuracy score is: 0.91\n",
      "The F1 score is: 0.95\n"
     ]
    },
    {
     "data": {
      "image/png": "[encoded data removed]",
      "text/plain": [
       "<Figure size 576x396 with 2 Axes>"
      ]
     },
     "metadata": {},
     "output_type": "display_data"
    }
   ],
   "source": [
    "### Get Confusion Matrix ###\n",
    "y_pred = lr.predict(X_test)\n",
    "cm = confusion_matrix(y_test, y_pred)\n",
    "\n",
    "### Visualize Confusion Matrix ###\n",
    "groupNames = [\"True Neg\", \"False Pos\", \"False Neg\", \"True Pos\"]\n",
    "groupCount = [\"{0:0.0f}\".format(value) for value in\n",
    "                cm.flatten()]\n",
    "groupPercent = [\"{0:.2%}\".format(value) for value in\n",
    "                     cm.flatten()/np.sum(cm)]\n",
    "labels = [f\"{v1}\\n{v2}\\n{v3}\" for v1, v2, v3 in\n",
    "          zip(groupNames,groupCount,groupPercent)]\n",
    "labels = np.asarray(labels).reshape(2,2)\n",
    "\n",
    "sns.heatmap(cm, annot=labels, fmt='', cmap='rocket', annot_kws={\"fontsize\":20})\n",
    "plt.title(\"Confusion Matrix\")\n",
    "\n",
    "print(\"The recall score is: %.2f\" % recall_score( y_test, y_pred))\n",
    "print(\"The precision score is: %.2f\" % precision_score( y_test, y_pred),\"\\n\")\n",
    "print(\"Accuracy score is: %.2f\" % accuracy_score( y_test, y_pred))\n",
    "print(\"The F1 score is: %.2f\" % f1_score( y_test, y_pred))"
   ]
  },
  {
   "cell_type": "markdown",
   "id": "acabb815",
   "metadata": {},
   "source": [
    "## Best Threshold"
   ]
  },
  {
   "cell_type": "markdown",
   "id": "dc8bb06c",
   "metadata": {},
   "source": [
    "## Optimize Balance accuracy"
   ]
  },
  {
   "cell_type": "code",
   "execution_count": 37,
   "id": "4d0bfb37",
   "metadata": {},
   "outputs": [
    {
     "name": "stdout",
     "output_type": "stream",
     "text": [
      "Balance Accuracy: 0.84287\n",
      "Threshold=0.827, Balance Accuracy=0.88133\n"
     ]
    }
   ],
   "source": [
    "y_pred = lr.predict(X_test)\n",
    "score = balanced_accuracy_score(y_test, y_pred)\n",
    "print('Balance Accuracy: %.5f' % score)\n",
    "\n",
    "# predict probabilities\n",
    "y_pred = lr.predict_proba(X_test)\n",
    "\n",
    "# keep probabilities for the positive outcome only\n",
    "probs = y_pred[:, 1]\n",
    "\n",
    "# define thresholds > test between between 0.0 and 1.0\n",
    "thresholds = np.arange(0.0, 1.0, 0.001)\n",
    "\n",
    "# apply threshold to positive probabilities to create labels\n",
    "def to_labels(pos_probs, threshold):\n",
    "    return (pos_probs >= threshold).astype('int')\n",
    "\n",
    "# evaluate each threshold\n",
    "scores = [balanced_accuracy_score(y_test, to_labels(probs, t)) for t in thresholds]\n",
    "\n",
    "# get best threshold\n",
    "ix = np.argmax(scores)\n",
    "print('Threshold=%.3f, Balance Accuracy=%.5f' % (thresholds[ix], scores[ix]))"
   ]
  },
  {
   "cell_type": "markdown",
   "id": "b7f1e6ab",
   "metadata": {},
   "source": [
    "## Optimize F1 Score"
   ]
  },
  {
   "cell_type": "code",
   "execution_count": 38,
   "id": "5ad4061d",
   "metadata": {},
   "outputs": [
    {
     "name": "stdout",
     "output_type": "stream",
     "text": [
      "F-Score: 0.94710\n",
      "Threshold=0.448, F-Score=0.94900\n"
     ]
    }
   ],
   "source": [
    "y_pred = lr.predict(X_test)\n",
    "score = f1_score(y_test, y_pred)\n",
    "print('F-Score: %.5f' % score)\n",
    "\n",
    "# predict probabilities\n",
    "y_pred = lr.predict_proba(X_test)\n",
    "\n",
    "# keep probabilities for the positive outcome only\n",
    "probs = y_pred[:, 1]\n",
    "\n",
    "# define thresholds > test between between 0.0 and 1.0\n",
    "thresholds = np.arange(0.0, 1.0, 0.001)\n",
    "\n",
    "# apply threshold to positive probabilities to create labels\n",
    "def to_labels(pos_probs, threshold):\n",
    "    return (pos_probs >= threshold).astype('int')\n",
    "\n",
    "# evaluate each threshold\n",
    "scores = [f1_score(y_test, to_labels(probs, t)) for t in thresholds]\n",
    "\n",
    "# get best threshold\n",
    "ix = np.argmax(scores)\n",
    "print('Threshold=%.3f, F-Score=%.5f' % (thresholds[ix], scores[ix]))"
   ]
  },
  {
   "cell_type": "markdown",
   "id": "53d0a1dc",
   "metadata": {},
   "source": [
    "## Optimize Recall"
   ]
  },
  {
   "cell_type": "code",
   "execution_count": 39,
   "id": "28cb1ef7",
   "metadata": {},
   "outputs": [
    {
     "name": "stdout",
     "output_type": "stream",
     "text": [
      "Recall Score: 0.96775\n",
      "Threshold=0.000, Recall Score=1.00000\n"
     ]
    }
   ],
   "source": [
    "from sklearn.metrics import recall_score\n",
    "# evaluate the model\n",
    "#yhat = model.predict(testX)\n",
    "y_pred = lr.predict(X_test)\n",
    "score = recall_score(y_test, y_pred)\n",
    "print('Recall Score: %.5f' % score)\n",
    "\n",
    "# predict probabilities\n",
    "y_pred = lr.predict_proba(X_test)\n",
    "\n",
    "# keep probabilities for the positive outcome only\n",
    "probs = y_pred[:, 1]\n",
    "\n",
    "# define thresholds > test between between 0.0 and 1.0\n",
    "thresholds = np.arange(0.0, 1.0, 0.001)\n",
    "\n",
    "# apply threshold to positive probabilities to create labels\n",
    "def to_labels(pos_probs, threshold):\n",
    "    return (pos_probs >= threshold).astype('int')\n",
    "\n",
    "# evaluate each threshold\n",
    "scores = [recall_score(y_test, to_labels(probs, t)) for t in thresholds]\n",
    "\n",
    "# get best threshold\n",
    "ix = np.argmax(scores)\n",
    "print('Threshold=%.3f, Recall Score=%.5f' % (thresholds[ix], scores[ix]))"
   ]
  },
  {
   "cell_type": "markdown",
   "id": "22bf1348",
   "metadata": {},
   "source": [
    "## Optimize Precision"
   ]
  },
  {
   "cell_type": "code",
   "execution_count": 40,
   "id": "a98c3b10",
   "metadata": {},
   "outputs": [
    {
     "name": "stdout",
     "output_type": "stream",
     "text": [
      "Precision Score: 0.92732\n",
      "Threshold=0.994, Precision Score=0.99785\n"
     ]
    }
   ],
   "source": [
    "from sklearn.metrics import precision_score\n",
    "\n",
    "y_pred = lr.predict(X_test)\n",
    "score = precision_score(y_test, y_pred)\n",
    "print('Precision Score: %.5f' % score)\n",
    "\n",
    "### predict probabilities ###\n",
    "y_pred = lr.predict_proba(X_test)\n",
    "\n",
    "### keep probabilities for the positive outcome only ###\n",
    "probs = y_pred[:, 1]\n",
    "\n",
    "### define thresholds > test between between 0.0 and 1.0 ###\n",
    "thresholds = np.arange(0.0, 1.0, 0.001)\n",
    "\n",
    "### apply threshold to positive probabilities to create labels ###\n",
    "def to_labels(pos_probs, threshold):\n",
    "    return (pos_probs >= threshold).astype('int')\n",
    "\n",
    "### evaluate each threshold ###\n",
    "scores = [precision_score(y_test, to_labels(probs, t)) for t in thresholds]\n",
    "\n",
    "### get best threshold ###\n",
    "ix = np.argmax(scores)\n",
    "print('Threshold=%.3f, Precision Score=%.5f' % (thresholds[ix], scores[ix]))"
   ]
  },
  {
   "cell_type": "code",
   "execution_count": 41,
   "id": "480cfe39",
   "metadata": {},
   "outputs": [],
   "source": [
    "def precision_recall(model, X_test, y_test, threshold):\n",
    "    \n",
    "    y_pred = (model.predict_proba(X_test)[:,1] >= threshold).astype(bool)\n",
    "    cm = confusion_matrix(y_test, y_pred)\n",
    "    \n",
    "    fp = cm[0,1]\n",
    "    tp = cm[1,1]\n",
    "    fn = cm[1,0]\n",
    "    tn = cm[0,0]\n",
    "    \n",
    "    precision = tp/(tp+fp)\n",
    "    recall = tp/(tp+fn)\n",
    "    \n",
    "    bal_acc=balanced_accuracy_score(y_test,y_pred)\n",
    "    \n",
    "    return([precision, recall, bal_acc])"
   ]
  },
  {
   "cell_type": "code",
   "execution_count": 42,
   "id": "e6476d9a",
   "metadata": {},
   "outputs": [],
   "source": [
    "threshold_df = pd.DataFrame(columns=['Precision','Recall', 'Balance Accuracy'])\n",
    "\n",
    "for threshold in np.arange(0.0, 1.0, 0.001):\n",
    "    \n",
    "    threshold_df.loc[threshold] = precision_recall(lr, X_test, y_test, threshold)"
   ]
  },
  {
   "cell_type": "markdown",
   "id": "660fd211",
   "metadata": {},
   "source": [
    "## Best Threshold - Balance Accuracy\n",
    "\n",
    "Balance Accuracy is used when you have imbalanced data."
   ]
  },
  {
   "cell_type": "code",
   "execution_count": 43,
   "id": "440888ad",
   "metadata": {},
   "outputs": [
    {
     "data": {
      "image/png": "[encoded data removed]",
      "text/plain": [
       "<Figure size 1080x648 with 1 Axes>"
      ]
     },
     "metadata": {},
     "output_type": "display_data"
    }
   ],
   "source": [
    "ax = threshold_df.plot(figsize=(15,9))\n",
    "ax.set_xlabel('Threshold')\n",
    "ax.set_title('Precision-Recall vs. Threshold')\n",
    "ax.axvline(0.827, color='black', alpha=0.3)\n",
    "ax.text(0.800,.7,'Optimal Threshold',rotation=90, alpha=0.8, fontsize=16)\n",
    "ax.axvline(0.5, color ='black', alpha = 0.3)\n",
    "ax.text(.485,.7,'Default Threshold',rotation=90, alpha=0.8, fontsize=16);"
   ]
  },
  {
   "cell_type": "markdown",
   "id": "789ff902",
   "metadata": {},
   "source": [
    "## Business Case 1 - Optimize Recall\n",
    "\n",
    "If an airline company use this model they can use this to track their customer sentiment. In this scenario the company would want to optimize the recall because we want to get all of the negative sentiment tweets. The mangers then can analyze the tweets and be able to make an assesment on what needs to be improved for the company."
   ]
  },
  {
   "cell_type": "code",
   "execution_count": 44,
   "id": "c2fe053a",
   "metadata": {},
   "outputs": [
    {
     "data": {
      "image/png": "[encoded data removed]",
      "text/plain": [
       "<Figure size 1080x648 with 1 Axes>"
      ]
     },
     "metadata": {},
     "output_type": "display_data"
    }
   ],
   "source": [
    "ax = threshold_df.plot(figsize=(15,9))\n",
    "ax.set_xlabel('Threshold')\n",
    "ax.set_title('Precision-Recall vs. Threshold')\n",
    "ax.axvline(0.0, color='black', alpha=0.3)\n",
    "ax.text(-0.02,.7,'Optimal Threshold',rotation=90, alpha=0.8, fontsize=16)\n",
    "ax.axvline(0.5, color ='black', alpha = 0.3)\n",
    "ax.text(.485,.7,'Default Threshold',rotation=90, alpha=0.8, fontsize=16);"
   ]
  },
  {
   "cell_type": "markdown",
   "id": "bda49d05",
   "metadata": {},
   "source": [
    "## Business Case 2 - Optimize Precision\n",
    "\n",
    "If airlines have this model, they can predict if the sentiment is negative or positive. They can then have a bot to alert customers with a message if it is a positive sentiment like \"Thank you for flying with us. We look forward seeing you nect time.\" If it is a negtive sentiment, a bot can send a similar tweet saying \"Sorry for the unsatisfactory experience. Can you pleasse dm us.\" The bot can then send an alert to a customer service representative, and a discount or refund can be offered to the customer. \n",
    "\n",
    "\n",
    "In this scenario, we would need to potimize the precision. We want to minimize the false positives. If there are tweets that are positive but are predicted as negative, we don't need bots and customer service representatives wasting time and money on responding to customers.  "
   ]
  },
  {
   "cell_type": "code",
   "execution_count": 45,
   "id": "18cd0a84",
   "metadata": {},
   "outputs": [
    {
     "data": {
      "image/png": "[encoded data removed]",
      "text/plain": [
       "<Figure size 1080x648 with 1 Axes>"
      ]
     },
     "metadata": {},
     "output_type": "display_data"
    }
   ],
   "source": [
    "ax = threshold_df.plot(figsize=(15,9))\n",
    "ax.set_xlabel('Threshold')\n",
    "ax.set_title('Precision-Recall vs. Threshold')\n",
    "ax.axvline(0.994, color='black', alpha=0.3)\n",
    "ax.text(0.980,.7,'Optimal Threshold',rotation=90, alpha=0.8, fontsize=16)\n",
    "ax.axvline(0.5, color ='black', alpha = 0.3)\n",
    "ax.text(.485,.7,'Default Threshold',rotation=90, alpha=0.8, fontsize=16);"
   ]
  },
  {
   "cell_type": "markdown",
   "id": "fb34da5a",
   "metadata": {},
   "source": [
    "# Threshold moved based on Balance Accuracy"
   ]
  },
  {
   "cell_type": "code",
   "execution_count": 46,
   "id": "5b5023c8",
   "metadata": {},
   "outputs": [
    {
     "name": "stdout",
     "output_type": "stream",
     "text": [
      "              precision    recall  f1-score   support\n",
      "\n",
      "           0       0.65      0.89      0.75       734\n",
      "           1       0.97      0.87      0.92      2729\n",
      "\n",
      "    accuracy                           0.87      3463\n",
      "   macro avg       0.81      0.88      0.83      3463\n",
      "weighted avg       0.90      0.87      0.88      3463\n",
      "\n"
     ]
    }
   ],
   "source": [
    "y_pred = (lr.predict_proba(X_test)[:,1] >= 0.827).astype(bool)\n",
    "\n",
    "print(classification_report(y_test,y_pred))"
   ]
  },
  {
   "cell_type": "code",
   "execution_count": 47,
   "id": "99b88398",
   "metadata": {},
   "outputs": [
    {
     "name": "stdout",
     "output_type": "stream",
     "text": [
      "The recall score is: 0.87\n",
      "The precision score is: 0.97 \n",
      "\n",
      "Accuracy score is: 0.87\n",
      "The F1 score is: 0.92\n"
     ]
    },
    {
     "data": {
      "image/png": "[encoded data removed]",
      "text/plain": [
       "<Figure size 576x396 with 2 Axes>"
      ]
     },
     "metadata": {},
     "output_type": "display_data"
    }
   ],
   "source": [
    "### Confusion Matrix with best Threshold ###\n",
    "\n",
    "predictions = lr.predict_proba(X_test)[:,1] >= 0.827\n",
    "\n",
    "print(\"The recall score is: %.2f\" % recall_score( y_test, predictions))\n",
    "print(\"The precision score is: %.2f\" % precision_score( y_test, predictions),\"\\n\")\n",
    "print(\"Accuracy score is: %.2f\" % accuracy_score( y_test, predictions))\n",
    "print(\"The F1 score is: %.2f\" % f1_score( y_test, predictions))\n",
    "\n",
    "groupNames = [\"True Neg\", \"False Pos\", \"False Neg\", \"True Pos\"]\n",
    "groupCount = [\"{0:0.0f}\".format(value) for value in\n",
    "                cm.flatten()]\n",
    "groupPercent = [\"{0:.2%}\".format(value) for value in\n",
    "                     cm.flatten()/np.sum(cm)]\n",
    "labels = [f\"{v1}\\n{v2}\\n{v3}\" for v1, v2, v3 in zip(groupNames,groupCount,groupPercent)]\n",
    "labels = np.asarray(labels).reshape(2,2)\n",
    "\n",
    "cm = confusion_matrix(y_test , predictions )\n",
    "sns.heatmap(cm, annot=labels, annot_kws={\"size\": 20}, fmt=\"\", cmap=\"rocket\")\n",
    "plt.show()"
   ]
  },
  {
   "cell_type": "markdown",
   "id": "4b1e9978",
   "metadata": {},
   "source": [
    "# Summary <a id=\"summary\"></a>\n",
    "\n",
    "This model can help airline companies understand their customer sentiment. Depending on how this model will be used, you can change the threshold based on optimizing the balance accuracy, precision, or recall. \n",
    "\n",
    "Based on this dataset, there are mainly negative sentiments."
   ]
  }
 ],
 "metadata": {
  "kernelspec": {
   "display_name": "Python 3 (ipykernel)",
   "language": "python",
   "name": "python3"
  },
  "language_info": {
   "codemirror_mode": {
    "name": "ipython",
    "version": 3
   },
   "file_extension": ".py",
   "mimetype": "text/x-python",
   "name": "python",
   "nbconvert_exporter": "python",
   "pygments_lexer": "ipython3",
   "version": "3.9.7"
  }
 },
 "nbformat": 4,
 "nbformat_minor": 5
}
